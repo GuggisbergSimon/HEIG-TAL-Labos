{
 "cells": [
  {
   "cell_type": "markdown",
   "metadata": {},
   "source": [
    "<img src=\"https://heig-vd.ch/docs/default-source/doc-global-newsletter/2020-slim.svg\" alt=\"HEIG-VD Logo\" width=\"100\" align=\"right\" /> \n",
    "\n",
    "# Cours TAL - Laboratoire 4<br/>Reconnaissance des entités nommées\n",
    "\n",
    "**Objectif**\n",
    "\n",
    "L'objectif de ce travail est de comparer la reconnaissance des entités nommées (*named entity recognition*, NER) faite par quatre systèmes : NLTK, spaCy (deux modèles, 'en_core_web_sm' et 'en_core_web_lg'), et DistilBERT/NER.  Les données de test en anglais vous sont fournies sur Cyberlearn au format CoNLL.  Pour comparer les systèmes, on utilise la macro-moyenne des scores f1 pour chaque étiquette.  Vous pouvez concevoir l'ensemble du projet par vous-mêmes, ou suivre les indications suivantes."
   ]
  },
  {
   "cell_type": "markdown",
   "metadata": {},
   "source": [
    "## 1. NER avec spaCy et NLTK sur un texte court"
   ]
  },
  {
   "cell_type": "code",
   "metadata": {
    "ExecuteTime": {
     "end_time": "2025-04-17T12:06:45.968590Z",
     "start_time": "2025-04-17T12:06:37.458046Z"
    }
   },
   "source": [
    "import spacy\n",
    "from numpy.f2py.auxfuncs import throw_error\n",
    "from spacy.tokens import Doc"
   ],
   "outputs": [],
   "execution_count": 1
  },
  {
   "cell_type": "code",
   "metadata": {
    "ExecuteTime": {
     "end_time": "2025-04-17T12:07:03.017879Z",
     "start_time": "2025-04-17T12:06:46.011500Z"
    }
   },
   "source": [
    "!python -m spacy download en_core_web_sm \n",
    "# exécuter la ligne ci-dessus une fois, si nécessaire, idem pour en_core_web_lg"
   ],
   "outputs": [
    {
     "name": "stdout",
     "output_type": "stream",
     "text": [
      "Collecting en-core-web-sm==3.8.0\r\n",
      "  Downloading https://github.com/explosion/spacy-models/releases/download/en_core_web_sm-3.8.0/en_core_web_sm-3.8.0-py3-none-any.whl (12.8 MB)\r\n",
      "\u001B[2K     \u001B[90m━━━━━━━━━━━━━━━━━━━━━━━━━━━━━━━━━━━━━━━━\u001B[0m \u001B[32m12.8/12.8 MB\u001B[0m \u001B[31m25.1 MB/s\u001B[0m eta \u001B[36m0:00:00\u001B[0m \u001B[36m0:00:01\u001B[0m\r\n",
      "\u001B[?25h\u001B[38;5;2m✔ Download and installation successful\u001B[0m\r\n",
      "You can now load the package via spacy.load('en_core_web_sm')\r\n"
     ]
    }
   ],
   "execution_count": 2
  },
  {
   "cell_type": "code",
   "metadata": {
    "ExecuteTime": {
     "end_time": "2025-04-17T12:07:07.623539Z",
     "start_time": "2025-04-17T12:07:03.943526Z"
    }
   },
   "source": [
    "nlp = spacy.load(\"en_core_web_sm\")"
   ],
   "outputs": [],
   "execution_count": 3
  },
  {
   "cell_type": "code",
   "metadata": {
    "ExecuteTime": {
     "end_time": "2025-04-17T12:07:07.656873Z",
     "start_time": "2025-04-17T12:07:07.650422Z"
    }
   },
   "source": "raw_text = \"Reinhold Messner made a solo ascent of Mount Everest and was later a member of the European Parliament.\"",
   "outputs": [],
   "execution_count": 4
  },
  {
   "cell_type": "markdown",
   "metadata": {},
   "source": [
    "**1a.** Veuillez traiter ce texte avec la pipeline 'nlp', et pour chaque entité nommée trouvée veuillez afficher les mots qui la composent et son type."
   ]
  },
  {
   "cell_type": "code",
   "metadata": {
    "ExecuteTime": {
     "end_time": "2025-04-17T12:07:07.767002Z",
     "start_time": "2025-04-17T12:07:07.726984Z"
    }
   },
   "source": [
    "doc = nlp(raw_text)\n",
    "\n",
    "for ent in doc.ents:\n",
    "    print(f\"Entité: {ent.text}, Type: {ent.label_}\")"
   ],
   "outputs": [
    {
     "name": "stdout",
     "output_type": "stream",
     "text": [
      "Entité: Reinhold Messner, Type: ORG\n",
      "Entité: Mount Everest, Type: LOC\n",
      "Entité: the European Parliament, Type: ORG\n"
     ]
    }
   ],
   "execution_count": 5
  },
  {
   "cell_type": "code",
   "metadata": {
    "ExecuteTime": {
     "end_time": "2025-04-17T12:07:09.944166Z",
     "start_time": "2025-04-17T12:07:07.897118Z"
    }
   },
   "source": [
    "import nltk\n",
    "#nltk.download('maxent_ne_chunker') \n",
    "#nltk.download('words') \n",
    "# exécuter les deux lignes ci-dessus une fois, si nécessaire"
   ],
   "outputs": [],
   "execution_count": 6
  },
  {
   "cell_type": "markdown",
   "metadata": {},
   "source": [
    "**1b.** Veuillez effectuer avec NLTK la tokenization, le POS tagging et le *NE chunking* de `raw_text` (voir la [documentation NLTK](https://www.nltk.org/api/nltk.chunk.ne_chunk.html#nltk.chunk.ne_chunk)).  Veuillez afficher le résultat et indiquer son type."
   ]
  },
  {
   "cell_type": "code",
   "metadata": {
    "ExecuteTime": {
     "end_time": "2025-04-17T12:07:10.041879Z",
     "start_time": "2025-04-17T12:07:10.021592Z"
    }
   },
   "source": [
    "from nltk.tokenize import word_tokenize\n",
    "from nltk.tag import pos_tag\n",
    "from nltk.chunk import ne_chunk"
   ],
   "outputs": [],
   "execution_count": 7
  },
  {
   "cell_type": "code",
   "metadata": {
    "ExecuteTime": {
     "end_time": "2025-04-17T12:07:10.461860Z",
     "start_time": "2025-04-17T12:07:10.127042Z"
    }
   },
   "source": [
    "nltk.download('maxent_ne_chunker_tab')"
   ],
   "outputs": [
    {
     "name": "stderr",
     "output_type": "stream",
     "text": [
      "[nltk_data] Downloading package maxent_ne_chunker_tab to\n",
      "[nltk_data]     /home/ataor/nltk_data...\n",
      "[nltk_data]   Package maxent_ne_chunker_tab is already up-to-date!\n"
     ]
    },
    {
     "data": {
      "text/plain": [
       "True"
      ]
     },
     "execution_count": 8,
     "metadata": {},
     "output_type": "execute_result"
    }
   ],
   "execution_count": 8
  },
  {
   "cell_type": "code",
   "metadata": {
    "ExecuteTime": {
     "end_time": "2025-04-17T12:07:11.165655Z",
     "start_time": "2025-04-17T12:07:10.491311Z"
    }
   },
   "source": [
    "tokens = word_tokenize(raw_text)\n",
    "pos_tags = pos_tag(tokens)\n",
    "ne_tree = ne_chunk(pos_tags)\n",
    "\n",
    "print(ne_tree)"
   ],
   "outputs": [
    {
     "name": "stdout",
     "output_type": "stream",
     "text": [
      "(S\n",
      "  (PERSON Reinhold/NNP)\n",
      "  (PERSON Messner/NNP)\n",
      "  made/VBD\n",
      "  a/DT\n",
      "  solo/JJ\n",
      "  ascent/NN\n",
      "  of/IN\n",
      "  (PERSON Mount/NNP Everest/NNP)\n",
      "  and/CC\n",
      "  was/VBD\n",
      "  later/RB\n",
      "  a/DT\n",
      "  member/NN\n",
      "  of/IN\n",
      "  the/DT\n",
      "  (ORGANIZATION European/NNP Parliament/NNP)\n",
      "  ./.)\n"
     ]
    }
   ],
   "execution_count": 9
  },
  {
   "cell_type": "markdown",
   "metadata": {},
   "source": [
    "**1c.** Veuillez afficher, pour chaque entité nommée, les mots qui la composent et son type.  Vous pouvez parcourir le résultat précédent avec une boucle `for`, et déterminer si un noeud possède une étiquette avec la fonction `hasattr(noeud, 'label')`."
   ]
  },
  {
   "cell_type": "code",
   "metadata": {
    "ExecuteTime": {
     "end_time": "2025-04-17T12:07:11.217819Z",
     "start_time": "2025-04-17T12:07:11.210979Z"
    }
   },
   "source": [
    "for subtree in ne_tree:\n",
    "    if hasattr(subtree, 'label'):\n",
    "        entity_name = \" \".join(word for word, tag in subtree.leaves())\n",
    "        entity_type = subtree.label()\n",
    "        print(f\"Entité : {entity_name}, Type : {entity_type}\")"
   ],
   "outputs": [
    {
     "name": "stdout",
     "output_type": "stream",
     "text": [
      "Entité : Reinhold, Type : PERSON\n",
      "Entité : Messner, Type : PERSON\n",
      "Entité : Mount Everest, Type : PERSON\n",
      "Entité : European Parliament, Type : ORGANIZATION\n"
     ]
    }
   ],
   "execution_count": 10
  },
  {
   "cell_type": "markdown",
   "metadata": {},
   "source": [
    "**1d.** À ce stade, que pensez-vous de la qualité des résultats de chaque système ?"
   ]
  },
  {
   "cell_type": "markdown",
   "metadata": {},
   "source": [
    "> SpaCy et NLTK produisent des résultats différents. SpaCy détecte correctement \"Mount Everest\" comme une localisation (LOC) et \"the European Parliament\" comme une organisation (ORG), mais classe de manière fausse \"Reinhold Messner\" comme une organisation. NLTK, en revanche, segmente mal les entités et sépare \"Reinhold\" et \"Messner\", bien qu'il les identifie correctement comme des personnes, et il fait une erreur en classant \"Mount Everest\" comme une personne. Globalement, SpaCy semble plus fiable."
   ]
  },
  {
   "cell_type": "markdown",
   "metadata": {},
   "source": [
    "## 2. Prise en main des données de test\n",
    "\n",
    "**2a.** Quel est le format du fichier `eng.test.a.conll` ?  Quelle information contient chaque colonne ?  Quel est le format des tags NE ?\n",
    "\n",
    "Note : ce fichier fait partie des données de test pour la NER sur l'anglais de la conférence [CoNLL](https://www.clips.uantwerpen.be/pages/past-workshops) 2003. On peut lire [ici](https://www.clips.uantwerpen.be/conll2003/ner/) la description de la tâche et les scores obtenus.  On peut trouver une copie des données [ici](https://sourceforge.net/p/text-analysis/svn/1243/tree/text-analysis/trunk/Corpora/CoNLL/2003/) ou [ici](https://github.com/synalp/NER/tree/master/corpus/CoNLL-2003).  Les textes proviennent du [corpus Reuters](http://trec.nist.gov/data/reuters/reuters.html)."
   ]
  },
  {
   "cell_type": "markdown",
   "metadata": {},
   "source": [
    "> Chaque ligne de ce fichier correspond à un mot dans une phrase, et il est structuré en quatre colonnes :\n",
    "> 1. le mot (ou le token)\n",
    "> 2. l'étiquette grammaticale (POS tag) du mot\n",
    "> 3. le chunk\n",
    "> 4. l'étiquette d'entité nommée (NE) au format IOB qui indique si le mot fait partie d'une entité et de quel type (personne, organisation, localisation, ou autre). Les tags NE suivent le format suivant : PER pour une personne, LOC pour un lieu géographique, ORG pour une organisation, MISC pour d'autres entités, et O pour les mots qui ne sont pas des entités nommées."
   ]
  },
  {
   "cell_type": "markdown",
   "metadata": {},
   "source": " **2b.** Veuillez charger les données de `eng.test.a.conll` grâce à la classe `ConllCorpusReader` de NLTK vue dans les labos précédents (voir [documentation](https://www.nltk.org/api/nltk.corpus.reader.conll.html#nltk.corpus.reader.conll.ConllCorpusReader)). Veuillez lire les colonnes qui contiennent les tokens ('words'), les POS tags ('pos') et les informations sur les entités nommées ('chunk') et afficher les quatre premières phrases, accessibles via la méthode `.iob_sents()`."
  },
  {
   "cell_type": "code",
   "metadata": {
    "ExecuteTime": {
     "end_time": "2025-04-17T12:07:11.387162Z",
     "start_time": "2025-04-17T12:07:11.379258Z"
    }
   },
   "source": [
    "from nltk.corpus.reader.conll import ConllCorpusReader"
   ],
   "outputs": [],
   "execution_count": 11
  },
  {
   "cell_type": "code",
   "metadata": {
    "ExecuteTime": {
     "end_time": "2025-04-17T12:07:11.455968Z",
     "start_time": "2025-04-17T12:07:11.444207Z"
    }
   },
   "source": [
    "# Changez ces valeurs selon l'emplacement des fichiers du corpus\n",
    "corpus_root = 'input_data'\n",
    "file_name = 'eng.test.a.conll'\n",
    "\n",
    "reader = ConllCorpusReader(corpus_root, file_name, columntypes=['words', 'pos', 'ignore', 'chunk'])\n",
    "\n",
    "for sent in reader.iob_sents()[:4]:\n",
    "    print(sent)"
   ],
   "outputs": [
    {
     "name": "stdout",
     "output_type": "stream",
     "text": [
      "[]\n",
      "[('CRICKET', 'NNP', 'O'), ('-', ':', 'O'), ('LEICESTERSHIRE', 'NNP', 'I-ORG'), ('TAKE', 'NNP', 'O'), ('OVER', 'IN', 'O'), ('AT', 'NNP', 'O'), ('TOP', 'NNP', 'O'), ('AFTER', 'NNP', 'O'), ('INNINGS', 'NNP', 'O'), ('VICTORY', 'NN', 'O'), ('.', '.', 'O')]\n",
      "[('LONDON', 'NNP', 'I-LOC'), ('1996-08-30', 'CD', 'O')]\n",
      "[('West', 'NNP', 'I-MISC'), ('Indian', 'NNP', 'I-MISC'), ('all-rounder', 'NN', 'O'), ('Phil', 'NNP', 'I-PER'), ('Simmons', 'NNP', 'I-PER'), ('took', 'VBD', 'O'), ('four', 'CD', 'O'), ('for', 'IN', 'O'), ('38', 'CD', 'O'), ('on', 'IN', 'O'), ('Friday', 'NNP', 'O'), ('as', 'IN', 'O'), ('Leicestershire', 'NNP', 'I-ORG'), ('beat', 'VBD', 'O'), ('Somerset', 'NNP', 'I-ORG'), ('by', 'IN', 'O'), ('an', 'DT', 'O'), ('innings', 'NN', 'O'), ('and', 'CC', 'O'), ('39', 'CD', 'O'), ('runs', 'NNS', 'O'), ('in', 'IN', 'O'), ('two', 'CD', 'O'), ('days', 'NNS', 'O'), ('to', 'TO', 'O'), ('take', 'VB', 'O'), ('over', 'IN', 'O'), ('at', 'IN', 'O'), ('the', 'DT', 'O'), ('head', 'NN', 'O'), ('of', 'IN', 'O'), ('the', 'DT', 'O'), ('county', 'NN', 'O'), ('championship', 'NN', 'O'), ('.', '.', 'O')]\n"
     ]
    }
   ],
   "execution_count": 12
  },
  {
   "cell_type": "markdown",
   "metadata": {},
   "source": [
    "**2c.** Veuillez préparer les données pour le test, en ne gardant que les phrases ayant au moins trois (3) tokens (pas 0, 1, 2) :\n",
    "\n",
    "* une variable `test_tokens` contiendra les tokens groupés par phrase (liste de listes de strings)\n",
    "* une variable `test_tags` contiendra tous les tags NE en une seule liste (en vue de l'évaluation)"
   ]
  },
  {
   "cell_type": "code",
   "metadata": {
    "ExecuteTime": {
     "end_time": "2025-04-17T12:07:11.910842Z",
     "start_time": "2025-04-17T12:07:11.536309Z"
    }
   },
   "source": [
    "test_tokens = []\n",
    "test_tags = []\n",
    "\n",
    "for sent in reader.iob_sents():\n",
    "    if len(sent) >= 3:\n",
    "        test_tokens.append([word for word, _, _ in sent])\n",
    "\n",
    "        test_tags.extend([label for _, _, label in sent])\n",
    "\n",
    "print(\"Tokens (premières phrases):\", test_tokens[:4])  # 4 premières phrases\n",
    "print(\"Tags NE (premiers tags):\", test_tags[:20])  # 20 premiers tags NE"
   ],
   "outputs": [
    {
     "name": "stdout",
     "output_type": "stream",
     "text": [
      "Tokens (premières phrases): [['CRICKET', '-', 'LEICESTERSHIRE', 'TAKE', 'OVER', 'AT', 'TOP', 'AFTER', 'INNINGS', 'VICTORY', '.'], ['West', 'Indian', 'all-rounder', 'Phil', 'Simmons', 'took', 'four', 'for', '38', 'on', 'Friday', 'as', 'Leicestershire', 'beat', 'Somerset', 'by', 'an', 'innings', 'and', '39', 'runs', 'in', 'two', 'days', 'to', 'take', 'over', 'at', 'the', 'head', 'of', 'the', 'county', 'championship', '.'], ['Their', 'stay', 'on', 'top', ',', 'though', ',', 'may', 'be', 'short-lived', 'as', 'title', 'rivals', 'Essex', ',', 'Derbyshire', 'and', 'Surrey', 'all', 'closed', 'in', 'on', 'victory', 'while', 'Kent', 'made', 'up', 'for', 'lost', 'time', 'in', 'their', 'rain-affected', 'match', 'against', 'Nottinghamshire', '.'], ['After', 'bowling', 'Somerset', 'out', 'for', '83', 'on', 'the', 'opening', 'morning', 'at', 'Grace', 'Road', ',', 'Leicestershire', 'extended', 'their', 'first', 'innings', 'by', '94', 'runs', 'before', 'being', 'bowled', 'out', 'for', '296', 'with', 'England', 'discard', 'Andy', 'Caddick', 'taking', 'three', 'for', '83', '.']]\n",
      "Tags NE (premiers tags): ['O', 'O', 'I-ORG', 'O', 'O', 'O', 'O', 'O', 'O', 'O', 'O', 'I-MISC', 'I-MISC', 'O', 'I-PER', 'I-PER', 'O', 'O', 'O', 'O']\n"
     ]
    }
   ],
   "execution_count": 13
  },
  {
   "cell_type": "markdown",
   "metadata": {},
   "source": [
    "**2d.** Combien d'occurrences de tags contient `test_tags`?  Combien de tags différents y a-t-il, et lesquels sont-ils ?  Combien il y a d'occurrences de tags de chaque type ?  Combien de phrases y a-t-il dans `test_tokens` ?"
   ]
  },
  {
   "cell_type": "code",
   "metadata": {
    "ExecuteTime": {
     "end_time": "2025-04-17T12:07:11.950627Z",
     "start_time": "2025-04-17T12:07:11.932346Z"
    }
   },
   "source": [
    "from collections import Counter\n",
    "\n",
    "tag_count = len(test_tags)\n",
    "unique_tags = set(test_tags)\n",
    "tag_frequencies = Counter(test_tags)\n",
    "\n",
    "print(f\"Nombre total d'occurrence de tags : {tag_count}\")\n",
    "print(f\"Nombre de tags uniques : {len(unique_tags)}\")\n",
    "print(f\"Tags uniques : {sorted(list(unique_tags))}\")\n",
    "print(f\"Nombre d'occurrence par type de tags: {dict(tag_frequencies)}\")\n",
    "print(f\"Nombre de phrases: {len(test_tokens)}\")"
   ],
   "outputs": [
    {
     "name": "stdout",
     "output_type": "stream",
     "text": [
      "Nombre total d'occurrence de tags : 50817\n",
      "Nombre de tags uniques : 5\n",
      "Tags uniques : ['I-LOC', 'I-MISC', 'I-ORG', 'I-PER', 'O']\n",
      "Nombre d'occurrence par type de tags: {'O': 42474, 'I-ORG': 2080, 'I-MISC': 1228, 'I-PER': 3097, 'I-LOC': 1938}\n",
      "Nombre de phrases: 2970\n"
     ]
    }
   ],
   "execution_count": 14
  },
  {
   "cell_type": "markdown",
   "metadata": {},
   "source": [
    "## 3. Performances de NLTK pour la NER\n",
    "\n",
    "**3a.** Le NER de NLTK a un jeu de tags différents de celui des données de test.  Veuillez chercher les informations pour compléter la fonction suivante qui convertit chaque tag du NER de NLTK vers le tag correspondant pour les données de test. "
   ]
  },
  {
   "cell_type": "code",
   "metadata": {
    "ExecuteTime": {
     "end_time": "2025-04-17T12:07:12.016292Z",
     "start_time": "2025-04-17T12:07:12.010934Z"
    }
   },
   "source": [
    "def convert_nltk_conll(nltk_tag):\n",
    "    corresp = {'O': 'O',\n",
    "               'ORGANIZATION': 'I-ORG',\n",
    "               'PERSON': 'I-PER',\n",
    "               'LOCATION': 'I-LOC',\n",
    "               'DATE': 'O',\n",
    "               'TIME': 'O',\n",
    "               'MONEY': 'O',\n",
    "               'MISC': 'I-MISC',\n",
    "               'PERCENT': 'O',\n",
    "               'FACILITY': 'I-LOC',\n",
    "               'GPE': 'I-LOC',\n",
    "               'GSP': 'I-PER'}\n",
    "    return corresp.get(nltk_tag, 'O')"
   ],
   "outputs": [],
   "execution_count": 15
  },
  {
   "cell_type": "markdown",
   "metadata": {},
   "source": [
    "**3b.** Veuillez exécuter la NER de NLTK sur chacune des phrases de `test_tokens`, ce qui assure que NLTK aura la même tokenisation que les données de référence.  Veuillez stocker les tags dans une liste unique appelée `nltk_tags`."
   ]
  },
  {
   "cell_type": "code",
   "metadata": {
    "ExecuteTime": {
     "end_time": "2025-04-17T12:07:56.284120Z",
     "start_time": "2025-04-17T12:07:12.075165Z"
    }
   },
   "source": [
    "nltk_tags = []\n",
    "for sents in test_tokens:\n",
    "    chunks = nltk.ne_chunk(nltk.pos_tag(sents))\n",
    "    for chunk in chunks:\n",
    "        if hasattr(chunk, 'label'):\n",
    "            nltk_tags += [chunk.label() for leaf in chunk.leaves()]\n",
    "        else:\n",
    "            nltk_tags += 'O'"
   ],
   "outputs": [],
   "execution_count": 16
  },
  {
   "cell_type": "markdown",
   "metadata": {},
   "source": [
    "**3c.** Veuillez convertir les tags de `nltk_tags` grâce à la fonction précédente, dans une liste appelée `nltk_tags_conv`.  Veuillez afficher le nombre total de tags et les dix premiers.  Vous pouvez plusieurs essais en changeant la fonction, pour aboutir à la conversion qui maximise le score."
   ]
  },
  {
   "cell_type": "code",
   "metadata": {
    "ExecuteTime": {
     "end_time": "2025-04-17T12:07:56.452074Z",
     "start_time": "2025-04-17T12:07:56.313104Z"
    }
   },
   "source": [
    "nltk_tags_conv = [convert_nltk_conll(tag) for tag in nltk_tags]\n",
    "\n",
    "print(\"Nombre total de tags :\", len(nltk_tags_conv))\n",
    "print(\"Dix premiers tags :\", nltk_tags_conv[:10])"
   ],
   "outputs": [
    {
     "name": "stdout",
     "output_type": "stream",
     "text": [
      "Nombre total de tags : 50817\n",
      "Dix premiers tags : ['I-LOC', 'O', 'I-ORG', 'O', 'O', 'O', 'I-ORG', 'O', 'I-ORG', 'O']\n"
     ]
    }
   ],
   "execution_count": 17
  },
  {
   "cell_type": "markdown",
   "metadata": {},
   "source": [
    "**3d.** Veuillez afficher le rapport d'évaluation de classification obtenu de Scikit-learn et la matrice de confusion pour tous les types de tags apparaissant dans les données de test."
   ]
  },
  {
   "cell_type": "code",
   "metadata": {
    "ExecuteTime": {
     "end_time": "2025-04-17T12:07:56.490488Z",
     "start_time": "2025-04-17T12:07:56.481891Z"
    }
   },
   "source": [
    "from sklearn.metrics import classification_report, confusion_matrix\n",
    "import seaborn as sns\n",
    "import matplotlib.pyplot as plt\n",
    "\n",
    "if len(nltk_tags_conv) != len(test_tags):\n",
    "    print(f\"Erreur: nombres de tags différents - nltk: {len(nltk_tags_conv)}, référence: {len(test_tags)}\")"
   ],
   "outputs": [],
   "execution_count": 18
  },
  {
   "cell_type": "code",
   "metadata": {
    "ExecuteTime": {
     "end_time": "2025-04-17T12:07:57.782984Z",
     "start_time": "2025-04-17T12:07:56.578465Z"
    }
   },
   "source": "print(classification_report(test_tags, nltk_tags_conv, zero_division=0))",
   "outputs": [
    {
     "name": "stdout",
     "output_type": "stream",
     "text": [
      "              precision    recall  f1-score   support\n",
      "\n",
      "       I-LOC       0.55      0.72      0.62      1938\n",
      "      I-MISC       0.00      0.00      0.00      1228\n",
      "       I-ORG       0.51      0.35      0.41      2080\n",
      "       I-PER       0.76      0.75      0.75      3097\n",
      "           O       0.96      0.99      0.97     42474\n",
      "\n",
      "    accuracy                           0.91     50817\n",
      "   macro avg       0.55      0.56      0.55     50817\n",
      "weighted avg       0.89      0.91      0.90     50817\n",
      "\n"
     ]
    }
   ],
   "execution_count": 19
  },
  {
   "cell_type": "code",
   "metadata": {
    "ExecuteTime": {
     "end_time": "2025-04-17T12:07:58.729867Z",
     "start_time": "2025-04-17T12:07:57.814925Z"
    }
   },
   "source": [
    "# Matrice de confusion\n",
    "labels = sorted(list(set(test_tags)))\n",
    "cm = confusion_matrix(test_tags, nltk_tags_conv, labels=labels)\n",
    "\n",
    "plt.figure(figsize=(10, 8))\n",
    "sns.heatmap(cm, annot=True, fmt=\"d\", cmap=\"Blues\",\n",
    "            xticklabels=labels, yticklabels=labels)\n",
    "plt.xlabel('Prédictions')\n",
    "plt.ylabel('Vraies étiquettes')\n",
    "plt.title('Matrice de confusion pour NER avec NLTK')\n",
    "plt.show()"
   ],
   "outputs": [
    {
     "data": {
      "text/plain": [
       "<Figure size 1000x800 with 2 Axes>"
      ],
      "image/png": "[encoded data removed]"
     },
     "metadata": {},
     "output_type": "display_data"
    }
   ],
   "execution_count": 20
  },
  {
   "cell_type": "markdown",
   "metadata": {},
   "source": [
    "## 4. Performances de spaCy pour la NER\n",
    "\n",
    "**4a.** Le NER de spaCy a aussi un jeu de tags différents de celui des données de test.  Veuillez chercher les informations pour compléter la fonction suivante qui convertir chaque tag du NER de spaCy dans le tag correspondant pour les données de test.  Attention à la logique des conversions. "
   ]
  },
  {
   "cell_type": "code",
   "metadata": {
    "ExecuteTime": {
     "end_time": "2025-04-17T12:07:58.808830Z",
     "start_time": "2025-04-17T12:07:58.799375Z"
    }
   },
   "source": [
    "def convert_spacy_conll(spacy_tag):\n",
    "    corresp = {\n",
    "        'O': 'O',\n",
    "        'PERSON': 'I-PER',\n",
    "        'ORG': 'I-ORG',\n",
    "        'GPE': 'I-LOC',\n",
    "        'LOC': 'I-LOC',\n",
    "        'FAC': 'I-LOC',\n",
    "        'PRODUCT': 'I-MISC',\n",
    "        'EVENT': 'I-MISC',\n",
    "        'WORK_OF_ART': 'I-MISC',\n",
    "        'LAW': 'I-MISC',\n",
    "        'LANGUAGE': 'I-MISC',\n",
    "        'NORP': 'I-MISC',\n",
    "    }\n",
    "\n",
    "    return corresp.get(spacy_tag, 'O')"
   ],
   "outputs": [],
   "execution_count": 21
  },
  {
   "cell_type": "markdown",
   "metadata": {},
   "source": [
    "**4b.** Veuillez exécuter la NER de spaCy sur chacune des phrases de `test_tokens`, ce qui assure que spaCy aura la même tokenisation que les données de référence.  Veuillez stocker les tags dans une liste unique appelée `spacy_tags`."
   ]
  },
  {
   "cell_type": "code",
   "metadata": {
    "ExecuteTime": {
     "end_time": "2025-04-17T12:08:28.825923Z",
     "start_time": "2025-04-17T12:07:58.868941Z"
    }
   },
   "source": [
    "spacy_tags = []\n",
    "for sents in test_tokens:\n",
    "    chunks = nlp(Doc(nlp.vocab, sents))\n",
    "    for chunk in chunks:\n",
    "        if chunk.ent_iob != 2 :\n",
    "            spacy_tags.append(chunk.ent_type_)\n",
    "        else:\n",
    "            spacy_tags.append('O')"
   ],
   "outputs": [],
   "execution_count": 22
  },
  {
   "cell_type": "markdown",
   "metadata": {},
   "source": [
    "**4c.** Veuillez convertir les tags de `spacy_tags` grâce à la fonction précédente, dans une liste appelée `spacy_tags_conv`.  Veuillez afficher le nombre total de tags et les dix premiers.  Vous pouvez plusieurs essais en changeant la fonction, pour aboutir à la conversion qui maximise le score."
   ]
  },
  {
   "cell_type": "code",
   "metadata": {
    "ExecuteTime": {
     "end_time": "2025-04-17T12:08:28.919635Z",
     "start_time": "2025-04-17T12:08:28.848544Z"
    }
   },
   "source": [
    "spacy_tags_conv = [convert_spacy_conll(tag) for tag in spacy_tags]\n",
    "print(\"Nombre total de tags :\", len(spacy_tags_conv))\n",
    "print(\"Dix premiers tags :\", spacy_tags_conv[:10])"
   ],
   "outputs": [
    {
     "name": "stdout",
     "output_type": "stream",
     "text": [
      "Nombre total de tags : 50817\n",
      "Dix premiers tags : ['O', 'O', 'O', 'O', 'O', 'O', 'O', 'O', 'O', 'O']\n"
     ]
    }
   ],
   "execution_count": 23
  },
  {
   "cell_type": "markdown",
   "metadata": {},
   "source": [
    "**4d.** Veuillez afficher le rapport d'évaluation de classification obtenu de Scikit-learn et la matrice de confusion pour tous les types de tags apparaissant dans les données de test."
   ]
  },
  {
   "cell_type": "code",
   "metadata": {
    "ExecuteTime": {
     "end_time": "2025-04-17T12:08:29.816032Z",
     "start_time": "2025-04-17T12:08:28.953735Z"
    }
   },
   "source": "print(classification_report(test_tags, spacy_tags_conv, zero_division=0))",
   "outputs": [
    {
     "name": "stdout",
     "output_type": "stream",
     "text": [
      "              precision    recall  f1-score   support\n",
      "\n",
      "       I-LOC       0.79      0.80      0.80      1938\n",
      "      I-MISC       0.70      0.62      0.66      1228\n",
      "       I-ORG       0.52      0.52      0.52      2080\n",
      "       I-PER       0.83      0.71      0.77      3097\n",
      "           O       0.97      0.98      0.97     42474\n",
      "\n",
      "    accuracy                           0.93     50817\n",
      "   macro avg       0.76      0.73      0.74     50817\n",
      "weighted avg       0.93      0.93      0.93     50817\n",
      "\n"
     ]
    }
   ],
   "execution_count": 24
  },
  {
   "metadata": {
    "ExecuteTime": {
     "end_time": "2025-04-17T12:08:30.651173Z",
     "start_time": "2025-04-17T12:08:29.914376Z"
    }
   },
   "cell_type": "code",
   "source": [
    "labels = sorted(list(set(test_tags)))\n",
    "cm = confusion_matrix(test_tags, nltk_tags_conv, labels=labels)\n",
    "\n",
    "plt.figure(figsize=(10, 8))\n",
    "sns.heatmap(cm, annot=True, fmt=\"d\", cmap=\"Blues\",\n",
    "            xticklabels=labels, yticklabels=labels)\n",
    "plt.xlabel('Prédictions')\n",
    "plt.ylabel('Vraies étiquettes')\n",
    "plt.title('Matrice de confusion pour NER avec NLTK')\n",
    "plt.show()"
   ],
   "outputs": [
    {
     "data": {
      "text/plain": [
       "<Figure size 1000x800 with 2 Axes>"
      ],
      "image/png": "[encoded data removed]"
     },
     "metadata": {},
     "output_type": "display_data"
    }
   ],
   "execution_count": 25
  },
  {
   "cell_type": "markdown",
   "metadata": {},
   "source": [
    "**4e.** Veuillez exécuter également le modèle 'en_core_web_lg' de spacy et afficher le rapport d'évaluation (il n'est pas demander d'afficher la matrice de confusion).  Vous pouvez recopier ici le minimum de code nécessaire à l'obtention des résultats, avec une nouvelle pipeline spaCy appelée 'nlp2'."
   ]
  },
  {
   "metadata": {
    "ExecuteTime": {
     "end_time": "2025-04-17T12:08:44.895978Z",
     "start_time": "2025-04-17T12:08:30.671192Z"
    }
   },
   "cell_type": "code",
   "source": "!python -m spacy download en_core_web_lg",
   "outputs": [
    {
     "name": "stdout",
     "output_type": "stream",
     "text": [
      "Collecting en-core-web-lg==3.8.0\r\n",
      "  Downloading https://github.com/explosion/spacy-models/releases/download/en_core_web_lg-3.8.0/en_core_web_lg-3.8.0-py3-none-any.whl (400.7 MB)\r\n",
      "\u001B[2K     \u001B[90m━━━━━━━━━━━━━━━━━━━━━━━━━━━━━━━━━━━━━━\u001B[0m \u001B[32m400.7/400.7 MB\u001B[0m \u001B[31m58.9 MB/s\u001B[0m eta \u001B[36m0:00:00\u001B[0m00:01\u001B[0m00:01\u001B[0m\r\n",
      "\u001B[?25h\u001B[38;5;2m✔ Download and installation successful\u001B[0m\r\n",
      "You can now load the package via spacy.load('en_core_web_lg')\r\n"
     ]
    }
   ],
   "execution_count": 26
  },
  {
   "cell_type": "code",
   "metadata": {
    "ExecuteTime": {
     "end_time": "2025-04-17T12:09:22.912792Z",
     "start_time": "2025-04-17T12:08:44.939266Z"
    }
   },
   "source": [
    "nlp2 = spacy.load(\"en_core_web_lg\")\n",
    "spacy_tags2 = []\n",
    "for sents in test_tokens:\n",
    "    chunks = nlp2(Doc(nlp2.vocab, sents))\n",
    "    for chunk in chunks:\n",
    "        if chunk.ent_iob != 2 :\n",
    "            spacy_tags2.append(chunk.ent_type_)\n",
    "        else:\n",
    "            spacy_tags2.append('O')\n",
    "\n",
    "spacy_tags_conv2 = [convert_spacy_conll(tag) for tag in spacy_tags2]\n",
    "\n",
    "print(classification_report(test_tags, spacy_tags_conv2, zero_division=0))"
   ],
   "outputs": [
    {
     "name": "stdout",
     "output_type": "stream",
     "text": [
      "              precision    recall  f1-score   support\n",
      "\n",
      "       I-LOC       0.75      0.87      0.81      1938\n",
      "      I-MISC       0.84      0.67      0.74      1228\n",
      "       I-ORG       0.55      0.60      0.58      2080\n",
      "       I-PER       0.91      0.82      0.86      3097\n",
      "           O       0.98      0.98      0.98     42474\n",
      "\n",
      "    accuracy                           0.94     50817\n",
      "   macro avg       0.81      0.79      0.79     50817\n",
      "weighted avg       0.94      0.94      0.94     50817\n",
      "\n"
     ]
    }
   ],
   "execution_count": 27
  },
  {
   "cell_type": "markdown",
   "metadata": {},
   "source": [
    "## 5. Utilisation d'embeddings contextualisés fournis par BERT\n",
    "\n",
    "Dans cette section, vous allez évaluer un modèle basé sur le Transformer, qui fournit des embeddings contextualisés pour chaque token.  Ces embeddings sont ensuite utilisés par une couche finale (appelée _NER head_) pour assigner à chaque token une étiquette indiquant les entités nommées.  Le modèle et les instructions pour l'utiliser sont disponibles ici : https://huggingface.co/dslim/distilbert-NER (il s'agit d'une version de BERT \"distillée\" dans un modèle plus léger, suivi du _NER head_).\n",
    "\n",
    "**5a.** Prise en main du modèle : à l'aide des exemples fournis sur Hugging Face, veuillez appliquer DistilBERT_NER sur les 3 premières phrases des données contenues dans `test_tokens` (voir le point 2c) et afficher les résultats obtenus.  Quelles sont les différences avec les résultats de NLTK et de spaCy ?"
   ]
  },
  {
   "cell_type": "code",
   "metadata": {
    "ExecuteTime": {
     "end_time": "2025-04-17T12:09:38.060266Z",
     "start_time": "2025-04-17T12:09:24.198403Z"
    }
   },
   "source": [
    "# Importer les trois classes, créer le tokenizer, le modèle et la pipeline.\n",
    "from transformers import AutoTokenizer, AutoModelForTokenClassification\n",
    "from transformers import pipeline\n",
    "\n",
    "tokenizer = AutoTokenizer.from_pretrained(\"dslim/distilbert-NER\")\n",
    "model = AutoModelForTokenClassification.from_pretrained(\"dslim/distilbert-NER\")\n",
    "\n",
    "nlp = pipeline(\"ner\", model=model, tokenizer=tokenizer)\n",
    "example = \"My name is Wolfgang and I live in Berlin\"\n",
    "\n",
    "ner_results = nlp(example)\n",
    "print(ner_results)\n"
   ],
   "outputs": [
    {
     "name": "stderr",
     "output_type": "stream",
     "text": [
      "/home/ataor/Documents/HEIG/TAL/HEIG-TAL-Labos/.venv/lib/python3.12/site-packages/tqdm/auto.py:21: TqdmWarning: IProgress not found. Please update jupyter and ipywidgets. See https://ipywidgets.readthedocs.io/en/stable/user_install.html\n",
      "  from .autonotebook import tqdm as notebook_tqdm\n",
      "Device set to use cpu\n"
     ]
    },
    {
     "name": "stdout",
     "output_type": "stream",
     "text": [
      "[{'entity': 'B-PER', 'score': np.float32(0.99110633), 'index': 4, 'word': 'Wolfgang', 'start': 11, 'end': 19}, {'entity': 'B-LOC', 'score': np.float32(0.9967968), 'index': 9, 'word': 'Berlin', 'start': 34, 'end': 40}]\n"
     ]
    }
   ],
   "execution_count": 28
  },
  {
   "cell_type": "code",
   "metadata": {
    "ExecuteTime": {
     "end_time": "2025-04-17T12:09:39.591462Z",
     "start_time": "2025-04-17T12:09:39.473297Z"
    }
   },
   "source": [
    "for i in range(3):\n",
    "    sentence = ' '.join(test_tokens[i])\n",
    "    print(f\"Phrase {i+1}: {sentence}\")\n",
    "    results = nlp(sentence)\n",
    "    print(f\"Résultats: {results}\")\n",
    "    print(\"-\" * 50)"
   ],
   "outputs": [
    {
     "name": "stdout",
     "output_type": "stream",
     "text": [
      "Phrase 1: CRICKET - LEICESTERSHIRE TAKE OVER AT TOP AFTER INNINGS VICTORY .\n",
      "Résultats: [{'entity': 'B-PER', 'score': np.float32(0.7077919), 'index': 6, 'word': 'L', 'start': 10, 'end': 11}, {'entity': 'B-PER', 'score': np.float32(0.6600714), 'index': 7, 'word': '##EI', 'start': 11, 'end': 13}, {'entity': 'B-PER', 'score': np.float32(0.630905), 'index': 8, 'word': '##CE', 'start': 13, 'end': 15}, {'entity': 'B-PER', 'score': np.float32(0.7143564), 'index': 9, 'word': '##ST', 'start': 15, 'end': 17}, {'entity': 'B-PER', 'score': np.float32(0.7178323), 'index': 10, 'word': '##ER', 'start': 17, 'end': 19}, {'entity': 'B-PER', 'score': np.float32(0.8095983), 'index': 11, 'word': '##S', 'start': 19, 'end': 20}, {'entity': 'B-PER', 'score': np.float32(0.45343268), 'index': 12, 'word': '##H', 'start': 20, 'end': 21}, {'entity': 'B-PER', 'score': np.float32(0.7269432), 'index': 13, 'word': '##IR', 'start': 21, 'end': 23}, {'entity': 'B-PER', 'score': np.float32(0.76244396), 'index': 14, 'word': '##E', 'start': 23, 'end': 24}]\n",
      "--------------------------------------------------\n",
      "Phrase 2: West Indian all-rounder Phil Simmons took four for 38 on Friday as Leicestershire beat Somerset by an innings and 39 runs in two days to take over at the head of the county championship .\n",
      "Résultats: [{'entity': 'B-MISC', 'score': np.float32(0.99248767), 'index': 1, 'word': 'West', 'start': 0, 'end': 4}, {'entity': 'I-MISC', 'score': np.float32(0.9836288), 'index': 2, 'word': 'Indian', 'start': 5, 'end': 11}, {'entity': 'B-PER', 'score': np.float32(0.9989706), 'index': 7, 'word': 'Phil', 'start': 24, 'end': 28}, {'entity': 'I-PER', 'score': np.float32(0.99917346), 'index': 8, 'word': 'Simmons', 'start': 29, 'end': 36}, {'entity': 'B-ORG', 'score': np.float32(0.97821623), 'index': 16, 'word': 'Leicestershire', 'start': 67, 'end': 81}, {'entity': 'B-ORG', 'score': np.float32(0.9907981), 'index': 18, 'word': 'Somerset', 'start': 87, 'end': 95}]\n",
      "--------------------------------------------------\n",
      "Phrase 3: Their stay on top , though , may be short-lived as title rivals Essex , Derbyshire and Surrey all closed in on victory while Kent made up for lost time in their rain-affected match against Nottinghamshire .\n",
      "Résultats: [{'entity': 'B-ORG', 'score': np.float32(0.99862397), 'index': 16, 'word': 'Essex', 'start': 64, 'end': 69}, {'entity': 'B-ORG', 'score': np.float32(0.9978397), 'index': 18, 'word': 'Derbyshire', 'start': 72, 'end': 82}, {'entity': 'B-ORG', 'score': np.float32(0.9971244), 'index': 20, 'word': 'Surrey', 'start': 87, 'end': 93}, {'entity': 'B-ORG', 'score': np.float32(0.9982888), 'index': 27, 'word': 'Kent', 'start': 125, 'end': 129}, {'entity': 'B-ORG', 'score': np.float32(0.9947102), 'index': 40, 'word': 'Nottinghamshire', 'start': 189, 'end': 204}]\n",
      "--------------------------------------------------\n"
     ]
    }
   ],
   "execution_count": 29
  },
  {
   "cell_type": "markdown",
   "metadata": {},
   "source": [
    "**5b.** Le modèle DistilBERT utilise son propre tokeniseur, c'est pourquoi les étiquettes indiquant les entités nommées sont parfois portées par plusieurs *subwords* composant un mot.  Il faut donc parfois agréger une liste d'étiquettes en une seule.  \n",
    "\n",
    "Veuillez écrire une fonction qui prend en entrée une liste d'étiquettes et retourne une seule étiquette : soit la première, soit celle qui est majoritaire.  Cette fonction sera utilisée plus loin."
   ]
  },
  {
   "cell_type": "code",
   "metadata": {
    "ExecuteTime": {
     "end_time": "2025-04-17T12:10:33.160450Z",
     "start_time": "2025-04-17T12:10:33.152939Z"
    }
   },
   "source": [
    "from collections import Counter\n",
    "\n",
    "def tag_fusion(tag_list, method='first'):  # ou method='majority'\n",
    "    if not tag_list:\n",
    "        return 'O'\n",
    "\n",
    "    if method == 'first':\n",
    "        return tag_list[0]\n",
    "    elif method == 'majority':\n",
    "        tag_counts = Counter(tag_list)\n",
    "        return tag_counts.most_common(1)[0][0]\n",
    "\n",
    "print(tag_fusion(['O', 'B-PER', 'B-PER'], method='majority'))"
   ],
   "outputs": [
    {
     "name": "stdout",
     "output_type": "stream",
     "text": [
      "B-PER\n"
     ]
    }
   ],
   "execution_count": 30
  },
  {
   "cell_type": "markdown",
   "metadata": {},
   "source": [
    "**5c.** Veuillez afficher le `set` des tags apparaissant dans les résultats de DistilBERT_NER sur les 50 premières phrases du corpus.  Comment se comparent-ils aux tags des données de test CoNLL ?"
   ]
  },
  {
   "cell_type": "code",
   "metadata": {
    "ExecuteTime": {
     "end_time": "2025-04-17T12:13:31.739354Z",
     "start_time": "2025-04-17T12:13:27.536147Z"
    }
   },
   "source": [
    "bert_tags_set = set()\n",
    "for i in range(50):\n",
    "    sentence = ' '.join(test_tokens[i])\n",
    "    results = nlp(sentence)\n",
    "    for result in results:\n",
    "        bert_tags_set.add(result['entity'])\n",
    "\n",
    "print(f\"Tags DistilBERT_NER: {sorted(list(bert_tags_set))}\")\n",
    "print(f\"Tags du corpus CoNLL: {sorted(list(set(test_tags)))}\")"
   ],
   "outputs": [
    {
     "name": "stdout",
     "output_type": "stream",
     "text": [
      "Tags DistilBERT_NER: ['B-LOC', 'B-MISC', 'B-ORG', 'B-PER', 'I-LOC', 'I-MISC', 'I-ORG', 'I-PER']\n",
      "Tags du corpus CoNLL: ['I-LOC', 'I-MISC', 'I-ORG', 'I-PER', 'O']\n"
     ]
    }
   ],
   "execution_count": 33
  },
  {
   "metadata": {},
   "cell_type": "markdown",
   "source": "> TODO répondre via comparaison"
  },
  {
   "metadata": {},
   "cell_type": "markdown",
   "source": "**5d.**  Sur le modèle des points 3a et 4a, veuillez écrire une fonction qui convertit les tags générés par DistilBERT_NER aux tags des donnéees de test.  Vous utiliserez cette fonction plus loin."
  },
  {
   "cell_type": "code",
   "metadata": {
    "ExecuteTime": {
     "end_time": "2025-04-17T12:17:20.434174Z",
     "start_time": "2025-04-17T12:17:20.429716Z"
    }
   },
   "source": [
    "def convert_bert_conll(bert_tag):\n",
    "    corresp = {\n",
    "        'O': 'O',\n",
    "        'B-PER': 'I-PER',\n",
    "        'I-PER': 'I-PER',\n",
    "        'B-ORG': 'I-ORG',\n",
    "        'I-ORG': 'I-ORG',\n",
    "        'B-LOC': 'I-LOC',\n",
    "        'I-LOC': 'I-LOC',\n",
    "        'B-MISC': 'I-MISC',\n",
    "        'I-MISC': 'I-MISC'\n",
    "    }\n",
    "    return corresp.get(bert_tag, 'O')"
   ],
   "outputs": [],
   "execution_count": 34
  },
  {
   "cell_type": "markdown",
   "metadata": {},
   "source": [
    "**5e.** La pipeline DistilBERT_NER utilise son propre tokeniseur, qui ne peut pas être changé, car le modèle DistilBERT a été défini et entraîné avec lui.  On doit donc convertir les tokens du modèle à la même tokenisation que celle des données de test, en vue de l'évaluation.  Pour cela, on vous donne la fonction `convert_tokens` ainsi que du code pour la tester.  Veuillez étudier le code pour pouvoir l'utiliser plus bas, puis répondez aux questions ci-après."
   ]
  },
  {
   "cell_type": "code",
   "metadata": {
    "ExecuteTime": {
     "end_time": "2025-04-17T12:19:42.158682Z",
     "start_time": "2025-04-17T12:19:42.153034Z"
    }
   },
   "source": [
    "def convert_tokens(ref_tokens, bert_result, word_ids):\n",
    "    tokenized = tokenizer.tokenize(' '.join(ref_tokens))\n",
    "    all_tags = []\n",
    "    for tok, i in zip(tokenized, range(len(tokenized))):\n",
    "        label = [tag['entity'] for tag in bert_result if tag['index'] == i + 1]\n",
    "        if label:\n",
    "            label = label[0]\n",
    "        else:\n",
    "            label = 'O'\n",
    "        if tok[:2] == '##' or word_ids[i] == word_ids[i - 1]:\n",
    "            all_tags[-1].append(label)\n",
    "        else:\n",
    "            all_tags.append([label])\n",
    "    return [tag_fusion(taglist, method='first') for taglist in all_tags]"
   ],
   "outputs": [],
   "execution_count": 35
  },
  {
   "cell_type": "code",
   "metadata": {
    "ExecuteTime": {
     "end_time": "2025-04-17T12:19:44.313478Z",
     "start_time": "2025-04-17T12:19:44.250152Z"
    }
   },
   "source": [
    "# Test de la fonction convert_tokens:\n",
    "i = 1  # choix de la phrase\n",
    "\n",
    "def print_len(l):\n",
    "    print(len(l), '--', l)\n",
    "\n",
    "print_len(test_tokens[i])  # Affichage 1\n",
    "tokenized_by_bert = tokenizer(test_tokens[i], add_special_tokens=False, is_split_into_words=True)\n",
    "print_len(tokenizer.convert_ids_to_tokens(tokenized_by_bert[\"input_ids\"]))  # Affichage 2\n",
    "print_len(tokenized_by_bert.word_ids())  # Affichage 3\n",
    "tagged_by_bert = nlp(' '.join(test_tokens[i]))\n",
    "print_len(tagged_by_bert)  # Affichage 4\n",
    "print_len(convert_tokens(test_tokens[i], tagged_by_bert, tokenized_by_bert.word_ids()))  # Affichage 5"
   ],
   "outputs": [
    {
     "name": "stdout",
     "output_type": "stream",
     "text": [
      "35 -- ['West', 'Indian', 'all-rounder', 'Phil', 'Simmons', 'took', 'four', 'for', '38', 'on', 'Friday', 'as', 'Leicestershire', 'beat', 'Somerset', 'by', 'an', 'innings', 'and', '39', 'runs', 'in', 'two', 'days', 'to', 'take', 'over', 'at', 'the', 'head', 'of', 'the', 'county', 'championship', '.']\n",
      "38 -- ['West', 'Indian', 'all', '-', 'round', '##er', 'Phil', 'Simmons', 'took', 'four', 'for', '38', 'on', 'Friday', 'as', 'Leicestershire', 'beat', 'Somerset', 'by', 'an', 'innings', 'and', '39', 'runs', 'in', 'two', 'days', 'to', 'take', 'over', 'at', 'the', 'head', 'of', 'the', 'county', 'championship', '.']\n",
      "38 -- [0, 1, 2, 2, 2, 2, 3, 4, 5, 6, 7, 8, 9, 10, 11, 12, 13, 14, 15, 16, 17, 18, 19, 20, 21, 22, 23, 24, 25, 26, 27, 28, 29, 30, 31, 32, 33, 34]\n",
      "6 -- [{'entity': 'B-MISC', 'score': np.float32(0.99248767), 'index': 1, 'word': 'West', 'start': 0, 'end': 4}, {'entity': 'I-MISC', 'score': np.float32(0.9836288), 'index': 2, 'word': 'Indian', 'start': 5, 'end': 11}, {'entity': 'B-PER', 'score': np.float32(0.9989706), 'index': 7, 'word': 'Phil', 'start': 24, 'end': 28}, {'entity': 'I-PER', 'score': np.float32(0.99917346), 'index': 8, 'word': 'Simmons', 'start': 29, 'end': 36}, {'entity': 'B-ORG', 'score': np.float32(0.97821623), 'index': 16, 'word': 'Leicestershire', 'start': 67, 'end': 81}, {'entity': 'B-ORG', 'score': np.float32(0.9907981), 'index': 18, 'word': 'Somerset', 'start': 87, 'end': 95}]\n",
      "35 -- ['B-MISC', 'I-MISC', 'O', 'B-PER', 'I-PER', 'O', 'O', 'O', 'O', 'O', 'O', 'O', 'B-ORG', 'O', 'B-ORG', 'O', 'O', 'O', 'O', 'O', 'O', 'O', 'O', 'O', 'O', 'O', 'O', 'O', 'O', 'O', 'O', 'O', 'O', 'O', 'O']\n"
     ]
    }
   ],
   "execution_count": 36
  },
  {
   "metadata": {},
   "cell_type": "markdown",
   "source": [
    "> Questions TODO\n",
    "> 1. Que représentent les trois paramètres de convert_tokens ? Définissez-les comme dans une docstring.\n",
    "> 2. Que représentent les cinq lignes affichées par le code de test ?\n",
    "> 3. Quels sont les deux problèmes traités par la fonction convert_tokens ?\n"
   ]
  },
  {
   "cell_type": "markdown",
   "metadata": {},
   "source": [
    "**5f.** Veuillez effectuer la reconnaissance des entités nommées avec la pipeline DistilBERT_NER et obtenir la liste finale de tags avec les noms convertis à ceux du jeu de référence grâce à `convert_bert_conll`."
   ]
  },
  {
   "cell_type": "code",
   "metadata": {
    "ExecuteTime": {
     "end_time": "2025-04-17T12:34:13.862742Z",
     "start_time": "2025-04-17T12:32:28.669946Z"
    }
   },
   "source": [
    "#j = 20  # se limiter aux j premières phrases sur les 2970 (utile pendant le développement, mais les utiliser toutes à la fin)\n",
    "bert_tags_conv = []\n",
    "\n",
    "for i in range(len(test_tokens)):\n",
    "    # Tokenize the sentence for DistilBERT\n",
    "    sentence = ' '.join(test_tokens[i])\n",
    "    tokenized_by_bert = tokenizer(test_tokens[i], add_special_tokens=False, is_split_into_words=True)\n",
    "\n",
    "    # Get NER results from DistilBERT\n",
    "    bert_results = nlp(sentence)\n",
    "\n",
    "    # Convert tokens to match reference data\n",
    "    converted_tags = convert_tokens(test_tokens[i], bert_results, tokenized_by_bert.word_ids())\n",
    "\n",
    "    # Convert tags to CoNLL format\n",
    "    converted_tags = [convert_bert_conll(tag) for tag in converted_tags]\n",
    "\n",
    "    # Add to the final list\n",
    "    bert_tags_conv.extend(converted_tags)\n",
    "\n",
    "print(f\"Nombre de tags générés: {len(bert_tags_conv)}\")\n",
    "print(f\"Exemples des premiers tags: {bert_tags_conv[:20]}\")"
   ],
   "outputs": [
    {
     "name": "stdout",
     "output_type": "stream",
     "text": [
      "Nombre de tags générés: 50817\n",
      "Exemples des premiers tags: ['O', 'O', 'I-PER', 'O', 'O', 'O', 'O', 'O', 'O', 'O', 'O', 'I-MISC', 'I-MISC', 'O', 'I-PER', 'I-PER', 'O', 'O', 'O', 'O']\n"
     ]
    }
   ],
   "execution_count": 44
  },
  {
   "cell_type": "markdown",
   "metadata": {},
   "source": [
    "**5g.** En comparant `test_tags` avec `bert_tags_conv`, veuillez afficher le rapport d'évaluation de la classification et la matrice de confusion, pour tous les types de tags apparaissant dans les données de test."
   ]
  },
  {
   "cell_type": "code",
   "metadata": {
    "ExecuteTime": {
     "end_time": "2025-04-17T12:42:20.405337Z",
     "start_time": "2025-04-17T12:42:20.110229Z"
    }
   },
   "source": "print(classification_report(test_tags, bert_tags_conv, zero_division=0))",
   "outputs": [
    {
     "name": "stdout",
     "output_type": "stream",
     "text": [
      "              precision    recall  f1-score   support\n",
      "\n",
      "       I-LOC       0.96      0.96      0.96      1938\n",
      "      I-MISC       0.91      0.89      0.90      1228\n",
      "       I-ORG       0.93      0.93      0.93      2080\n",
      "       I-PER       0.98      0.98      0.98      3097\n",
      "           O       1.00      1.00      1.00     42474\n",
      "\n",
      "    accuracy                           0.99     50817\n",
      "   macro avg       0.95      0.95      0.95     50817\n",
      "weighted avg       0.99      0.99      0.99     50817\n",
      "\n"
     ]
    }
   ],
   "execution_count": 45
  },
  {
   "metadata": {
    "ExecuteTime": {
     "end_time": "2025-04-17T12:42:23.914115Z",
     "start_time": "2025-04-17T12:42:23.598696Z"
    }
   },
   "cell_type": "code",
   "source": [
    "labels = sorted(list(set(test_tags)))\n",
    "cm = confusion_matrix(test_tags, bert_tags_conv, labels=labels)\n",
    "\n",
    "plt.figure(figsize=(10, 8))\n",
    "sns.heatmap(cm, annot=True, fmt=\"d\", cmap=\"Blues\",\n",
    "            xticklabels=labels, yticklabels=labels)\n",
    "plt.xlabel('Prédictions')\n",
    "plt.ylabel('Vraies étiquettes')\n",
    "plt.title('Matrice de confusion pour NER avec NLTK')\n",
    "plt.show()"
   ],
   "outputs": [
    {
     "data": {
      "text/plain": [
       "<Figure size 1000x800 with 2 Axes>"
      ],
      "image/png": "[encoded data removed]"
     },
     "metadata": {},
     "output_type": "display_data"
    }
   ],
   "execution_count": 46
  },
  {
   "cell_type": "markdown",
   "metadata": {},
   "source": [
    "**5h.** Laquelle des deux stratégies de `tag_fusion` (premier tag ou tag majoritaire) conduit à de meilleurs résultats ?  Veuillez effectuer l'expérience et indiquer simplement les scores obtenus et votre conclusion dans le champ suivant.  Pour la conclusion finale, gardez 'first'."
   ]
  },
  {
   "cell_type": "code",
   "metadata": {
    "ExecuteTime": {
     "end_time": "2025-04-17T12:47:05.110800Z",
     "start_time": "2025-04-17T12:47:05.108303Z"
    }
   },
   "source": "",
   "outputs": [],
   "execution_count": null
  },
  {
   "cell_type": "markdown",
   "metadata": {},
   "source": [
    "## 6. Discussion finale\n",
    "\n",
    "Veuillez comparer les scores des quatre modèles testés, en termes de **macro avg**.  Pourquoi ce score est-il le plus informatif ?  Veuillez indiquer également la taille des modèles spaCy évalués."
   ]
  },
  {
   "cell_type": "code",
   "execution_count": null,
   "metadata": {},
   "outputs": [],
   "source": []
  },
  {
   "cell_type": "markdown",
   "metadata": {},
   "source": [
    "**Fin du Labo.** Veuillez nettoyer ce notebook en gardant seulement les résultats désirés, l'enregistrer, et le soumettre comme devoir sur Cyberlearn."
   ]
  }
 ],
 "metadata": {
  "kernelspec": {
   "display_name": "base",
   "language": "python",
   "name": "python3"
  },
  "language_info": {
   "codemirror_mode": {
    "name": "ipython",
    "version": 3
   },
   "file_extension": ".py",
   "mimetype": "text/x-python",
   "name": "python",
   "nbconvert_exporter": "python",
   "pygments_lexer": "ipython3",
   "version": "3.12.7"
  }
 },
 "nbformat": 4,
 "nbformat_minor": 4
}
