{
 "cells": [
  {
   "cell_type": "markdown",
   "metadata": {},
   "source": [
    "<img src=\"https://heig-vd.ch/docs/default-source/doc-global-newsletter/2020-slim.svg\" alt=\"HEIG-VD Logo\" width=\"100\" align=\"right\" /> \n",
    "\n",
    "# Cours TAL - Laboratoire 4<br/>Reconnaissance des entités nommées\n",
    "\n",
    "**Objectif**\n",
    "\n",
    "L'objectif de ce travail est de comparer la reconnaissance des entités nommées (*named entity recognition*, NER) faite par quatre systèmes : NLTK, spaCy (deux modèles, 'en_core_web_sm' et 'en_core_web_lg'), et DistilBERT/NER.  Les données de test en anglais vous sont fournies sur Cyberlearn au format CoNLL.  Pour comparer les systèmes, on utilise la macro-moyenne des scores f1 pour chaque étiquette.  Vous pouvez concevoir l'ensemble du projet par vous-mêmes, ou suivre les indications suivantes."
   ]
  },
  {
   "cell_type": "markdown",
   "metadata": {},
   "source": [
    "## 1. NER avec spaCy et NLTK sur un texte court"
   ]
  },
  {
   "cell_type": "code",
   "execution_count": 1,
   "metadata": {
    "ExecuteTime": {
     "end_time": "2025-04-22T09:38:51.214388Z",
     "start_time": "2025-04-22T09:38:48.933547Z"
    }
   },
   "outputs": [],
   "source": [
    "import spacy\n",
    "from numpy.f2py.auxfuncs import throw_error\n",
    "from spacy.tokens import Doc"
   ]
  },
  {
   "cell_type": "code",
   "execution_count": 2,
   "metadata": {
    "ExecuteTime": {
     "end_time": "2025-04-22T09:38:56.414910Z",
     "start_time": "2025-04-22T09:38:51.239901Z"
    }
   },
   "outputs": [
    {
     "name": "stdout",
     "output_type": "stream",
     "text": [
      "Collecting en-core-web-sm==3.8.0\n",
      "  Downloading https://github.com/explosion/spacy-models/releases/download/en_core_web_sm-3.8.0/en_core_web_sm-3.8.0-py3-none-any.whl (12.8 MB)\n",
      "\u001b[2K     \u001b[90m━━━━━━━━━━━━━━━━━━━━━━━━━━━━━━━━━━━━━━━━\u001b[0m \u001b[32m12.8/12.8 MB\u001b[0m \u001b[31m26.5 MB/s\u001b[0m eta \u001b[36m0:00:00\u001b[0ma \u001b[36m0:00:01\u001b[0m\n",
      "\u001b[?25h\n",
      "\u001b[1m[\u001b[0m\u001b[34;49mnotice\u001b[0m\u001b[1;39;49m]\u001b[0m\u001b[39;49m A new release of pip is available: \u001b[0m\u001b[31;49m25.0.1\u001b[0m\u001b[39;49m -> \u001b[0m\u001b[32;49m25.1\u001b[0m\n",
      "\u001b[1m[\u001b[0m\u001b[34;49mnotice\u001b[0m\u001b[1;39;49m]\u001b[0m\u001b[39;49m To update, run: \u001b[0m\u001b[32;49mpip install --upgrade pip\u001b[0m\n",
      "\u001b[38;5;2m✔ Download and installation successful\u001b[0m\n",
      "You can now load the package via spacy.load('en_core_web_sm')\n"
     ]
    }
   ],
   "source": [
    "!python -m spacy download en_core_web_sm \n",
    "# exécuter la ligne ci-dessus une fois, si nécessaire, idem pour en_core_web_lg"
   ]
  },
  {
   "cell_type": "code",
   "execution_count": 49,
   "metadata": {
    "ExecuteTime": {
     "end_time": "2025-04-22T12:30:35.947703Z",
     "start_time": "2025-04-22T12:30:35.453379Z"
    }
   },
   "outputs": [],
   "source": [
    "nlp = spacy.load(\"en_core_web_sm\")"
   ]
  },
  {
   "cell_type": "code",
   "execution_count": 4,
   "metadata": {
    "ExecuteTime": {
     "end_time": "2025-04-22T09:38:56.771075Z",
     "start_time": "2025-04-22T09:38:56.767893Z"
    }
   },
   "outputs": [],
   "source": [
    "raw_text = \"Reinhold Messner made a solo ascent of Mount Everest and was later a member of the European Parliament.\""
   ]
  },
  {
   "cell_type": "markdown",
   "metadata": {},
   "source": [
    "**1a.** Veuillez traiter ce texte avec la pipeline 'nlp', et pour chaque entité nommée trouvée veuillez afficher les mots qui la composent et son type."
   ]
  },
  {
   "cell_type": "code",
   "execution_count": 5,
   "metadata": {
    "ExecuteTime": {
     "end_time": "2025-04-22T09:38:56.786340Z",
     "start_time": "2025-04-22T09:38:56.776342Z"
    }
   },
   "outputs": [
    {
     "name": "stdout",
     "output_type": "stream",
     "text": [
      "Entité: Reinhold Messner, Type: ORG\n",
      "Entité: Mount Everest, Type: LOC\n",
      "Entité: the European Parliament, Type: ORG\n"
     ]
    }
   ],
   "source": [
    "doc = nlp(raw_text)\n",
    "\n",
    "for ent in doc.ents:\n",
    "    print(f\"Entité: {ent.text}, Type: {ent.label_}\")"
   ]
  },
  {
   "cell_type": "code",
   "execution_count": 6,
   "metadata": {
    "ExecuteTime": {
     "end_time": "2025-04-22T09:38:56.967767Z",
     "start_time": "2025-04-22T09:38:56.810108Z"
    }
   },
   "outputs": [],
   "source": [
    "import nltk\n",
    "#nltk.download('maxent_ne_chunker') \n",
    "#nltk.download('words') \n",
    "# exécuter les deux lignes ci-dessus une fois, si nécessaire"
   ]
  },
  {
   "cell_type": "markdown",
   "metadata": {},
   "source": [
    "**1b.** Veuillez effectuer avec NLTK la tokenization, le POS tagging et le *NE chunking* de `raw_text` (voir la [documentation NLTK](https://www.nltk.org/api/nltk.chunk.ne_chunk.html#nltk.chunk.ne_chunk)).  Veuillez afficher le résultat et indiquer son type."
   ]
  },
  {
   "cell_type": "code",
   "execution_count": 7,
   "metadata": {
    "ExecuteTime": {
     "end_time": "2025-04-22T09:38:56.973935Z",
     "start_time": "2025-04-22T09:38:56.971104Z"
    }
   },
   "outputs": [],
   "source": [
    "from nltk.tokenize import word_tokenize\n",
    "from nltk.tag import pos_tag\n",
    "from nltk.chunk import ne_chunk"
   ]
  },
  {
   "cell_type": "code",
   "execution_count": 8,
   "metadata": {
    "ExecuteTime": {
     "end_time": "2025-04-22T09:38:57.153482Z",
     "start_time": "2025-04-22T09:38:56.998166Z"
    }
   },
   "outputs": [
    {
     "name": "stderr",
     "output_type": "stream",
     "text": [
      "[nltk_data] Downloading package maxent_ne_chunker_tab to\n",
      "[nltk_data]     C:\\Users\\Ataor\\AppData\\Roaming\\nltk_data...\n",
      "[nltk_data]   Package maxent_ne_chunker_tab is already up-to-date!\n",
      "[nltk_data] Downloading package punkt_tab to\n",
      "[nltk_data]     C:\\Users\\Ataor\\AppData\\Roaming\\nltk_data...\n",
      "[nltk_data]   Package punkt_tab is already up-to-date!\n",
      "[nltk_data] Downloading package averaged_perceptron_tagger_eng to\n",
      "[nltk_data]     C:\\Users\\Ataor\\AppData\\Roaming\\nltk_data...\n",
      "[nltk_data]   Package averaged_perceptron_tagger_eng is already up-to-\n",
      "[nltk_data]       date!\n",
      "[nltk_data] Downloading package words to\n",
      "[nltk_data]     C:\\Users\\Ataor\\AppData\\Roaming\\nltk_data...\n",
      "[nltk_data]   Package words is already up-to-date!\n"
     ]
    },
    {
     "data": {
      "text/plain": [
       "True"
      ]
     },
     "execution_count": 8,
     "metadata": {},
     "output_type": "execute_result"
    }
   ],
   "source": [
    "nltk.download('maxent_ne_chunker_tab')\n",
    "nltk.download('punkt_tab')\n",
    "nltk.download('averaged_perceptron_tagger_eng')\n",
    "nltk.download('words')"
   ]
  },
  {
   "cell_type": "code",
   "execution_count": 9,
   "metadata": {
    "ExecuteTime": {
     "end_time": "2025-04-22T09:38:57.393212Z",
     "start_time": "2025-04-22T09:38:57.160353Z"
    }
   },
   "outputs": [
    {
     "name": "stdout",
     "output_type": "stream",
     "text": [
      "(S\n",
      "  (PERSON Reinhold/NNP)\n",
      "  (PERSON Messner/NNP)\n",
      "  made/VBD\n",
      "  a/DT\n",
      "  solo/JJ\n",
      "  ascent/NN\n",
      "  of/IN\n",
      "  (PERSON Mount/NNP Everest/NNP)\n",
      "  and/CC\n",
      "  was/VBD\n",
      "  later/RB\n",
      "  a/DT\n",
      "  member/NN\n",
      "  of/IN\n",
      "  the/DT\n",
      "  (ORGANIZATION European/NNP Parliament/NNP)\n",
      "  ./.)\n"
     ]
    }
   ],
   "source": [
    "tokens = word_tokenize(raw_text)\n",
    "pos_tags = pos_tag(tokens)\n",
    "ne_tree = ne_chunk(pos_tags)\n",
    "\n",
    "print(ne_tree)"
   ]
  },
  {
   "cell_type": "markdown",
   "metadata": {},
   "source": [
    "**1c.** Veuillez afficher, pour chaque entité nommée, les mots qui la composent et son type.  Vous pouvez parcourir le résultat précédent avec une boucle `for`, et déterminer si un noeud possède une étiquette avec la fonction `hasattr(noeud, 'label')`."
   ]
  },
  {
   "cell_type": "code",
   "execution_count": 10,
   "metadata": {
    "ExecuteTime": {
     "end_time": "2025-04-22T09:38:57.404377Z",
     "start_time": "2025-04-22T09:38:57.400604Z"
    }
   },
   "outputs": [
    {
     "name": "stdout",
     "output_type": "stream",
     "text": [
      "Entité : Reinhold, Type : PERSON\n",
      "Entité : Messner, Type : PERSON\n",
      "Entité : Mount Everest, Type : PERSON\n",
      "Entité : European Parliament, Type : ORGANIZATION\n"
     ]
    }
   ],
   "source": [
    "for subtree in ne_tree:\n",
    "    if hasattr(subtree, 'label'):\n",
    "        entity_name = \" \".join(word for word, tag in subtree.leaves())\n",
    "        entity_type = subtree.label()\n",
    "        print(f\"Entité : {entity_name}, Type : {entity_type}\")"
   ]
  },
  {
   "cell_type": "markdown",
   "metadata": {},
   "source": [
    "**1d.** À ce stade, que pensez-vous de la qualité des résultats de chaque système ?"
   ]
  },
  {
   "cell_type": "markdown",
   "metadata": {},
   "source": [
    "> SpaCy et NLTK produisent des résultats différents. SpaCy détecte correctement \"Mount Everest\" comme une localisation (LOC) et \"the European Parliament\" comme une organisation (ORG), mais classe de manière fausse \"Reinhold Messner\" comme une organisation. NLTK, en revanche, segmente mal les entités et sépare \"Reinhold\" et \"Messner\", bien qu'il les identifie correctement comme des personnes, et il fait une erreur en classant \"Mount Everest\" comme une personne. Globalement, SpaCy semble plus fiable."
   ]
  },
  {
   "cell_type": "markdown",
   "metadata": {},
   "source": [
    "## 2. Prise en main des données de test\n",
    "\n",
    "**2a.** Quel est le format du fichier `eng.test.a.conll` ?  Quelle information contient chaque colonne ?  Quel est le format des tags NE ?\n",
    "\n",
    "Note : ce fichier fait partie des données de test pour la NER sur l'anglais de la conférence [CoNLL](https://www.clips.uantwerpen.be/pages/past-workshops) 2003. On peut lire [ici](https://www.clips.uantwerpen.be/conll2003/ner/) la description de la tâche et les scores obtenus.  On peut trouver une copie des données [ici](https://sourceforge.net/p/text-analysis/svn/1243/tree/text-analysis/trunk/Corpora/CoNLL/2003/) ou [ici](https://github.com/synalp/NER/tree/master/corpus/CoNLL-2003).  Les textes proviennent du [corpus Reuters](http://trec.nist.gov/data/reuters/reuters.html)."
   ]
  },
  {
   "cell_type": "markdown",
   "metadata": {},
   "source": [
    "> Chaque ligne de ce fichier correspond à un mot dans une phrase, et il est structuré en quatre colonnes :\n",
    "> 1. le mot (ou le token)\n",
    "> 2. l'étiquette grammaticale (POS tag) du mot\n",
    "> 3. le chunk\n",
    "> 4. l'étiquette d'entité nommée (NE) au format IOB qui indique si le mot fait partie d'une entité et de quel type (personne, organisation, localisation, ou autre). Les tags NE suivent le format suivant : PER pour une personne, LOC pour un lieu géographique, ORG pour une organisation, MISC pour d'autres entités, et O pour les mots qui ne sont pas des entités nommées."
   ]
  },
  {
   "cell_type": "markdown",
   "metadata": {},
   "source": [
    " **2b.** Veuillez charger les données de `eng.test.a.conll` grâce à la classe `ConllCorpusReader` de NLTK vue dans les labos précédents (voir [documentation](https://www.nltk.org/api/nltk.corpus.reader.conll.html#nltk.corpus.reader.conll.ConllCorpusReader)). Veuillez lire les colonnes qui contiennent les tokens ('words'), les POS tags ('pos') et les informations sur les entités nommées ('chunk') et afficher les quatre premières phrases, accessibles via la méthode `.iob_sents()`."
   ]
  },
  {
   "cell_type": "code",
   "execution_count": 11,
   "metadata": {
    "ExecuteTime": {
     "end_time": "2025-04-22T09:38:57.429120Z",
     "start_time": "2025-04-22T09:38:57.426937Z"
    }
   },
   "outputs": [],
   "source": [
    "from nltk.corpus.reader.conll import ConllCorpusReader"
   ]
  },
  {
   "cell_type": "code",
   "execution_count": 12,
   "metadata": {
    "ExecuteTime": {
     "end_time": "2025-04-22T09:38:57.445748Z",
     "start_time": "2025-04-22T09:38:57.442357Z"
    }
   },
   "outputs": [
    {
     "name": "stdout",
     "output_type": "stream",
     "text": [
      "[]\n",
      "[('CRICKET', 'NNP', 'O'), ('-', ':', 'O'), ('LEICESTERSHIRE', 'NNP', 'I-ORG'), ('TAKE', 'NNP', 'O'), ('OVER', 'IN', 'O'), ('AT', 'NNP', 'O'), ('TOP', 'NNP', 'O'), ('AFTER', 'NNP', 'O'), ('INNINGS', 'NNP', 'O'), ('VICTORY', 'NN', 'O'), ('.', '.', 'O')]\n",
      "[('LONDON', 'NNP', 'I-LOC'), ('1996-08-30', 'CD', 'O')]\n",
      "[('West', 'NNP', 'I-MISC'), ('Indian', 'NNP', 'I-MISC'), ('all-rounder', 'NN', 'O'), ('Phil', 'NNP', 'I-PER'), ('Simmons', 'NNP', 'I-PER'), ('took', 'VBD', 'O'), ('four', 'CD', 'O'), ('for', 'IN', 'O'), ('38', 'CD', 'O'), ('on', 'IN', 'O'), ('Friday', 'NNP', 'O'), ('as', 'IN', 'O'), ('Leicestershire', 'NNP', 'I-ORG'), ('beat', 'VBD', 'O'), ('Somerset', 'NNP', 'I-ORG'), ('by', 'IN', 'O'), ('an', 'DT', 'O'), ('innings', 'NN', 'O'), ('and', 'CC', 'O'), ('39', 'CD', 'O'), ('runs', 'NNS', 'O'), ('in', 'IN', 'O'), ('two', 'CD', 'O'), ('days', 'NNS', 'O'), ('to', 'TO', 'O'), ('take', 'VB', 'O'), ('over', 'IN', 'O'), ('at', 'IN', 'O'), ('the', 'DT', 'O'), ('head', 'NN', 'O'), ('of', 'IN', 'O'), ('the', 'DT', 'O'), ('county', 'NN', 'O'), ('championship', 'NN', 'O'), ('.', '.', 'O')]\n"
     ]
    }
   ],
   "source": [
    "# Changez ces valeurs selon l'emplacement des fichiers du corpus\n",
    "corpus_root = 'input_data'\n",
    "file_name = 'eng.test.a.conll'\n",
    "\n",
    "reader = ConllCorpusReader(corpus_root, file_name, columntypes=['words', 'pos', 'ignore', 'chunk'])\n",
    "\n",
    "for sent in reader.iob_sents()[:4]:\n",
    "    print(sent)"
   ]
  },
  {
   "cell_type": "markdown",
   "metadata": {},
   "source": [
    "**2c.** Veuillez préparer les données pour le test, en ne gardant que les phrases ayant au moins trois (3) tokens (pas 0, 1, 2) :\n",
    "\n",
    "* une variable `test_tokens` contiendra les tokens groupés par phrase (liste de listes de strings)\n",
    "* une variable `test_tags` contiendra tous les tags NE en une seule liste (en vue de l'évaluation)"
   ]
  },
  {
   "cell_type": "code",
   "execution_count": 13,
   "metadata": {
    "ExecuteTime": {
     "end_time": "2025-04-22T09:38:57.540834Z",
     "start_time": "2025-04-22T09:38:57.460830Z"
    }
   },
   "outputs": [
    {
     "name": "stdout",
     "output_type": "stream",
     "text": [
      "Tokens (premières phrases): [['CRICKET', '-', 'LEICESTERSHIRE', 'TAKE', 'OVER', 'AT', 'TOP', 'AFTER', 'INNINGS', 'VICTORY', '.'], ['West', 'Indian', 'all-rounder', 'Phil', 'Simmons', 'took', 'four', 'for', '38', 'on', 'Friday', 'as', 'Leicestershire', 'beat', 'Somerset', 'by', 'an', 'innings', 'and', '39', 'runs', 'in', 'two', 'days', 'to', 'take', 'over', 'at', 'the', 'head', 'of', 'the', 'county', 'championship', '.'], ['Their', 'stay', 'on', 'top', ',', 'though', ',', 'may', 'be', 'short-lived', 'as', 'title', 'rivals', 'Essex', ',', 'Derbyshire', 'and', 'Surrey', 'all', 'closed', 'in', 'on', 'victory', 'while', 'Kent', 'made', 'up', 'for', 'lost', 'time', 'in', 'their', 'rain-affected', 'match', 'against', 'Nottinghamshire', '.'], ['After', 'bowling', 'Somerset', 'out', 'for', '83', 'on', 'the', 'opening', 'morning', 'at', 'Grace', 'Road', ',', 'Leicestershire', 'extended', 'their', 'first', 'innings', 'by', '94', 'runs', 'before', 'being', 'bowled', 'out', 'for', '296', 'with', 'England', 'discard', 'Andy', 'Caddick', 'taking', 'three', 'for', '83', '.']]\n",
      "Tags NE (premiers tags): ['O', 'O', 'I-ORG', 'O', 'O', 'O', 'O', 'O', 'O', 'O', 'O', 'I-MISC', 'I-MISC', 'O', 'I-PER', 'I-PER', 'O', 'O', 'O', 'O']\n"
     ]
    }
   ],
   "source": [
    "test_tokens = []\n",
    "test_tags = []\n",
    "\n",
    "for sent in reader.iob_sents():\n",
    "    if len(sent) >= 3:\n",
    "        test_tokens.append([word for word, _, _ in sent])\n",
    "\n",
    "        test_tags.extend([label for _, _, label in sent])\n",
    "\n",
    "print(\"Tokens (premières phrases):\", test_tokens[:4])  # 4 premières phrases\n",
    "print(\"Tags NE (premiers tags):\", test_tags[:20])  # 20 premiers tags NE"
   ]
  },
  {
   "cell_type": "markdown",
   "metadata": {},
   "source": [
    "**2d.** Combien d'occurrences de tags contient `test_tags`?  Combien de tags différents y a-t-il, et lesquels sont-ils ?  Combien il y a d'occurrences de tags de chaque type ?  Combien de phrases y a-t-il dans `test_tokens` ?"
   ]
  },
  {
   "cell_type": "code",
   "execution_count": 30,
   "metadata": {
    "ExecuteTime": {
     "end_time": "2025-04-22T10:04:47.319887Z",
     "start_time": "2025-04-22T10:04:47.312525Z"
    }
   },
   "outputs": [
    {
     "name": "stdout",
     "output_type": "stream",
     "text": [
      "Nombre total d'occurrence de tags : 50817\n",
      "Nombre de tags uniques : 5\n",
      "Tags uniques : ['I-LOC', 'I-MISC', 'I-ORG', 'I-PER', 'O']\n",
      "Nombre d'occurrence par type de tags: {'O': 42474, 'I-ORG': 2080, 'I-MISC': 1228, 'I-PER': 3097, 'I-LOC': 1938}\n",
      "Nombre de phrases: 2970\n"
     ]
    }
   ],
   "source": [
    "from collections import Counter\n",
    "\n",
    "tag_count = len(test_tags)\n",
    "unique_tags = set(test_tags)\n",
    "tag_frequencies = Counter(test_tags)\n",
    "\n",
    "print(f\"Nombre total d'occurrence de tags : {tag_count}\")\n",
    "print(f\"Nombre de tags uniques : {len(unique_tags)}\")\n",
    "print(f\"Tags uniques : {sorted(list(unique_tags))}\")\n",
    "print(f\"Nombre d'occurrence par type de tags: {dict(tag_frequencies)}\")\n",
    "print(f\"Nombre de phrases: {len(test_tokens)}\")"
   ]
  },
  {
   "cell_type": "markdown",
   "metadata": {},
   "source": [
    "## 3. Performances de NLTK pour la NER\n",
    "\n",
    "**3a.** Le NER de NLTK a un jeu de tags différents de celui des données de test.  Veuillez chercher les informations pour compléter la fonction suivante qui convertit chaque tag du NER de NLTK vers le tag correspondant pour les données de test. "
   ]
  },
  {
   "cell_type": "code",
   "execution_count": 61,
   "metadata": {
    "ExecuteTime": {
     "end_time": "2025-04-22T12:33:00.182220Z",
     "start_time": "2025-04-22T12:33:00.178821Z"
    }
   },
   "outputs": [],
   "source": [
    "def convert_nltk_conll(nltk_tag):\n",
    "    corresp = {'O': 'O',\n",
    "               'ORGANIZATION': 'I-ORG',\n",
    "               'PERSON': 'I-PER',\n",
    "               'LOCATION': 'I-LOC',\n",
    "               'DATE': 'O',\n",
    "               'TIME': 'O',\n",
    "               'MONEY': 'O',\n",
    "               'MISC': 'I-MISC',\n",
    "               'PERCENT': 'O',\n",
    "               'FACILITY': 'I-LOC',\n",
    "               'GPE': 'I-LOC',\n",
    "               'GSP': 'I-PER'}\n",
    "    return corresp.get(nltk_tag, 'O')"
   ]
  },
  {
   "cell_type": "markdown",
   "metadata": {},
   "source": [
    "**3b.** Veuillez exécuter la NER de NLTK sur chacune des phrases de `test_tokens`, ce qui assure que NLTK aura la même tokenisation que les données de référence.  Veuillez stocker les tags dans une liste unique appelée `nltk_tags`."
   ]
  },
  {
   "cell_type": "code",
   "execution_count": 62,
   "metadata": {
    "ExecuteTime": {
     "end_time": "2025-04-22T12:42:26.008717Z",
     "start_time": "2025-04-22T12:33:01.484334Z"
    }
   },
   "outputs": [],
   "source": [
    "nltk_tags = []\n",
    "for sents in test_tokens:\n",
    "    chunks = nltk.ne_chunk(nltk.pos_tag(sents))\n",
    "    for chunk in chunks:\n",
    "        if hasattr(chunk, 'label'):\n",
    "            nltk_tags += [chunk.label() for leaf in chunk.leaves()]\n",
    "        else:\n",
    "            nltk_tags += 'O'"
   ]
  },
  {
   "cell_type": "markdown",
   "metadata": {},
   "source": [
    "**3c.** Veuillez convertir les tags de `nltk_tags` grâce à la fonction précédente, dans une liste appelée `nltk_tags_conv`.  Veuillez afficher le nombre total de tags et les dix premiers.  Vous pouvez plusieurs essais en changeant la fonction, pour aboutir à la conversion qui maximise le score."
   ]
  },
  {
   "cell_type": "code",
   "execution_count": 63,
   "metadata": {
    "ExecuteTime": {
     "end_time": "2025-04-22T12:42:29.901313Z",
     "start_time": "2025-04-22T12:42:29.887794Z"
    }
   },
   "outputs": [
    {
     "name": "stdout",
     "output_type": "stream",
     "text": [
      "Nombre total de tags : 50817\n",
      "Dix premiers tags : ['I-LOC', 'O', 'I-ORG', 'O', 'O', 'O', 'I-ORG', 'O', 'I-ORG', 'O']\n"
     ]
    }
   ],
   "source": [
    "nltk_tags_conv = [convert_nltk_conll(tag) for tag in nltk_tags]\n",
    "\n",
    "print(\"Nombre total de tags :\", len(nltk_tags_conv))\n",
    "print(\"Dix premiers tags :\", nltk_tags_conv[:10])"
   ]
  },
  {
   "cell_type": "markdown",
   "metadata": {},
   "source": [
    "**3d.** Veuillez afficher le rapport d'évaluation de classification obtenu de Scikit-learn et la matrice de confusion pour tous les types de tags apparaissant dans les données de test."
   ]
  },
  {
   "cell_type": "code",
   "execution_count": 35,
   "metadata": {
    "ExecuteTime": {
     "end_time": "2025-04-22T10:14:56.112616Z",
     "start_time": "2025-04-22T10:14:56.109832Z"
    }
   },
   "outputs": [],
   "source": [
    "from sklearn.metrics import classification_report, confusion_matrix\n",
    "import seaborn as sns\n",
    "import matplotlib.pyplot as plt"
   ]
  },
  {
   "cell_type": "code",
   "execution_count": 65,
   "metadata": {
    "ExecuteTime": {
     "end_time": "2025-04-22T12:42:36.567728Z",
     "start_time": "2025-04-22T12:42:36.565427Z"
    }
   },
   "outputs": [],
   "source": [
    "if len(nltk_tags_conv) != len(test_tags):\n",
    "    print(f\"Erreur: nombres de tags différents - nltk: {len(nltk_tags_conv)}, référence: {len(test_tags)}\")"
   ]
  },
  {
   "cell_type": "code",
   "execution_count": 66,
   "metadata": {
    "ExecuteTime": {
     "end_time": "2025-04-22T12:42:38.467049Z",
     "start_time": "2025-04-22T12:42:38.029157Z"
    }
   },
   "outputs": [
    {
     "name": "stdout",
     "output_type": "stream",
     "text": [
      "              precision    recall  f1-score   support\n",
      "\n",
      "       I-LOC       0.55      0.72      0.62      1938\n",
      "      I-MISC       0.00      0.00      0.00      1228\n",
      "       I-ORG       0.51      0.35      0.41      2080\n",
      "       I-PER       0.76      0.75      0.75      3097\n",
      "           O       0.96      0.99      0.97     42474\n",
      "\n",
      "    accuracy                           0.91     50817\n",
      "   macro avg       0.55      0.56      0.55     50817\n",
      "weighted avg       0.89      0.91      0.90     50817\n",
      "\n"
     ]
    }
   ],
   "source": [
    "report_nltk = classification_report(test_tags, nltk_tags_conv, zero_division=0, output_dict=True)\n",
    "print(classification_report(test_tags, nltk_tags_conv, zero_division=0))"
   ]
  },
  {
   "cell_type": "code",
   "execution_count": 67,
   "metadata": {
    "ExecuteTime": {
     "end_time": "2025-04-22T12:42:42.330249Z",
     "start_time": "2025-04-22T12:42:42.170267Z"
    }
   },
   "outputs": [
    {
     "data": {
      "image/png": "[encoded data removed]",
      "text/plain": [
       "<Figure size 1000x800 with 2 Axes>"
      ]
     },
     "metadata": {},
     "output_type": "display_data"
    }
   ],
   "source": [
    "# Matrice de confusion\n",
    "labels = sorted(list(set(test_tags)))\n",
    "cm = confusion_matrix(test_tags, nltk_tags_conv, labels=labels)\n",
    "\n",
    "plt.figure(figsize=(10, 8))\n",
    "sns.heatmap(cm, annot=True, fmt=\"d\", cmap=\"Blues\",\n",
    "            xticklabels=labels, yticklabels=labels)\n",
    "plt.xlabel('Prédictions')\n",
    "plt.ylabel('Vraies étiquettes')\n",
    "plt.title('Matrice de confusion pour NER avec NLTK')\n",
    "plt.show()"
   ]
  },
  {
   "cell_type": "markdown",
   "metadata": {},
   "source": [
    "## 4. Performances de spaCy pour la NER\n",
    "\n",
    "**4a.** Le NER de spaCy a aussi un jeu de tags différents de celui des données de test.  Veuillez chercher les informations pour compléter la fonction suivante qui convertir chaque tag du NER de spaCy dans le tag correspondant pour les données de test.  Attention à la logique des conversions. "
   ]
  },
  {
   "cell_type": "code",
   "execution_count": 46,
   "metadata": {
    "ExecuteTime": {
     "end_time": "2025-04-22T10:16:33.587780Z",
     "start_time": "2025-04-22T10:16:33.583802Z"
    }
   },
   "outputs": [],
   "source": [
    "def convert_spacy_conll(spacy_tag):\n",
    "    corresp = {\n",
    "        'O': 'O',\n",
    "        'PERSON': 'I-PER',\n",
    "        'ORG': 'I-ORG',\n",
    "        'GPE': 'I-LOC',\n",
    "        'LOC': 'I-LOC',\n",
    "        'FAC': 'I-LOC',\n",
    "        'PRODUCT': 'I-MISC',\n",
    "        'EVENT': 'I-MISC',\n",
    "        'WORK_OF_ART': 'I-MISC',\n",
    "        'LAW': 'I-MISC',\n",
    "        'LANGUAGE': 'I-MISC',\n",
    "        'NORP': 'I-MISC',\n",
    "    }\n",
    "\n",
    "    return corresp.get(spacy_tag, 'O')"
   ]
  },
  {
   "cell_type": "markdown",
   "metadata": {},
   "source": [
    "**4b.** Veuillez exécuter la NER de spaCy sur chacune des phrases de `test_tokens`, ce qui assure que spaCy aura la même tokenisation que les données de référence.  Veuillez stocker les tags dans une liste unique appelée `spacy_tags`."
   ]
  },
  {
   "cell_type": "code",
   "execution_count": 50,
   "metadata": {
    "ExecuteTime": {
     "end_time": "2025-04-22T12:30:59.557831Z",
     "start_time": "2025-04-22T12:30:44.816999Z"
    }
   },
   "outputs": [],
   "source": [
    "spacy_tags = []\n",
    "for sents in test_tokens:\n",
    "    chunks = nlp(Doc(nlp.vocab, sents))\n",
    "    for chunk in chunks:\n",
    "        if chunk.ent_iob != 2:\n",
    "            spacy_tags.append(chunk.ent_type_)\n",
    "        else:\n",
    "            spacy_tags.append('O')"
   ]
  },
  {
   "cell_type": "markdown",
   "metadata": {},
   "source": [
    "**4c.** Veuillez convertir les tags de `spacy_tags` grâce à la fonction précédente, dans une liste appelée `spacy_tags_conv`.  Veuillez afficher le nombre total de tags et les dix premiers.  Vous pouvez plusieurs essais en changeant la fonction, pour aboutir à la conversion qui maximise le score."
   ]
  },
  {
   "cell_type": "code",
   "execution_count": 51,
   "metadata": {
    "ExecuteTime": {
     "end_time": "2025-04-22T12:31:02.191463Z",
     "start_time": "2025-04-22T12:31:02.177716Z"
    }
   },
   "outputs": [
    {
     "name": "stdout",
     "output_type": "stream",
     "text": [
      "Nombre total de tags : 50817\n",
      "Dix premiers tags : ['O', 'O', 'O', 'O', 'O', 'O', 'O', 'O', 'O', 'O']\n"
     ]
    }
   ],
   "source": [
    "spacy_tags_conv = [convert_spacy_conll(tag) for tag in spacy_tags]\n",
    "print(\"Nombre total de tags :\", len(spacy_tags_conv))\n",
    "print(\"Dix premiers tags :\", spacy_tags_conv[:10])"
   ]
  },
  {
   "cell_type": "markdown",
   "metadata": {},
   "source": [
    "**4d.** Veuillez afficher le rapport d'évaluation de classification obtenu de Scikit-learn et la matrice de confusion pour tous les types de tags apparaissant dans les données de test."
   ]
  },
  {
   "cell_type": "code",
   "execution_count": 52,
   "metadata": {
    "ExecuteTime": {
     "end_time": "2025-04-22T12:31:04.599890Z",
     "start_time": "2025-04-22T12:31:04.422749Z"
    }
   },
   "outputs": [],
   "source": [
    "report_spacy_sm = classification_report(test_tags, spacy_tags_conv, zero_division=0, output_dict=True)"
   ]
  },
  {
   "cell_type": "code",
   "execution_count": 53,
   "metadata": {
    "ExecuteTime": {
     "end_time": "2025-04-22T12:31:06.627029Z",
     "start_time": "2025-04-22T12:31:06.440631Z"
    }
   },
   "outputs": [
    {
     "data": {
      "image/png": "[encoded data removed]",
      "text/plain": [
       "<Figure size 1000x800 with 2 Axes>"
      ]
     },
     "metadata": {},
     "output_type": "display_data"
    }
   ],
   "source": [
    "labels = sorted(list(set(test_tags)))\n",
    "cm = confusion_matrix(test_tags, nltk_tags_conv, labels=labels)\n",
    "\n",
    "plt.figure(figsize=(10, 8))\n",
    "sns.heatmap(cm, annot=True, fmt=\"d\", cmap=\"Blues\",\n",
    "            xticklabels=labels, yticklabels=labels)\n",
    "plt.xlabel('Prédictions')\n",
    "plt.ylabel('Vraies étiquettes')\n",
    "plt.title('Matrice de confusion pour NER avec NLTK')\n",
    "plt.show()"
   ]
  },
  {
   "cell_type": "markdown",
   "metadata": {},
   "source": [
    "**4e.** Veuillez exécuter également le modèle 'en_core_web_lg' de spacy et afficher le rapport d'évaluation (il n'est pas demander d'afficher la matrice de confusion).  Vous pouvez recopier ici le minimum de code nécessaire à l'obtention des résultats, avec une nouvelle pipeline spaCy appelée 'nlp2'."
   ]
  },
  {
   "cell_type": "code",
   "execution_count": 56,
   "metadata": {
    "ExecuteTime": {
     "end_time": "2025-04-22T12:32:11.419899Z",
     "start_time": "2025-04-22T12:32:06.176281Z"
    }
   },
   "outputs": [
    {
     "name": "stdout",
     "output_type": "stream",
     "text": [
      "Collecting en-core-web-lg==3.8.0\n",
      "  Using cached https://github.com/explosion/spacy-models/releases/download/en_core_web_lg-3.8.0/en_core_web_lg-3.8.0-py3-none-any.whl (400.7 MB)\n",
      "\u001b[38;5;2m[+] Download and installation successful\u001b[0m\n",
      "You can now load the package via spacy.load('en_core_web_lg')\n"
     ]
    }
   ],
   "source": [
    "!python -m spacy download en_core_web_lg"
   ]
  },
  {
   "cell_type": "code",
   "execution_count": 57,
   "metadata": {
    "ExecuteTime": {
     "end_time": "2025-04-22T12:32:30.703703Z",
     "start_time": "2025-04-22T12:32:14.239227Z"
    }
   },
   "outputs": [],
   "source": [
    "nlp2 = spacy.load(\"en_core_web_lg\")\n",
    "spacy_tags2 = []\n",
    "for sents in test_tokens:\n",
    "    chunks = nlp2(Doc(nlp2.vocab, sents))\n",
    "    for chunk in chunks:\n",
    "        if chunk.ent_iob != 2:\n",
    "            spacy_tags2.append(chunk.ent_type_)\n",
    "        else:\n",
    "            spacy_tags2.append('O')\n",
    "\n",
    "spacy_tags_conv2 = [convert_spacy_conll(tag) for tag in spacy_tags2]\n",
    "\n",
    "report_spacy_lg = classification_report(test_tags, spacy_tags_conv2, zero_division=0, output_dict=True)"
   ]
  },
  {
   "cell_type": "code",
   "execution_count": 59,
   "metadata": {
    "ExecuteTime": {
     "end_time": "2025-04-22T12:32:47.313322Z",
     "start_time": "2025-04-22T12:32:47.113832Z"
    }
   },
   "outputs": [
    {
     "name": "stdout",
     "output_type": "stream",
     "text": [
      "              precision    recall  f1-score   support\n",
      "\n",
      "       I-LOC       0.75      0.87      0.81      1938\n",
      "      I-MISC       0.84      0.67      0.74      1228\n",
      "       I-ORG       0.55      0.60      0.58      2080\n",
      "       I-PER       0.91      0.82      0.86      3097\n",
      "           O       0.98      0.98      0.98     42474\n",
      "\n",
      "    accuracy                           0.94     50817\n",
      "   macro avg       0.81      0.79      0.79     50817\n",
      "weighted avg       0.94      0.94      0.94     50817\n",
      "\n"
     ]
    }
   ],
   "source": [
    "print(classification_report(test_tags, spacy_tags_conv2, zero_division=0))"
   ]
  },
  {
   "cell_type": "markdown",
   "metadata": {},
   "source": [
    "## 5. Utilisation d'embeddings contextualisés fournis par BERT\n",
    "\n",
    "Dans cette section, vous allez évaluer un modèle basé sur le Transformer, qui fournit des embeddings contextualisés pour chaque token.  Ces embeddings sont ensuite utilisés par une couche finale (appelée _NER head_) pour assigner à chaque token une étiquette indiquant les entités nommées.  Le modèle et les instructions pour l'utiliser sont disponibles ici : https://huggingface.co/dslim/distilbert-NER (il s'agit d'une version de BERT \"distillée\" dans un modèle plus léger, suivi du _NER head_).\n",
    "\n",
    "**5a.** Prise en main du modèle : à l'aide des exemples fournis sur Hugging Face, veuillez appliquer DistilBERT_NER sur les 3 premières phrases des données contenues dans `test_tokens` (voir le point 2c) et afficher les résultats obtenus.  Quelles sont les différences avec les résultats de NLTK et de spaCy ?"
   ]
  },
  {
   "cell_type": "code",
   "execution_count": 68,
   "metadata": {
    "ExecuteTime": {
     "end_time": "2025-04-22T12:42:59.842442Z",
     "start_time": "2025-04-22T12:42:59.472245Z"
    }
   },
   "outputs": [
    {
     "name": "stderr",
     "output_type": "stream",
     "text": [
      "Device set to use cpu\n"
     ]
    },
    {
     "name": "stdout",
     "output_type": "stream",
     "text": [
      "[{'entity': 'B-PER', 'score': np.float32(0.99110657), 'index': 4, 'word': 'Wolfgang', 'start': 11, 'end': 19}, {'entity': 'B-LOC', 'score': np.float32(0.9967968), 'index': 9, 'word': 'Berlin', 'start': 34, 'end': 40}]\n"
     ]
    }
   ],
   "source": [
    "    # Importer les trois classes, créer le tokenizer, le modèle et la pipeline.\n",
    "from transformers import AutoTokenizer, AutoModelForTokenClassification\n",
    "from transformers import pipeline\n",
    "\n",
    "tokenizer = AutoTokenizer.from_pretrained(\"dslim/distilbert-NER\")\n",
    "model = AutoModelForTokenClassification.from_pretrained(\"dslim/distilbert-NER\")\n",
    "\n",
    "nlp = pipeline(\"ner\", model=model, tokenizer=tokenizer)\n",
    "example = \"My name is Wolfgang and I live in Berlin\"\n",
    "\n",
    "ner_results = nlp(example)\n",
    "print(ner_results)\n"
   ]
  },
  {
   "cell_type": "code",
   "execution_count": 70,
   "metadata": {
    "ExecuteTime": {
     "end_time": "2025-04-22T12:43:04.661490Z",
     "start_time": "2025-04-22T12:43:04.597861Z"
    }
   },
   "outputs": [
    {
     "name": "stdout",
     "output_type": "stream",
     "text": [
      "Phrase 1: CRICKET - LEICESTERSHIRE TAKE OVER AT TOP AFTER INNINGS VICTORY .\n",
      "Résultats: [{'entity': 'B-PER', 'score': np.float32(0.7077921), 'index': 6, 'word': 'L', 'start': 10, 'end': 11}, {'entity': 'B-PER', 'score': np.float32(0.66007096), 'index': 7, 'word': '##EI', 'start': 11, 'end': 13}, {'entity': 'B-PER', 'score': np.float32(0.6309051), 'index': 8, 'word': '##CE', 'start': 13, 'end': 15}, {'entity': 'B-PER', 'score': np.float32(0.7143569), 'index': 9, 'word': '##ST', 'start': 15, 'end': 17}, {'entity': 'B-PER', 'score': np.float32(0.7178326), 'index': 10, 'word': '##ER', 'start': 17, 'end': 19}, {'entity': 'B-PER', 'score': np.float32(0.80959857), 'index': 11, 'word': '##S', 'start': 19, 'end': 20}, {'entity': 'B-PER', 'score': np.float32(0.45343474), 'index': 12, 'word': '##H', 'start': 20, 'end': 21}, {'entity': 'B-PER', 'score': np.float32(0.7269442), 'index': 13, 'word': '##IR', 'start': 21, 'end': 23}, {'entity': 'B-PER', 'score': np.float32(0.76244456), 'index': 14, 'word': '##E', 'start': 23, 'end': 24}]\n",
      "--------------------------------------------------\n",
      "Phrase 2: West Indian all-rounder Phil Simmons took four for 38 on Friday as Leicestershire beat Somerset by an innings and 39 runs in two days to take over at the head of the county championship .\n",
      "Résultats: [{'entity': 'B-MISC', 'score': np.float32(0.99248767), 'index': 1, 'word': 'West', 'start': 0, 'end': 4}, {'entity': 'I-MISC', 'score': np.float32(0.9836288), 'index': 2, 'word': 'Indian', 'start': 5, 'end': 11}, {'entity': 'B-PER', 'score': np.float32(0.9989706), 'index': 7, 'word': 'Phil', 'start': 24, 'end': 28}, {'entity': 'I-PER', 'score': np.float32(0.99917346), 'index': 8, 'word': 'Simmons', 'start': 29, 'end': 36}, {'entity': 'B-ORG', 'score': np.float32(0.9782161), 'index': 16, 'word': 'Leicestershire', 'start': 67, 'end': 81}, {'entity': 'B-ORG', 'score': np.float32(0.9907981), 'index': 18, 'word': 'Somerset', 'start': 87, 'end': 95}]\n",
      "--------------------------------------------------\n",
      "Phrase 3: Their stay on top , though , may be short-lived as title rivals Essex , Derbyshire and Surrey all closed in on victory while Kent made up for lost time in their rain-affected match against Nottinghamshire .\n",
      "Résultats: [{'entity': 'B-ORG', 'score': np.float32(0.99862397), 'index': 16, 'word': 'Essex', 'start': 64, 'end': 69}, {'entity': 'B-ORG', 'score': np.float32(0.9978397), 'index': 18, 'word': 'Derbyshire', 'start': 72, 'end': 82}, {'entity': 'B-ORG', 'score': np.float32(0.9971244), 'index': 20, 'word': 'Surrey', 'start': 87, 'end': 93}, {'entity': 'B-ORG', 'score': np.float32(0.9982888), 'index': 27, 'word': 'Kent', 'start': 125, 'end': 129}, {'entity': 'B-ORG', 'score': np.float32(0.9947102), 'index': 40, 'word': 'Nottinghamshire', 'start': 189, 'end': 204}]\n",
      "--------------------------------------------------\n"
     ]
    }
   ],
   "source": [
    "for i in range(3):\n",
    "    sentence = ' '.join(test_tokens[i])\n",
    "    print(f\"Phrase {i + 1}: {sentence}\")\n",
    "    results = nlp(sentence)\n",
    "    print(f\"Résultats: {results}\")\n",
    "    print(\"-\" * 50)"
   ]
  },
  {
   "cell_type": "markdown",
   "metadata": {},
   "source": [
    "**5b.** Le modèle DistilBERT utilise son propre tokeniseur, c'est pourquoi les étiquettes indiquant les entités nommées sont parfois portées par plusieurs *subwords* composant un mot.  Il faut donc parfois agréger une liste d'étiquettes en une seule.  \n",
    "\n",
    "Veuillez écrire une fonction qui prend en entrée une liste d'étiquettes et retourne une seule étiquette : soit la première, soit celle qui est majoritaire.  Cette fonction sera utilisée plus loin."
   ]
  },
  {
   "cell_type": "code",
   "execution_count": 71,
   "metadata": {
    "ExecuteTime": {
     "end_time": "2025-04-22T12:43:07.099328Z",
     "start_time": "2025-04-22T12:43:07.095773Z"
    }
   },
   "outputs": [
    {
     "name": "stdout",
     "output_type": "stream",
     "text": [
      "B-PER\n"
     ]
    }
   ],
   "source": [
    "from collections import Counter\n",
    "\n",
    "\n",
    "def tag_fusion(tag_list, method='first'):  # ou method='majority'\n",
    "    if not tag_list:\n",
    "        return 'O'\n",
    "\n",
    "    if method == 'first':\n",
    "        return tag_list[0]\n",
    "    elif method == 'majority':\n",
    "        tag_counts = Counter(tag_list)\n",
    "        return tag_counts.most_common(1)[0][0]\n",
    "\n",
    "\n",
    "print(tag_fusion(['O', 'B-PER', 'B-PER'], method='majority'))"
   ]
  },
  {
   "cell_type": "markdown",
   "metadata": {},
   "source": [
    "**5c.** Veuillez afficher le `set` des tags apparaissant dans les résultats de DistilBERT_NER sur les 50 premières phrases du corpus.  Comment se comparent-ils aux tags des données de test CoNLL ?"
   ]
  },
  {
   "cell_type": "code",
   "execution_count": 73,
   "metadata": {
    "ExecuteTime": {
     "end_time": "2025-04-22T12:43:12.743810Z",
     "start_time": "2025-04-22T12:43:11.928762Z"
    }
   },
   "outputs": [
    {
     "name": "stdout",
     "output_type": "stream",
     "text": [
      "Tags DistilBERT_NER: ['B-LOC', 'B-MISC', 'B-ORG', 'B-PER', 'I-LOC', 'I-MISC', 'I-ORG', 'I-PER']\n",
      "Tags du corpus CoNLL: ['I-LOC', 'I-MISC', 'I-ORG', 'I-PER', 'O']\n"
     ]
    }
   ],
   "source": [
    "bert_tags_set = set()\n",
    "for i in range(50):\n",
    "    sentence = ' '.join(test_tokens[i])\n",
    "    results = nlp(sentence)\n",
    "    for result in results:\n",
    "        bert_tags_set.add(result['entity'])\n",
    "\n",
    "print(f\"Tags DistilBERT_NER: {sorted(list(bert_tags_set))}\")\n",
    "print(f\"Tags du corpus CoNLL: {sorted(list(set(test_tags)))}\")"
   ]
  },
  {
   "cell_type": "markdown",
   "metadata": {},
   "source": [
    "> Les tags DistilBERT NER comportent des balises pour le début d'une entité, là où CoNLL non."
   ]
  },
  {
   "cell_type": "markdown",
   "metadata": {},
   "source": [
    "**5d.**  Sur le modèle des points 3a et 4a, veuillez écrire une fonction qui convertit les tags générés par DistilBERT_NER aux tags des donnéees de test.  Vous utiliserez cette fonction plus loin."
   ]
  },
  {
   "cell_type": "code",
   "execution_count": 75,
   "metadata": {
    "ExecuteTime": {
     "end_time": "2025-04-22T12:43:18.123234Z",
     "start_time": "2025-04-22T12:43:18.120644Z"
    }
   },
   "outputs": [],
   "source": [
    "def convert_bert_conll(bert_tag):\n",
    "    corresp = {\n",
    "        'O': 'O',\n",
    "        'B-PER': 'I-PER',\n",
    "        'I-PER': 'I-PER',\n",
    "        'B-ORG': 'I-ORG',\n",
    "        'I-ORG': 'I-ORG',\n",
    "        'B-LOC': 'I-LOC',\n",
    "        'I-LOC': 'I-LOC',\n",
    "        'B-MISC': 'I-MISC',\n",
    "        'I-MISC': 'I-MISC'\n",
    "    }\n",
    "    return corresp.get(bert_tag, 'O')"
   ]
  },
  {
   "cell_type": "markdown",
   "metadata": {},
   "source": [
    "**5e.** La pipeline DistilBERT_NER utilise son propre tokeniseur, qui ne peut pas être changé, car le modèle DistilBERT a été défini et entraîné avec lui.  On doit donc convertir les tokens du modèle à la même tokenisation que celle des données de test, en vue de l'évaluation.  Pour cela, on vous donne la fonction `convert_tokens` ainsi que du code pour la tester.  Veuillez étudier le code pour pouvoir l'utiliser plus bas, puis répondez aux questions ci-après."
   ]
  },
  {
   "cell_type": "code",
   "execution_count": 76,
   "metadata": {
    "ExecuteTime": {
     "end_time": "2025-04-22T12:43:20.497866Z",
     "start_time": "2025-04-22T12:43:20.494274Z"
    }
   },
   "outputs": [],
   "source": [
    "def convert_tokens(ref_tokens, bert_result, word_ids):\n",
    "    tokenized = tokenizer.tokenize(' '.join(ref_tokens))\n",
    "    all_tags = []\n",
    "    for tok, i in zip(tokenized, range(len(tokenized))):\n",
    "        label = [tag['entity'] for tag in bert_result if tag['index'] == i + 1]\n",
    "        if label:\n",
    "            label = label[0]\n",
    "        else:\n",
    "            label = 'O'\n",
    "        if tok[:2] == '##' or word_ids[i] == word_ids[i - 1]:\n",
    "            all_tags[-1].append(label)\n",
    "        else:\n",
    "            all_tags.append([label])\n",
    "    return [tag_fusion(taglist, method='first') for taglist in all_tags]"
   ]
  },
  {
   "cell_type": "code",
   "execution_count": 98,
   "metadata": {
    "ExecuteTime": {
     "end_time": "2025-04-22T13:47:14.108575Z",
     "start_time": "2025-04-22T13:47:14.081695Z"
    }
   },
   "outputs": [
    {
     "name": "stdout",
     "output_type": "stream",
     "text": [
      "35 -- ['West', 'Indian', 'all-rounder', 'Phil', 'Simmons', 'took', 'four', 'for', '38', 'on', 'Friday', 'as', 'Leicestershire', 'beat', 'Somerset', 'by', 'an', 'innings', 'and', '39', 'runs', 'in', 'two', 'days', 'to', 'take', 'over', 'at', 'the', 'head', 'of', 'the', 'county', 'championship', '.']\n",
      "38 -- ['West', 'Indian', 'all', '-', 'round', '##er', 'Phil', 'Simmons', 'took', 'four', 'for', '38', 'on', 'Friday', 'as', 'Leicestershire', 'beat', 'Somerset', 'by', 'an', 'innings', 'and', '39', 'runs', 'in', 'two', 'days', 'to', 'take', 'over', 'at', 'the', 'head', 'of', 'the', 'county', 'championship', '.']\n",
      "38 -- [0, 1, 2, 2, 2, 2, 3, 4, 5, 6, 7, 8, 9, 10, 11, 12, 13, 14, 15, 16, 17, 18, 19, 20, 21, 22, 23, 24, 25, 26, 27, 28, 29, 30, 31, 32, 33, 34]\n",
      "6 -- [{'entity': 'B-MISC', 'score': np.float32(0.99248767), 'index': 1, 'word': 'West', 'start': 0, 'end': 4}, {'entity': 'I-MISC', 'score': np.float32(0.9836288), 'index': 2, 'word': 'Indian', 'start': 5, 'end': 11}, {'entity': 'B-PER', 'score': np.float32(0.9989706), 'index': 7, 'word': 'Phil', 'start': 24, 'end': 28}, {'entity': 'I-PER', 'score': np.float32(0.99917346), 'index': 8, 'word': 'Simmons', 'start': 29, 'end': 36}, {'entity': 'B-ORG', 'score': np.float32(0.9782161), 'index': 16, 'word': 'Leicestershire', 'start': 67, 'end': 81}, {'entity': 'B-ORG', 'score': np.float32(0.9907981), 'index': 18, 'word': 'Somerset', 'start': 87, 'end': 95}]\n",
      "35 -- ['B-MISC', 'I-MISC', 'O', 'B-PER', 'I-PER', 'O', 'O', 'O', 'O', 'O', 'O', 'O', 'B-ORG', 'O', 'B-ORG', 'O', 'O', 'O', 'O', 'O', 'O', 'O', 'O', 'O', 'O', 'O', 'O', 'O', 'O', 'O', 'O', 'O', 'O', 'O', 'O']\n"
     ]
    }
   ],
   "source": [
    "# Test de la fonction convert_tokens:\n",
    "i = 1  # choix de la phrase\n",
    "\n",
    "\n",
    "def print_len(l):\n",
    "    print(len(l), '--', l)\n",
    "\n",
    "print_len(test_tokens[i])  # Affichage 1\n",
    "tokenized_by_bert = tokenizer(test_tokens[i], add_special_tokens=False, is_split_into_words=True)\n",
    "print_len(tokenizer.convert_ids_to_tokens(tokenized_by_bert[\"input_ids\"]))  # Affichage 2\n",
    "print_len(tokenized_by_bert.word_ids())  # Affichage 3\n",
    "tagged_by_bert = nlp(' '.join(test_tokens[i]))\n",
    "print_len(tagged_by_bert)  # Affichage 4\n",
    "print_len(convert_tokens(test_tokens[i], tagged_by_bert, tokenized_by_bert.word_ids()))  # Affichage 5"
   ]
  },
  {
   "cell_type": "markdown",
   "metadata": {},
   "source": [
    "> Questions\n",
    "> 1. Que représentent les trois paramètres de convert_tokens ? Définissez-les comme dans une docstring.\n",
    "> 2. Que représentent les cinq lignes affichées par le code de test ?\n",
    "> 3. Quels sont les deux problèmes traités par la fonction convert_tokens ?\n",
    "\n",
    "> Réponses\n",
    "> 1. Les trois paramètres de convert_tokens sont :\n",
    ">    - ref_tokens: Any - Tokens de référence dans la phrase originale\n",
    ">    - bert_result: Any - Résultat de la pipeline NER, qui contient les entités reconnues et leurs indices de départ/fin\n",
    ">    - word_ids: {__getitem__} - les IDs de chaque token BERT pour faire correspondre aux mots d'origine de la phrase\n",
    "> 2. Les lignes affichent :\n",
    ">    - Le nombre de tokens dans la phrase.\n",
    ">    - Le nombre de tokens après tokenization par BERT. des mots composés seront découpés en plusieurs mots tels que 'all-rounder' → 'all' '-' 'round' '#er'.\n",
    ">    - L'ID de chaque token BERT, pour ainsi correspondre au mot d'origine. Les quatre IDs pour les mots séparés de 'all-rounder' sont identiques, afin de pouvoir recomposer le mot original.\n",
    ">    - Les entités NER reconnues par le modèle BERT pour la phrase.\n",
    ">    - Le contenu de chaque tag NER après avoir été converti depuis le modèle BERT.\n",
    "> 3. Puisque BERT sépare les tokens en plusieurs sous-mots, il faut les regrouper ensemble.\n",
    "> Ceux-ci contiennent des formes particulières.\n",
    "> Effectuer ce mapping inverse (par ex avec '#er') est le premier problème résolu.\n",
    "> Le deuxième est le choix de tag lors de la fusion de plusieurs d'entre eux."
   ]
  },
  {
   "cell_type": "markdown",
   "metadata": {},
   "source": [
    "**5f.** Veuillez effectuer la reconnaissance des entités nommées avec la pipeline DistilBERT_NER et obtenir la liste finale de tags avec les noms convertis à ceux du jeu de référence grâce à `convert_bert_conll`."
   ]
  },
  {
   "cell_type": "code",
   "execution_count": 78,
   "metadata": {
    "ExecuteTime": {
     "end_time": "2025-04-22T12:44:17.300356Z",
     "start_time": "2025-04-22T12:43:29.580600Z"
    }
   },
   "outputs": [
    {
     "name": "stdout",
     "output_type": "stream",
     "text": [
      "Nombre de tags générés: 50817\n",
      "Exemples des premiers tags: ['O', 'O', 'I-PER', 'O', 'O', 'O', 'O', 'O', 'O', 'O', 'O', 'I-MISC', 'I-MISC', 'O', 'I-PER', 'I-PER', 'O', 'O', 'O', 'O']\n"
     ]
    }
   ],
   "source": [
    "#j = 20  # se limiter aux j premières phrases sur les 2970 (utile pendant le développement, mais les utiliser toutes à la fin)\n",
    "bert_tags_conv = []\n",
    "\n",
    "for i in range(len(test_tokens)):\n",
    "    sentence = ' '.join(test_tokens[i])\n",
    "    tokenized_by_bert = tokenizer(test_tokens[i], add_special_tokens=False, is_split_into_words=True)\n",
    "    bert_results = nlp(sentence)\n",
    "    converted_tags = convert_tokens(test_tokens[i], bert_results, tokenized_by_bert.word_ids())\n",
    "    converted_tags = [convert_bert_conll(tag) for tag in converted_tags]\n",
    "    bert_tags_conv.extend(converted_tags)\n",
    "\n",
    "print(f\"Nombre de tags générés: {len(bert_tags_conv)}\")\n",
    "print(f\"Exemples des premiers tags: {bert_tags_conv[:20]}\")"
   ]
  },
  {
   "cell_type": "markdown",
   "metadata": {},
   "source": [
    "**5g.** En comparant `test_tags` avec `bert_tags_conv`, veuillez afficher le rapport d'évaluation de la classification et la matrice de confusion, pour tous les types de tags apparaissant dans les données de test."
   ]
  },
  {
   "cell_type": "code",
   "execution_count": 79,
   "metadata": {
    "ExecuteTime": {
     "end_time": "2025-04-22T12:44:20.573536Z",
     "start_time": "2025-04-22T12:44:20.397004Z"
    }
   },
   "outputs": [
    {
     "name": "stdout",
     "output_type": "stream",
     "text": [
      "              precision    recall  f1-score   support\n",
      "\n",
      "       I-LOC       0.96      0.96      0.96      1938\n",
      "      I-MISC       0.91      0.89      0.90      1228\n",
      "       I-ORG       0.93      0.93      0.93      2080\n",
      "       I-PER       0.98      0.98      0.98      3097\n",
      "           O       1.00      1.00      1.00     42474\n",
      "\n",
      "    accuracy                           0.99     50817\n",
      "   macro avg       0.95      0.95      0.95     50817\n",
      "weighted avg       0.99      0.99      0.99     50817\n",
      "\n"
     ]
    }
   ],
   "source": [
    "print(classification_report(test_tags, bert_tags_conv, zero_division=0))"
   ]
  },
  {
   "cell_type": "code",
   "execution_count": 80,
   "metadata": {
    "ExecuteTime": {
     "end_time": "2025-04-22T12:44:29.708441Z",
     "start_time": "2025-04-22T12:44:29.551349Z"
    }
   },
   "outputs": [
    {
     "data": {
      "image/png": "[encoded data removed]",
      "text/plain": [
       "<Figure size 1000x800 with 2 Axes>"
      ]
     },
     "metadata": {},
     "output_type": "display_data"
    }
   ],
   "source": [
    "labels = sorted(list(set(test_tags)))\n",
    "cm = confusion_matrix(test_tags, bert_tags_conv, labels=labels)\n",
    "\n",
    "plt.figure(figsize=(10, 8))\n",
    "sns.heatmap(cm, annot=True, fmt=\"d\", cmap=\"Blues\",\n",
    "            xticklabels=labels, yticklabels=labels)\n",
    "plt.xlabel('Prédictions')\n",
    "plt.ylabel('Vraies étiquettes')\n",
    "plt.title('Matrice de confusion pour NER avec NLTK')\n",
    "plt.show()"
   ]
  },
  {
   "cell_type": "markdown",
   "metadata": {},
   "source": [
    "**5h.** Laquelle des deux stratégies de `tag_fusion` (premier tag ou tag majoritaire) conduit à de meilleurs résultats ?  Veuillez effectuer l'expérience et indiquer simplement les scores obtenus et votre conclusion dans le champ suivant.  Pour la conclusion finale, gardez 'first'."
   ]
  },
  {
   "cell_type": "code",
   "execution_count": 81,
   "metadata": {
    "ExecuteTime": {
     "end_time": "2025-04-22T12:46:20.132029Z",
     "start_time": "2025-04-22T12:44:44.163140Z"
    }
   },
   "outputs": [
    {
     "name": "stdout",
     "output_type": "stream",
     "text": [
      "Résultats avec la stratégie 'first':\n",
      "              precision    recall  f1-score   support\n",
      "\n",
      "       I-LOC    0.95513   0.95562   0.95538      1938\n",
      "      I-MISC    0.90721   0.89169   0.89938      1228\n",
      "       I-ORG    0.93192   0.92788   0.92990      2080\n",
      "       I-PER    0.97872   0.98030   0.97951      3097\n",
      "           O    0.99678   0.99734   0.99706     42474\n",
      "\n",
      "    accuracy                        0.98931     50817\n",
      "   macro avg    0.95395   0.95057   0.95225     50817\n",
      "weighted avg    0.98927   0.98931   0.98929     50817\n",
      "\n",
      "\n",
      "Résultats avec la stratégie 'majority':\n",
      "              precision    recall  f1-score   support\n",
      "\n",
      "       I-LOC    0.95713   0.95614   0.95663      1938\n",
      "      I-MISC    0.90728   0.89251   0.89984      1228\n",
      "       I-ORG    0.93188   0.92740   0.92964      2080\n",
      "       I-PER    0.97839   0.97966   0.97903      3097\n",
      "           O    0.99678   0.99743   0.99711     42474\n",
      "\n",
      "    accuracy                        0.98937     50817\n",
      "   macro avg    0.95429   0.95063   0.95245     50817\n",
      "weighted avg    0.98933   0.98937   0.98935     50817\n",
      "\n"
     ]
    }
   ],
   "source": [
    "# Comparaison des deux stratégies de tag_fusion\n",
    "# Stratégie 'first'\n",
    "bert_tags_conv_first = []\n",
    "\n",
    "for i in range(len(test_tokens)):\n",
    "    sentence = ' '.join(test_tokens[i])\n",
    "    tokenized_by_bert = tokenizer(test_tokens[i], add_special_tokens=False, is_split_into_words=True)\n",
    "    bert_results = nlp(sentence)\n",
    "\n",
    "\n",
    "    # Utiliser la méthode 'first'\n",
    "    def tag_fusion_first(tag_list):\n",
    "        return tag_fusion(tag_list, method='first')\n",
    "\n",
    "\n",
    "    converted_tags = convert_tokens(test_tokens[i], bert_results, tokenized_by_bert.word_ids())\n",
    "    converted_tags = [convert_bert_conll(tag) for tag in converted_tags]\n",
    "    bert_tags_conv_first.extend(converted_tags)\n",
    "\n",
    "# Stratégie 'majority'\n",
    "bert_tags_conv_majority = []\n",
    "\n",
    "for i in range(len(test_tokens)):\n",
    "    sentence = ' '.join(test_tokens[i])\n",
    "    tokenized_by_bert = tokenizer(test_tokens[i], add_special_tokens=False, is_split_into_words=True)\n",
    "    bert_results = nlp(sentence)\n",
    "\n",
    "\n",
    "    def convert_tokens_majority(ref_tokens, bert_result, word_ids):\n",
    "        tokenized = tokenizer.tokenize(' '.join(ref_tokens))\n",
    "        all_tags = []\n",
    "        for tok, i in zip(tokenized, range(len(tokenized))):\n",
    "            label = [tag['entity'] for tag in bert_result if tag['index'] == i + 1]\n",
    "            if label:\n",
    "                label = label[0]\n",
    "            else:\n",
    "                label = 'O'\n",
    "            if tok[:2] == '##' or word_ids[i] == word_ids[i - 1]:\n",
    "                all_tags[-1].append(label)\n",
    "            else:\n",
    "                all_tags.append([label])\n",
    "        return [tag_fusion(taglist, method='majority') for taglist in all_tags]\n",
    "\n",
    "\n",
    "    converted_tags = convert_tokens_majority(test_tokens[i], bert_results, tokenized_by_bert.word_ids())\n",
    "    converted_tags = [convert_bert_conll(tag) for tag in converted_tags]\n",
    "    bert_tags_conv_majority.extend(converted_tags)\n",
    "\n",
    "print(\"Résultats avec la stratégie 'first':\")\n",
    "report_first = classification_report(test_tags, bert_tags_conv_first, zero_division=0, output_dict=True)\n",
    "print(classification_report(test_tags, bert_tags_conv_first, zero_division=0, digits=5))\n",
    "\n",
    "print(\"\\nRésultats avec la stratégie 'majority':\")\n",
    "report_majority = classification_report(test_tags, bert_tags_conv_majority, zero_division=0, output_dict=True)\n",
    "print(classification_report(test_tags, bert_tags_conv_majority, zero_division=0, digits=5))\n",
    "\n",
    "report_bert = report_first"
   ]
  },
  {
   "cell_type": "markdown",
   "metadata": {},
   "source": [
    "> Les résultats obtenus avec 'first' ou 'majority' sont très proches. On parle d'une différence de quelques dixièmes de pourcentage.\n",
    "> Dans la majeure partie des cas, 'majority' est très légèrement meilleur. Il est quand même plus judicieux d'utiliser la méthode 'first' qui est plus rapide et ne demande pas de faire des calculs supplémentaires."
   ]
  },
  {
   "cell_type": "markdown",
   "metadata": {},
   "source": [
    "## 6. Discussion finale\n",
    "\n",
    "Veuillez comparer les scores des quatre modèles testés, en termes de **macro avg**.  Pourquoi ce score est-il le plus informatif ?  Veuillez indiquer également la taille des modèles spaCy évalués."
   ]
  },
  {
   "cell_type": "code",
   "execution_count": 95,
   "metadata": {
    "ExecuteTime": {
     "end_time": "2025-04-22T13:28:06.140965Z",
     "start_time": "2025-04-22T13:28:06.082874Z"
    }
   },
   "outputs": [
    {
     "data": {
      "image/png": "[encoded data removed]",
      "text/plain": [
       "<Figure size 1000x600 with 1 Axes>"
      ]
     },
     "metadata": {},
     "output_type": "display_data"
    }
   ],
   "source": [
    "import pandas as pd\n",
    "\n",
    "models = ['NLTK', 'SpaCy (en_core_web_sm)', 'SpaCy (en_core_web_lg)', 'DistilBERT-NER']\n",
    "precision = []\n",
    "recall = []\n",
    "f1_score = []\n",
    "\n",
    "precision.append(report_nltk['macro avg']['precision'])\n",
    "recall.append(report_nltk['macro avg']['recall'])\n",
    "f1_score.append(report_nltk['macro avg']['f1-score'])\n",
    "\n",
    "precision.append(report_spacy_sm['macro avg']['precision'])\n",
    "recall.append(report_spacy_sm['macro avg']['recall'])\n",
    "f1_score.append(report_spacy_sm['macro avg']['f1-score'])\n",
    "\n",
    "precision.append(report_spacy_lg['macro avg']['precision'])\n",
    "recall.append(report_spacy_lg['macro avg']['recall'])\n",
    "f1_score.append(report_spacy_lg['macro avg']['f1-score'])\n",
    "\n",
    "precision.append(report_bert['macro avg']['precision'])\n",
    "recall.append(report_bert['macro avg']['recall'])\n",
    "f1_score.append(report_bert['macro avg']['f1-score'])\n",
    "\n",
    "plt.figure(figsize=(10, 6))\n",
    "plt.bar(models, f1_score, color=['blue', 'green', 'orange', 'red'])\n",
    "plt.title('Comparaison des F1-scores (macro avg)')\n",
    "plt.ylabel('F1-score')\n",
    "plt.xticks(rotation=45, ha='right')\n",
    "plt.tight_layout()\n",
    "plt.show()"
   ]
  },
  {
   "cell_type": "code",
   "execution_count": 96,
   "metadata": {
    "ExecuteTime": {
     "end_time": "2025-04-22T13:29:24.075079Z",
     "start_time": "2025-04-22T13:29:22.752673Z"
    }
   },
   "outputs": [
    {
     "name": "stdout",
     "output_type": "stream",
     "text": [
      "                    Model  Precision    Recall  F1-score Model size\n",
      "0                    NLTK   0.554140  0.560933  0.552099          /\n",
      "1  SpaCy (en_core_web_sm)   0.762097  0.727143  0.743234    0.10 MB\n",
      "2  SpaCy (en_core_web_lg)   0.807131  0.787441  0.793691    0.11 MB\n",
      "3          DistilBERT-NER   0.953951  0.950569  0.952246  248.71 MB\n"
     ]
    }
   ],
   "source": [
    "import os\n",
    "import spacy\n",
    "\n",
    "# en_core_web_sm\n",
    "nlp_sm = spacy.load(\"en_core_web_sm\")\n",
    "sm_path = nlp_sm.path\n",
    "sm_size = sum(os.path.getsize(os.path.join(sm_path, f)) for f in os.listdir(sm_path)\n",
    "              if os.path.isfile(os.path.join(sm_path, f)))\n",
    "\n",
    "# en_core_web_lg\n",
    "nlp_lg = spacy.load(\"en_core_web_lg\")\n",
    "lg_path = nlp_lg.path\n",
    "lg_size = sum(os.path.getsize(os.path.join(lg_path, f)) for f in os.listdir(lg_path)\n",
    "              if os.path.isfile(os.path.join(lg_path, f)))\n",
    "\n",
    "# DistilBERT model\n",
    "model = AutoModelForTokenClassification.from_pretrained(\"dslim/distilbert-NER\")\n",
    "model_path = model.config._name_or_path\n",
    "model_size = model.get_memory_footprint() / 1024 / 1024  # Convert bytes to MB\n",
    "\n",
    "comparison = pd.DataFrame({\n",
    "    'Model': models,\n",
    "    'Precision': precision,\n",
    "    'Recall': recall,\n",
    "    'F1-score': f1_score,\n",
    "    'Model size': [\n",
    "        \"/\",\n",
    "        f\"{sm_size / 1024 / 1024:.2f} MB\",\n",
    "        f\"{lg_size / 1024 / 1024:.2f} MB\",\n",
    "        f\"{model_size:.2f} MB\"]\n",
    "})\n",
    "\n",
    "print(comparison)"
   ]
  },
  {
   "cell_type": "markdown",
   "metadata": {},
   "source": [
    "> Dans notre cas, le score macro average est particulièrement pertinent, car il calcule une moyenne simple des performances sur toutes les classes, sans tenir compte de leur proportion respective dans le jeu de données. Une moyenne pondérée est fortement influencée par une classe majoritaire et ne reflèterait pas correctement la qualité de la détection sur les autres classes.\n",
    "\n",
    "> L'utilisation du macro average permet donc d'évaluer plus équitablement la capacité de chaque modèle à reconnaître les différentes entités, quelle que soit leur fréquence.\n",
    "\n",
    "> En analysant les résultats obtenus :\n",
    "\n",
    " - DistilBERT se distingue nettement avec un F1-score de 0.95. Grâce à son architecture basée sur les transformers et son pré-entraînement sur un corpus similaire CoNLL-03, il capture mieux les dépendances contextuelles entre les mots, ce qui explique ses excellentes performances. Toutefois, puisque le modèle a été pré-entraîné sur un corpus proche de celui utilisé pour notre évaluation, son score pourrait surestimer ses capacités de généralisation sur d'autres types de données.\n",
    "\n",
    " - spaCy propose des résultats corrects avec un F1-score de 0.74 pour le modèle en_core_web_sm et 0.79 pour en_core_web_lg. Le modèle lg n’apporte pas une performance proportionnelle à son poids plus important. De plus, les scores obtenus sont légèrement en dessous de ceux annoncés dans la documentation officielle.\n",
    "\n",
    " - NLTK affiche la performance la plus modeste avec un F1-score de 0.55. Cela s'explique par le fait que son modèle repose sur des méthodes de machine learning classiques, sans utiliser d’architectures modernes comme led réseaux de neurones profonds. De plus, le volume et la nature du corpus utilisé pour son entraînement limitent sa capacité à généraliser sur un nouveau set de données."
   ]
  },
  {
   "cell_type": "markdown",
   "metadata": {},
   "source": []
  }
 ],
 "metadata": {
  "kernelspec": {
   "display_name": "base",
   "language": "python",
   "name": "python3"
  },
  "language_info": {
   "codemirror_mode": {
    "name": "ipython",
    "version": 3
   },
   "file_extension": ".py",
   "mimetype": "text/x-python",
   "name": "python",
   "nbconvert_exporter": "python",
   "pygments_lexer": "ipython3",
   "version": "3.12.7"
  }
 },
 "nbformat": 4,
 "nbformat_minor": 4
}
