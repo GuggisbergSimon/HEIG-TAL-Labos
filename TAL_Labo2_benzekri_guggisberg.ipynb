{
 "cells": [
  {
   "cell_type": "markdown",
   "metadata": {},
   "source": [
    "<img src=\"https://heig-vd.ch/docs/default-source/doc-global-newsletter/2020-slim.svg\" alt=\"HEIG-VD Logo\" width=\"100\" align=\"right\" /> \n",
    "\n",
    "# Cours TAL - Laboratoire 2<br/>*POS taggers* pour le français dans spaCy et NLTK\n",
    "\n",
    "**Objectif**\n",
    "\n",
    "Comparer l'étiqueteur morphosyntaxique français prêt-à-l'emploi de spaCy avec deux étiqueteurs entraînés, l'un dans spaCy et l'autre dans NLTK."
   ]
  },
  {
   "cell_type": "markdown",
   "metadata": {},
   "source": [
    "## 1. Installation et test de spaCy\n",
    "\n",
    "La boîte à outils spaCy est une librairie Python *open source* pour le TAL, dédiée à un usage en production. Les documents suivants vous seront utiles :\n",
    "* comment [installer](https://spacy.io/usage) spaCy\n",
    "* comment [télécharger un modèle](https://spacy.io/usage/models) pour une langue donnée (on appelle ces modèles des *trained pipelines* car ils enchaînent plusieurs traitements)\n",
    "* comment faire les [premiers pas](https://spacy.io/usage/spacy-101) dans l'utilisation de spaCy\n",
    "\n",
    "Veuillez installer spaCy, puis la *pipeline* pour le français appelée `fr_core_news_sm`.  Si vous utilisez *conda*, installez spaCy dans l'environnement du cours TAL."
   ]
  },
  {
   "cell_type": "code",
   "metadata": {
    "ExecuteTime": {
     "end_time": "2025-03-11T00:41:06.187772Z",
     "start_time": "2025-03-11T00:41:03.748780Z"
    }
   },
   "source": [
    "import spacy\n",
    "nlp = spacy.load(\"fr_core_news_sm\") # charge la pipeline\n",
    "import tqdm # permet l'affichage d'une barre de progression"
   ],
   "outputs": [],
   "execution_count": 3
  },
  {
   "cell_type": "markdown",
   "metadata": {},
   "source": [
    "**1a.** Une pipeline effectue un ensemble de traitements d'un texte en lui ajoutant des annotations.  Les traitements effectués par la pipeline `fr_core_news_sm` sont [documentés ici](https://spacy.io/models/fr#fr_core_news_sm).  La liste des traitements d'une pipeline figure dans son attribut `.pipe_names`.  On peut activer ou désactiver un traitement T avec, respectivement, les méthodes `.disable_pipe(T)` et `.enable_pipe(T)` appliquées à la pipeline.\n",
    "\n",
    "* Veuillez afficher les traitements disponibles dans la pipeline `fr_core_news_sm` chargée ci-dessus sous le nom de `nlp` .\n",
    "* Veuillez désactiver tous les traitements sauf `tok2vec` et `morphologizer` (on fait cela pour accélerer le traitement).\n",
    "* Vérifiez que la désactivation a bien fonctionné en affichant les traitements activés."
   ]
  },
  {
   "cell_type": "code",
   "metadata": {
    "ExecuteTime": {
     "end_time": "2025-03-11T00:41:14.333562Z",
     "start_time": "2025-03-11T00:41:14.330676Z"
    }
   },
   "source": [
    "print(nlp.pipe_names)\n",
    "nlp.disable_pipe(\"parser\")\n",
    "nlp.disable_pipe(\"attribute_ruler\")\n",
    "nlp.disable_pipe(\"lemmatizer\")\n",
    "nlp.disable_pipe(\"ner\")\n",
    "print(nlp.pipe_names)"
   ],
   "outputs": [
    {
     "name": "stdout",
     "output_type": "stream",
     "text": [
      "['tok2vec', 'morphologizer', 'parser', 'attribute_ruler', 'lemmatizer', 'ner']\n",
      "['tok2vec', 'morphologizer']\n"
     ]
    }
   ],
   "execution_count": 4
  },
  {
   "cell_type": "code",
   "metadata": {
    "ExecuteTime": {
     "end_time": "2025-03-11T00:41:17.256720Z",
     "start_time": "2025-03-11T00:41:17.252751Z"
    }
   },
   "source": [
    "from spacy.lang.fr.examples import sentences"
   ],
   "outputs": [],
   "execution_count": 5
  },
  {
   "cell_type": "markdown",
   "metadata": {},
   "source": [
    "**1b.** L'objet `sentences` chargé ci-dessus contient une liste de phrases en français. \n",
    "\n",
    "* Veuillez afficher les deux premières phrases de `sentences`.\n",
    "* Veuillez analyser chacune de ces deux phrases avec la pipeline `nlp` puis afficher chaque token et son POS tag.\n",
    "    * indication : aidez-vous de la [documentation](https://spacy.io/models/fr#fr_core_news_sm) de `fr_core_news_sm`\n",
    "    * consigne d'affichage : indiquer le tag entre crochets après chaque token, comme ceci : Les \\[DET\\] robots \\[NOUN\\] ...\n",
    "    * note : la documentation détaillée du POS tagging dans spaCy est [disponible ici](https://spacy.io/usage/linguistic-features)\n",
    "* Veuillez commenter la tokenisation et les POS tags observés : vous semblent-ils corrects pour les deux phrases ?"
   ]
  },
  {
   "cell_type": "code",
   "metadata": {
    "ExecuteTime": {
     "end_time": "2025-03-11T00:41:20.542098Z",
     "start_time": "2025-03-11T00:41:20.532828Z"
    }
   },
   "source": [
    "print(sentences[:2])\n",
    "print()\n",
    "\n",
    "for sentence in sentences[:2]:\n",
    "    doc = nlp(sentence)\n",
    "    tagged_sentence = \" \".join([f\"{token.text} [{token.pos_}]\" for token in doc])\n",
    "    print(tagged_sentence)"
   ],
   "outputs": [
    {
     "name": "stdout",
     "output_type": "stream",
     "text": [
      "['Apple cherche à acheter une start-up anglaise pour 1 milliard de dollars', \"Les voitures autonomes déplacent la responsabilité de l'assurance vers les constructeurs\"]\n",
      "\n",
      "Apple [NOUN] cherche [NOUN] à [ADP] acheter [VERB] une [DET] start [NOUN] - [NOUN] up [ADJ] anglaise [NOUN] pour [ADP] 1 [NUM] milliard [NOUN] de [ADP] dollars [NOUN]\n",
      "Les [DET] voitures [NOUN] autonomes [ADJ] déplacent [ADV] la [DET] responsabilité [NOUN] de [ADP] l' [DET] assurance [NOUN] vers [ADP] les [DET] constructeurs [NOUN]\n"
     ]
    }
   ],
   "execution_count": 6
  },
  {
   "metadata": {},
   "cell_type": "markdown",
   "source": [
    "  > Pour la première phrase :\n",
    "    > - Le verbe `cherche` n'est pas reconnu en tant que tel.\n",
    "    > - La ponctuation `-` dans `start-up` est considéré comme un nom à part entier.\n",
    "\n",
    "  > Pour la seconde phrase :\n",
    "    > - Le verbe `déplacent` n'est pas reconnu en tant que tel."
   ]
  },
  {
   "cell_type": "markdown",
   "metadata": {},
   "source": [
    "## 2. Prise en main des données\n",
    "\n",
    "Les données sont fournies dans un format tabulaire dans l'archive `UD_French-GSD.zip` sur Cyberlearn.  Elles sont basées sur les données fournies par le projet [Universal Dependencies](https://github.com/UniversalDependencies/UD_French-GSD).  Leur format, appelé CoNLL-U, est [documenté ici](https://universaldependencies.org/format.html).  Veuillez placer les trois fichiers contenus dans l'archive dans un sous-dossier de ce notebook nommé `spacy_data`.\n",
    "\n",
    "Les trois fichiers contiennent des phrases en français annotées avec les POS tags :\n",
    "* le fichier `fr-ud-train.conllu` est destiné à l'entraînement\n",
    "* le fichier `fr-ud-dev.conllu` est destiné aux tests préliminaires et aux réglages des paramètres\n",
    "* le fichier `fr-ud-test.conllu` est destiné à l'évaluation finale.\n",
    "\n",
    "**2a.** En inspectant les fichiers avec un éditeur texte, veuillez déterminer dans quelle colonne se trouvent les *tokens* des textes originaux, et dans quelle colonne se trouvent leurs étiquettes morpho-syntaxiques correctes (*POS tags*).  Que contient la troisième colonne ?"
   ]
  },
  {
   "metadata": {},
   "cell_type": "markdown",
   "source": [
    "> - Première colonne : Index du token/ligne, commençant à 1\n",
    "> - Deuxième colonne : tokens des textes originaux\n",
    "> - Troisième colonne : tokens lemmatizés\n",
    "> - Quatrième colonne : tags POS\n",
    "> - ..."
   ]
  },
  {
   "attachments": {},
   "cell_type": "markdown",
   "metadata": {},
   "source": [
    "**2b.** Veuillez convertir les trois fichiers de données en des fichiers binaires utilisables par spaCy, en utilisant la [commande 'convert' fournie par spaCy](https://spacy.io/api/cli#convert).  La commande est donnée ci-dessous, le premier dossier `./input_data` contient les 3 fichiers `.conllu` et le dossier `./spacy-data` contiendra les 3 résultats.\n",
    "\n",
    "* Veuillez exécuter la commande de conversion.\n",
    "* Combien de phrases environ (à 10 phrases près) contient chaque fichier (*train*, *dev*, *test*) ?  Observez la commande et son résultat pour répondre."
   ]
  },
  {
   "cell_type": "code",
   "metadata": {
    "ExecuteTime": {
     "end_time": "2025-03-11T00:41:37.698864Z",
     "start_time": "2025-03-11T00:41:28.194953Z"
    }
   },
   "source": [
    "!python -m spacy convert ./input_data ./spacy_data --converter conllu  --n-sents 10 --lang fr"
   ],
   "outputs": [
    {
     "name": "stdout",
     "output_type": "stream",
     "text": [
      "\u001B[38;5;4m[i] Grouping every 10 sentences into a document.\u001B[0m\n",
      "\u001B[38;5;2m[+] Generated output file (148 documents):\n",
      "spacy_data\\fr-ud-dev.spacy\u001B[0m\n",
      "\u001B[38;5;4m[i] Grouping every 10 sentences into a document.\u001B[0m\n",
      "\u001B[38;5;2m[+] Generated output file (42 documents):\n",
      "spacy_data\\fr-ud-test.spacy\u001B[0m\n",
      "\u001B[38;5;4m[i] Grouping every 10 sentences into a document.\u001B[0m\n",
      "\u001B[38;5;2m[+] Generated output file (1456 documents):\n",
      "spacy_data\\fr-ud-train.spacy\u001B[0m\n"
     ]
    }
   ],
   "execution_count": 7
  },
  {
   "metadata": {},
   "cell_type": "markdown",
   "source": [
    "> - Dev : ~1'480\n",
    "> - Test : ~420\n",
    "> - Train : ~14'560"
   ]
  },
  {
   "cell_type": "markdown",
   "metadata": {},
   "source": [
    "**2c**. Les données des fichiers convertis peuvent être chargées dans un objet de type `DocBin`.  Dans notre cas, un tel objet contient un ensemble de documents, chacun contenant 10 phrases.  Chaque document est un objet de type `Doc`.  Le code donné ci-dessous vous permet de charger les données de test et vous montre comment les afficher.\n",
    "\n",
    "* Veuillez stocker la première phrase des données de test dans une variable nommée `premiere_phrase_test`.\n",
    "* Veuillez afficher cette phrase, ainsi que son type dans spaCy."
   ]
  },
  {
   "cell_type": "code",
   "metadata": {
    "ExecuteTime": {
     "end_time": "2025-03-11T00:41:42.387351Z",
     "start_time": "2025-03-11T00:41:42.382353Z"
    }
   },
   "source": [
    "from spacy.tokens import DocBin\n",
    "from spacy.tokens import Doc\n",
    "test_data = DocBin().from_disk(\"./spacy_data/fr-ud-test.spacy\")\n",
    "# Exemple d'utilisation (afficher toutes les phrases)\n",
    "#for doc in test_data.get_docs(nlp.vocab):\n",
    "#    for sent in doc.sents:\n",
    "#        print(sent)"
   ],
   "outputs": [],
   "execution_count": 8
  },
  {
   "cell_type": "code",
   "metadata": {
    "ExecuteTime": {
     "end_time": "2025-03-11T00:41:45.253386Z",
     "start_time": "2025-03-11T00:41:45.197603Z"
    }
   },
   "source": [
    "premiere_phrase_test = list(list(test_data.get_docs(nlp.vocab))[0].sents)[0]\n",
    "print(premiere_phrase_test)\n",
    "print()\n",
    "print(type(premiere_phrase_test))"
   ],
   "outputs": [
    {
     "name": "stdout",
     "output_type": "stream",
     "text": [
      "Je sens qu'entre ça et les films de médecins et scientifiques fous que nous avons déjà vus, nous pourrions emprunter un autre chemin pour l'origine.\n",
      "\n",
      "<class 'spacy.tokens.span.Span'>\n"
     ]
    }
   ],
   "execution_count": 9
  },
  {
   "cell_type": "markdown",
   "metadata": {},
   "source": [
    "## 3. Évaluation du POS tagger français de la pipeline `fr_core_news_sm`"
   ]
  },
  {
   "cell_type": "markdown",
   "metadata": {},
   "source": [
    "**3a.** Veuillez effectuer le *POS tagging* avec spaCy de la `premiere_phrase_test` et afficher les résultats dans le format demandé au (1b).  Indication : convertissez la `premiere_phrase_test` dans un objet de type `Doc` en lui appliquant la méthode `.as_doc()`.  Cet objet peut être ensuite traité par la pipeline `nlp`."
   ]
  },
  {
   "cell_type": "code",
   "metadata": {
    "ExecuteTime": {
     "end_time": "2025-03-11T00:41:48.171287Z",
     "start_time": "2025-03-11T00:41:48.167273Z"
    }
   },
   "source": [
    "doc = premiere_phrase_test.as_doc()\n",
    "tagged_sentence = \" \".join([f\"{token.text} [{token.pos_}]\" for token in doc])\n",
    "print(tagged_sentence)"
   ],
   "outputs": [
    {
     "name": "stdout",
     "output_type": "stream",
     "text": [
      "Je [PRON] sens [VERB] qu' [SCONJ] entre [ADP] ça [PRON] et [CCONJ] les [DET] films [NOUN] de [ADP] médecins [NOUN] et [CCONJ] scientifiques [NOUN] fous [ADJ] que [PRON] nous [PRON] avons [AUX] déjà [ADV] vus [VERB] , [PUNCT] nous [PRON] pourrions [VERB] emprunter [VERB] un [DET] autre [ADJ] chemin [NOUN] pour [ADP] l' [DET] origine [NOUN] . [PUNCT]\n"
     ]
    }
   ],
   "execution_count": 10
  },
  {
   "cell_type": "markdown",
   "metadata": {},
   "source": [
    "**3b.** Veuillez afficher les tags corrects de `premiere_phrase_test`, puis comparez-les visuellement les tags trouvés automatiquement au (3a).  Quelles différences trouvez-vous ?"
   ]
  },
  {
   "metadata": {},
   "cell_type": "markdown",
   "source": "> Aucune différence n'est observée entre le fichier de test initial et celui-ci"
  },
  {
   "cell_type": "code",
   "metadata": {
    "ExecuteTime": {
     "end_time": "2025-03-11T00:41:50.983584Z",
     "start_time": "2025-03-11T00:41:50.980164Z"
    }
   },
   "source": [
    "from spacy.scorer import Scorer\n",
    "from spacy.training import Example"
   ],
   "outputs": [],
   "execution_count": 11
  },
  {
   "cell_type": "code",
   "metadata": {
    "ExecuteTime": {
     "end_time": "2025-03-11T00:42:04.604570Z",
     "start_time": "2025-03-11T00:42:04.495304Z"
    }
   },
   "source": [
    "scorer = Scorer()"
   ],
   "outputs": [],
   "execution_count": 12
  },
  {
   "cell_type": "markdown",
   "metadata": {},
   "source": [
    "**3c.** Au lieu de compter manuellement combien de tags sont différents entre la référence et le résultat de la pipeline `nlp`, vous allez utiliser la classe `Scorer` de spaCy.  Une instance de cette classe permet de calculer les scores d'une liste d'objets de type `Exemple`, en fonction des annotations disponibles dans les objets.  Un objet de type `Exemple` contient deux objets de type `Doc`, l'un avec les annotations correctes et l'autre avec les annotations produites par une pipeline.  La [documentation de la méthode](https://spacy.io/api/scorer#score) `Scorer.score(..)` vous sera utile. \n",
    "\n",
    "* Veuillez calculer la justesse (*accuracy*) du *POS tagging* de `premiere_phrase_test`. \n",
    "* Veuillez justifier la valeur du score obtenu en utilisant votre réponse du (3b)."
   ]
  },
  {
   "cell_type": "code",
   "metadata": {
    "ExecuteTime": {
     "end_time": "2025-03-11T00:51:57.762828Z",
     "start_time": "2025-03-11T00:51:57.758639Z"
    }
   },
   "source": [
    "example = Example.from_dict(premiere_phrase_test.as_doc(), {\"words\": [token.text for token in premiere_phrase_test], \"tags\": [token.tag_ for token in premiere_phrase_test]})\n",
    "scorer.score(examples=[example])[\"tag_acc\"]"
   ],
   "outputs": [
    {
     "data": {
      "text/plain": [
       "1.0"
      ]
     },
     "execution_count": 17,
     "metadata": {},
     "output_type": "execute_result"
    }
   ],
   "execution_count": 17
  },
  {
   "metadata": {},
   "cell_type": "markdown",
   "source": "> La précision vaut 1.0 ce qui est une précision parfaite. Ceci corrobore notre observation précédente en 2b, où aucune différence n'a été observée entre les tags corrects et ceux trouvés automatiquement."
  },
  {
   "cell_type": "markdown",
   "metadata": {},
   "source": [
    "**3d.** Veuillez calculer la précision du *POS tagging* de la pipeline `nlp` sur toutes les données de test présentes dans `test_data`.  Comment se compare le score obtenu avec celui mentionné [dans la documentation](https://spacy.io/models/fr#fr_core_news_sm) du modèle `fr_core_news_sm` ?"
   ]
  },
  {
   "cell_type": "code",
   "metadata": {
    "ExecuteTime": {
     "end_time": "2025-03-11T00:57:55.929827Z",
     "start_time": "2025-03-11T00:57:55.827509Z"
    }
   },
   "source": [
    "examples = [Example.from_dict(doc, {\"words\": [token.text for token in doc], \"tags\": [token.tag_ for token in doc]}) for doc in test_data.get_docs(nlp.vocab)]\n",
    "scorer.score(examples)[\"tag_acc\"]"
   ],
   "outputs": [
    {
     "data": {
      "text/plain": [
       "1.0"
      ]
     },
     "execution_count": 20,
     "metadata": {},
     "output_type": "execute_result"
    }
   ],
   "execution_count": 20
  },
  {
   "metadata": {},
   "cell_type": "markdown",
   "source": [
    "> Encore une fois, nous observons une précision parfaite de 1.0.\n",
    "> La documentation du modèle `fr_core_news_sm` mentionne une évaluation d'accuracy à 0.94 pour TAG_ACC.\n",
    ">\n",
    "> Nous observons donc une discrépance, qui peut être due à la taille du corpus de test, bien plus petite que celle-ci totale."
   ]
  },
  {
   "cell_type": "markdown",
   "metadata": {},
   "source": [
    "## 4. Entraîner puis évaluer un nouveau POS tagger français dans spaCy\n",
    "\n",
    "Le but de cette partie est d'entraîner une pipeline spaCy pour le français sur les données de `fr-ud-train.conllu`, puis de comparer le modèle obtenu avec le modèle prêt-à-l'emploi testé au point précédent.  Les [instructions d'entraînement](https://spacy.io/usage/training#quickstart) de spaCy vous montrent comment entraîner une pipeline avec un POS tagger.\n",
    "\n",
    "**4a.** Paramétrage de l'entraînement :\n",
    "* générez un fichier de départ grâce à [l'interface web](https://spacy.io/usage/training#quickstart), en indiquant que vous voulez seulement un POS tagger dans la pipeline ;\n",
    "* sauvegardez le code généré par spaCy dans un fichier local `base_config.cfg` ;\n",
    "* générez un fichier `config.cfg` sur votre ordinateur en exécutant la ligne de commande suivante. "
   ]
  },
  {
   "cell_type": "code",
   "metadata": {
    "ExecuteTime": {
     "end_time": "2025-03-11T00:59:44.210299Z",
     "start_time": "2025-03-11T00:59:41.578916Z"
    }
   },
   "source": [
    "!python -m spacy init fill-config base_config.cfg config.cfg"
   ],
   "outputs": [
    {
     "name": "stdout",
     "output_type": "stream",
     "text": [
      "\u001B[38;5;2m[+] Auto-filled config with all values\u001B[0m\n",
      "\u001B[38;5;2m[+] Saved config\u001B[0m\n",
      "config.cfg\n",
      "You can now add your data and train your pipeline:\n",
      "python -m spacy train config.cfg --paths.train ./train.spacy --paths.dev ./dev.spacy\n"
     ]
    }
   ],
   "execution_count": 21
  },
  {
   "cell_type": "markdown",
   "metadata": {},
   "source": [
    "Enfin, veuillez effectuer l'entraînement avec la ligne de commande suivante.  Faites plusieurs essais, d'abord avec un petit nombre d'époques, pour estimer le temps nécessaire et observer les messages affichés.  Puis augmentez progressivement le nombre d'époques.  Quel est le critère qui vous permet de décider que vous avez un nombre suffisant d'époques ?  Dans quel dossier se trouve le meilleur modèle ?"
   ]
  },
  {
   "cell_type": "code",
   "metadata": {
    "ExecuteTime": {
     "end_time": "2025-03-11T01:18:38.190616Z",
     "start_time": "2025-03-11T01:13:56.582304Z"
    }
   },
   "source": [
    "!python -m spacy train config.cfg \\\n",
    "  --output ./myPOStagger1 \\\n",
    "  --paths.train ./spacy_data/fr-ud-train.spacy \\\n",
    "  --paths.dev ./spacy_data/fr-ud-dev.spacy \\\n",
    "  --verbose \\\n",
    "  --training.max_epochs 3"
   ],
   "outputs": [
    {
     "name": "stdout",
     "output_type": "stream",
     "text": [
      "\u001B[38;5;4m[i] Saving to output directory: myPOStagger1\u001B[0m\n",
      "\u001B[38;5;4m[i] Using CPU\u001B[0m\n",
      "\u001B[1m\n",
      "=========================== Initializing pipeline ===========================\u001B[0m\n",
      "\u001B[38;5;2m[+] Initialized pipeline\u001B[0m\n",
      "\u001B[1m\n",
      "============================= Training pipeline =============================\u001B[0m\n",
      "\u001B[38;5;4m[i] Pipeline: ['tok2vec', 'tagger']\u001B[0m\n",
      "\u001B[38;5;4m[i] Initial learn rate: 0.001\u001B[0m\n",
      "E    #       LOSS TOK2VEC  LOSS TAGGER  TAG_ACC  SCORE \n",
      "---  ------  ------------  -----------  -------  ------\n",
      "  0       0          0.00       211.77    36.34    0.36\n",
      "  0     200        315.74     10402.18    90.36    0.90\n",
      "  0     400        287.18      4490.33    91.68    0.92\n",
      "  0     600        223.17      3455.94    92.09    0.92\n",
      "  0     800        216.90      3459.09    92.59    0.93\n",
      "  0    1000        189.58      3022.05    92.62    0.93\n",
      "  0    1200        183.13      2918.41    92.90    0.93\n",
      "  0    1400        167.98      2729.15    93.07    0.93\n",
      "  1    1600        145.18      2221.16    93.09    0.93\n",
      "  1    1800        137.30      2013.37    93.19    0.93\n",
      "  1    2000        156.41      2299.15    93.19    0.93\n",
      "  1    2200        145.09      2144.59    93.23    0.93\n",
      "  1    2400        146.45      2154.47    93.30    0.93\n",
      "  1    2600        147.58      2152.16    93.29    0.93\n",
      "  1    2800        149.95      2172.89    93.49    0.93\n",
      "  2    3000        131.85      1843.92    93.40    0.93\n",
      "  2    3200        119.17      1565.79    93.29    0.93\n",
      "  2    3400        134.85      1738.61    93.56    0.94\n",
      "  2    3600        129.29      1637.11    93.44    0.93\n",
      "  2    3800        124.38      1576.03    93.41    0.93\n",
      "  2    4000        129.90      1674.38    93.46    0.93\n",
      "  2    4200        136.20      1712.22    93.63    0.94\n",
      "\u001B[38;5;2m[+] Saved pipeline to output directory\u001B[0m\n",
      "myPOStagger1\\model-last\n"
     ]
    },
    {
     "name": "stderr",
     "output_type": "stream",
     "text": [
      "[2025-03-11 02:13:57,698] [DEBUG] Config overrides from CLI: ['paths.train', 'paths.dev', 'training.max_epochs']\n",
      "[2025-03-11 02:13:59,608] [INFO] Set up nlp object from config\n",
      "[2025-03-11 02:13:59,615] [DEBUG] Loading corpus from path: spacy_data\\fr-ud-dev.spacy\n",
      "[2025-03-11 02:13:59,615] [DEBUG] Loading corpus from path: spacy_data\\fr-ud-train.spacy\n",
      "[2025-03-11 02:13:59,616] [INFO] Pipeline: ['tok2vec', 'tagger']\n",
      "[2025-03-11 02:13:59,617] [INFO] Created vocabulary\n",
      "[2025-03-11 02:13:59,617] [INFO] Finished initializing nlp object\n",
      "[2025-03-11 02:14:08,488] [INFO] Initialized pipeline components: ['tok2vec', 'tagger']\n",
      "[2025-03-11 02:14:08,495] [DEBUG] Loading corpus from path: spacy_data\\fr-ud-dev.spacy\n",
      "[2025-03-11 02:14:08,496] [DEBUG] Loading corpus from path: spacy_data\\fr-ud-train.spacy\n",
      "[2025-03-11 02:14:08,500] [DEBUG] Removed existing output directory: myPOStagger1\\model-best\n",
      "[2025-03-11 02:14:08,503] [DEBUG] Removed existing output directory: myPOStagger1\\model-last\n"
     ]
    }
   ],
   "execution_count": 28
  },
  {
   "metadata": {},
   "cell_type": "markdown",
   "source": [
    "> Avec 2 epochs, nous passons à une accuracy de 0.94, ce qui est le critère de la documentation. Il serait possible de l'entraîner davantage mais les progrès prennent beaucoup d'epochs supplémentaires (2 epochs pour 0.1 d'accuracy par exemple).\n",
    ">\n",
    "> Le modèle est sauvegardé dans le dossier `myPOStagger1`, et plus spécifiquement dans le dossier `model-best`."
   ]
  },
  {
   "cell_type": "markdown",
   "metadata": {},
   "source": [
    "**4b.**  Veuillez charger le meilleur modèle (pipeline) dans la variable `nlp2` et afficher la *POS tagging accuracy* sur le corpus de test.  Le composant de la pipeline étant un *POS tagger*, vous devrez évaluer la propriété *tag_acc*. "
   ]
  },
  {
   "cell_type": "code",
   "metadata": {
    "ExecuteTime": {
     "end_time": "2025-03-11T01:27:06.534599Z",
     "start_time": "2025-03-11T01:27:06.261909Z"
    }
   },
   "source": [
    "nlp2 = spacy.load(\"./myPOStagger1/model-best\")\n",
    "examples = [Example.from_dict(doc, {\"words\": [token.text for token in doc], \"tags\": [token.tag_ for token in doc]}) for doc in test_data.get_docs(nlp2.vocab)]\n",
    "print(scorer.score(examples)[\"tag_acc\"])"
   ],
   "outputs": [
    {
     "name": "stdout",
     "output_type": "stream",
     "text": [
      "1.0\n"
     ]
    }
   ],
   "execution_count": 31
  },
  {
   "cell_type": "markdown",
   "metadata": {},
   "source": [
    "## 5. Entraîner puis évaluer un POS tagger pour le français dans NLTK\n",
    "\n",
    "Le but de cette partie est d'utiliser le POS tagger appelé *Averaged Perceptron* fourni par NLTK, en l'entraînant pour le français sur les mêmes données que ci-dessus, importées cette fois-ci avec NLTK.  Pour une introduction au POS tagging avec NLTK, voir le [Chapitre 5.1 du livre NLTK](http://www.nltk.org/book/ch05.html).\n",
    "\n",
    "Remarques :\n",
    "* pour l'anglais, des taggers pré-entraînés sont disponibles dans NLTK ;\n",
    "* pour appliquer un tagger existant, on écrit `nltk.pos_tag(sentence)` où `sentence` est une liste de tokens et on obtient des paires (token, TAG) ;\n",
    "* l'implémentation de *Averaged Perceptron* a été faite par [Mathew Honnibal de Explosion.AI](https://explosion.ai/blog/part-of-speech-pos-tagger-in-python), la société qui a créé spaCy."
   ]
  },
  {
   "cell_type": "markdown",
   "metadata": {},
   "source": [
    "**5a.** Veuillez charger les données d'entraînement et celles de test grâce à la classe `ConllCorpusReader` de NLTK.  [La documentation de cette classe](https://www.nltk.org/api/nltk.corpus.reader.conll.html#nltk.corpus.reader.conll.ConllCorpusReader) vous montrera comment indiquer les colonnes qui contiennent les tokens ('words') et les tags corrects ('pos').  Une fois les données chargées dans une variable, vous pouvez accéder aux phrases et aux tags avec la méthode `.tagged_sents()`."
   ]
  },
  {
   "cell_type": "code",
   "metadata": {
    "ExecuteTime": {
     "end_time": "2025-03-11T06:28:59.091833Z",
     "start_time": "2025-03-11T06:28:58.777366Z"
    }
   },
   "source": [
    "from nltk.corpus.reader.conll import ConllCorpusReader"
   ],
   "outputs": [],
   "execution_count": 33
  },
  {
   "cell_type": "code",
   "metadata": {
    "ExecuteTime": {
     "end_time": "2025-03-11T06:43:59.245884Z",
     "start_time": "2025-03-11T06:43:59.215Z"
    }
   },
   "source": [
    "data_path = './spacy_data'\n",
    "\n",
    "train_data = ConllCorpusReader(data_path, 'fr-ud-train.conllu', ['ignore', 'words', 'ignore', 'pos', 'ignore', 'ignore', 'ignore', 'ignore', 'ignore', 'ignore'])\n",
    "test_data = ConllCorpusReader(data_path, 'fr-ud-test.conllu', ['ignore', 'words', 'ignore', 'pos', 'ignore', 'ignore', 'ignore', 'ignore', 'ignore', 'ignore'])\n",
    "print(train_data.tagged_sents())"
   ],
   "outputs": [
    {
     "ename": "ValueError",
     "evalue": "concat() expects at least one object!",
     "output_type": "error",
     "traceback": [
      "\u001B[31m---------------------------------------------------------------------------\u001B[39m",
      "\u001B[31mValueError\u001B[39m                                Traceback (most recent call last)",
      "\u001B[36mCell\u001B[39m\u001B[36m \u001B[39m\u001B[32mIn[45]\u001B[39m\u001B[32m, line 5\u001B[39m\n\u001B[32m      3\u001B[39m train_data = ConllCorpusReader(data_path, \u001B[33m'\u001B[39m\u001B[33mfr-ud-train.conllu\u001B[39m\u001B[33m'\u001B[39m, [\u001B[33m'\u001B[39m\u001B[33mwords\u001B[39m\u001B[33m'\u001B[39m, \u001B[33m'\u001B[39m\u001B[33mignore\u001B[39m\u001B[33m'\u001B[39m, \u001B[33m'\u001B[39m\u001B[33mpos\u001B[39m\u001B[33m'\u001B[39m, \u001B[33m'\u001B[39m\u001B[33mignore\u001B[39m\u001B[33m'\u001B[39m, \u001B[33m'\u001B[39m\u001B[33mignore\u001B[39m\u001B[33m'\u001B[39m, \u001B[33m'\u001B[39m\u001B[33mignore\u001B[39m\u001B[33m'\u001B[39m, \u001B[33m'\u001B[39m\u001B[33mignore\u001B[39m\u001B[33m'\u001B[39m, \u001B[33m'\u001B[39m\u001B[33mignore\u001B[39m\u001B[33m'\u001B[39m, \u001B[33m'\u001B[39m\u001B[33mignore\u001B[39m\u001B[33m'\u001B[39m])\n\u001B[32m      4\u001B[39m test_data = ConllCorpusReader(data_path, \u001B[33m'\u001B[39m\u001B[33mfr-ud-test.conllu\u001B[39m\u001B[33m'\u001B[39m, [\u001B[33m'\u001B[39m\u001B[33mwords\u001B[39m\u001B[33m'\u001B[39m, \u001B[33m'\u001B[39m\u001B[33mignore\u001B[39m\u001B[33m'\u001B[39m, \u001B[33m'\u001B[39m\u001B[33mpos\u001B[39m\u001B[33m'\u001B[39m, \u001B[33m'\u001B[39m\u001B[33mignore\u001B[39m\u001B[33m'\u001B[39m, \u001B[33m'\u001B[39m\u001B[33mignore\u001B[39m\u001B[33m'\u001B[39m, \u001B[33m'\u001B[39m\u001B[33mignore\u001B[39m\u001B[33m'\u001B[39m, \u001B[33m'\u001B[39m\u001B[33mignore\u001B[39m\u001B[33m'\u001B[39m, \u001B[33m'\u001B[39m\u001B[33mignore\u001B[39m\u001B[33m'\u001B[39m, \u001B[33m'\u001B[39m\u001B[33mignore\u001B[39m\u001B[33m'\u001B[39m])\n\u001B[32m----> \u001B[39m\u001B[32m5\u001B[39m \u001B[38;5;28mprint\u001B[39m(\u001B[43mtrain_data\u001B[49m\u001B[43m.\u001B[49m\u001B[43mtagged_sents\u001B[49m\u001B[43m(\u001B[49m\u001B[43m)\u001B[49m)\n",
      "\u001B[36mFile \u001B[39m\u001B[32m~\\AppData\\Local\\Programs\\Python\\Python312\\Lib\\site-packages\\nltk\\corpus\\reader\\conll.py:122\u001B[39m, in \u001B[36mConllCorpusReader.tagged_sents\u001B[39m\u001B[34m(self, fileids, tagset)\u001B[39m\n\u001B[32m    119\u001B[39m \u001B[38;5;28;01mdef\u001B[39;00m\u001B[38;5;250m \u001B[39m\u001B[34mget_tagged_words\u001B[39m(grid):\n\u001B[32m    120\u001B[39m     \u001B[38;5;28;01mreturn\u001B[39;00m \u001B[38;5;28mself\u001B[39m._get_tagged_words(grid, tagset)\n\u001B[32m--> \u001B[39m\u001B[32m122\u001B[39m \u001B[38;5;28;01mreturn\u001B[39;00m LazyMap(get_tagged_words, \u001B[38;5;28;43mself\u001B[39;49m\u001B[43m.\u001B[49m\u001B[43m_grids\u001B[49m\u001B[43m(\u001B[49m\u001B[43mfileids\u001B[49m\u001B[43m)\u001B[49m)\n",
      "\u001B[36mFile \u001B[39m\u001B[32m~\\AppData\\Local\\Programs\\Python\\Python312\\Lib\\site-packages\\nltk\\corpus\\reader\\conll.py:207\u001B[39m, in \u001B[36mConllCorpusReader._grids\u001B[39m\u001B[34m(self, fileids)\u001B[39m\n\u001B[32m    203\u001B[39m \u001B[38;5;28;01mdef\u001B[39;00m\u001B[38;5;250m \u001B[39m\u001B[34m_grids\u001B[39m(\u001B[38;5;28mself\u001B[39m, fileids=\u001B[38;5;28;01mNone\u001B[39;00m):\n\u001B[32m    204\u001B[39m     \u001B[38;5;66;03m# n.b.: we could cache the object returned here (keyed on\u001B[39;00m\n\u001B[32m    205\u001B[39m     \u001B[38;5;66;03m# fileids), which would let us reuse the same corpus view for\u001B[39;00m\n\u001B[32m    206\u001B[39m     \u001B[38;5;66;03m# different things (eg srl and parse trees).\u001B[39;00m\n\u001B[32m--> \u001B[39m\u001B[32m207\u001B[39m     \u001B[38;5;28;01mreturn\u001B[39;00m \u001B[43mconcat\u001B[49m\u001B[43m(\u001B[49m\n\u001B[32m    208\u001B[39m \u001B[43m        \u001B[49m\u001B[43m[\u001B[49m\n\u001B[32m    209\u001B[39m \u001B[43m            \u001B[49m\u001B[43mStreamBackedCorpusView\u001B[49m\u001B[43m(\u001B[49m\u001B[43mfileid\u001B[49m\u001B[43m,\u001B[49m\u001B[43m \u001B[49m\u001B[38;5;28;43mself\u001B[39;49m\u001B[43m.\u001B[49m\u001B[43m_read_grid_block\u001B[49m\u001B[43m,\u001B[49m\u001B[43m \u001B[49m\u001B[43mencoding\u001B[49m\u001B[43m=\u001B[49m\u001B[43menc\u001B[49m\u001B[43m)\u001B[49m\n\u001B[32m    210\u001B[39m \u001B[43m            \u001B[49m\u001B[38;5;28;43;01mfor\u001B[39;49;00m\u001B[43m \u001B[49m\u001B[43m(\u001B[49m\u001B[43mfileid\u001B[49m\u001B[43m,\u001B[49m\u001B[43m \u001B[49m\u001B[43menc\u001B[49m\u001B[43m)\u001B[49m\u001B[43m \u001B[49m\u001B[38;5;129;43;01min\u001B[39;49;00m\u001B[43m \u001B[49m\u001B[38;5;28;43mself\u001B[39;49m\u001B[43m.\u001B[49m\u001B[43mabspaths\u001B[49m\u001B[43m(\u001B[49m\u001B[43mfileids\u001B[49m\u001B[43m,\u001B[49m\u001B[43m \u001B[49m\u001B[38;5;28;43;01mTrue\u001B[39;49;00m\u001B[43m)\u001B[49m\n\u001B[32m    211\u001B[39m \u001B[43m        \u001B[49m\u001B[43m]\u001B[49m\n\u001B[32m    212\u001B[39m \u001B[43m    \u001B[49m\u001B[43m)\u001B[49m\n",
      "\u001B[36mFile \u001B[39m\u001B[32m~\\AppData\\Local\\Programs\\Python\\Python312\\Lib\\site-packages\\nltk\\corpus\\reader\\util.py:444\u001B[39m, in \u001B[36mconcat\u001B[39m\u001B[34m(docs)\u001B[39m\n\u001B[32m    442\u001B[39m     \u001B[38;5;28;01mreturn\u001B[39;00m docs[\u001B[32m0\u001B[39m]\n\u001B[32m    443\u001B[39m \u001B[38;5;28;01mif\u001B[39;00m \u001B[38;5;28mlen\u001B[39m(docs) == \u001B[32m0\u001B[39m:\n\u001B[32m--> \u001B[39m\u001B[32m444\u001B[39m     \u001B[38;5;28;01mraise\u001B[39;00m \u001B[38;5;167;01mValueError\u001B[39;00m(\u001B[33m\"\u001B[39m\u001B[33mconcat() expects at least one object!\u001B[39m\u001B[33m\"\u001B[39m)\n\u001B[32m    446\u001B[39m types = {d.\u001B[34m__class__\u001B[39m \u001B[38;5;28;01mfor\u001B[39;00m d \u001B[38;5;129;01min\u001B[39;00m docs}\n\u001B[32m    448\u001B[39m \u001B[38;5;66;03m# If they're all strings, use string concatenation.\u001B[39;00m\n",
      "\u001B[31mValueError\u001B[39m: concat() expects at least one object!"
     ]
    }
   ],
   "execution_count": 45
  },
  {
   "cell_type": "markdown",
   "metadata": {},
   "source": [
    "**5b.** Pour entraîner un POS tagger du type Averaged Perceptron, vous utiliserez le sous-module `nltk.tag.perceptron` du [module NLTK contenant les taggers](http://www.nltk.org/api/nltk.tag.html).  Les fonctions d'entraînement et de test sont documentées dans ce module.  Après l'entraînement, le réseau de neurones est enregistré dans un fichier `.pickle`, qui est écrasé à chaque entraînement si vous n'en faites pas une copie.  On peut également lire un fichier `.pickle` dans un tagger.\n",
    "\n",
    "Veuillez écrire le code pour entraîner le POS tagger sur les données d'entraînement.  Comme au (4), pensez augmenter graduellement le nombre d'époques (appelées 'itérations' dans NLTK).\n",
    "\n",
    "Combien de temps prend l'entraînement ?  Quelle est la taille du fichier enregistré ?"
   ]
  },
  {
   "cell_type": "code",
   "metadata": {
    "ExecuteTime": {
     "end_time": "2025-03-11T06:35:57.680724Z",
     "start_time": "2025-03-11T06:35:57.333590Z"
    }
   },
   "source": [
    "import os\n",
    "#import nltk\n",
    "#nltk.download('averaged_perceptron_tagger') # à exécuter la première fois\n",
    "from nltk.tag.perceptron import PerceptronTagger"
   ],
   "outputs": [
    {
     "name": "stderr",
     "output_type": "stream",
     "text": [
      "[nltk_data] Downloading package averaged_perceptron_tagger to\n",
      "[nltk_data]     C:\\Users\\Ataor\\AppData\\Roaming\\nltk_data...\n",
      "[nltk_data]   Unzipping taggers\\averaged_perceptron_tagger.zip.\n"
     ]
    }
   ],
   "execution_count": 37
  },
  {
   "cell_type": "code",
   "metadata": {
    "ExecuteTime": {
     "end_time": "2025-03-11T06:36:41.597046Z",
     "start_time": "2025-03-11T06:36:41.594185Z"
    }
   },
   "source": [
    "ptagger = PerceptronTagger(load=False)"
   ],
   "outputs": [],
   "execution_count": 38
  },
  {
   "cell_type": "code",
   "metadata": {
    "ExecuteTime": {
     "end_time": "2025-03-11T06:39:51.035789Z",
     "start_time": "2025-03-11T06:39:51.009919Z"
    }
   },
   "source": "ptagger.train(train_data, nr_iter=1)",
   "outputs": [
    {
     "ename": "TypeError",
     "evalue": "'ConllCorpusReader' object is not iterable",
     "output_type": "error",
     "traceback": [
      "\u001B[31m---------------------------------------------------------------------------\u001B[39m",
      "\u001B[31mTypeError\u001B[39m                                 Traceback (most recent call last)",
      "\u001B[36mCell\u001B[39m\u001B[36m \u001B[39m\u001B[32mIn[42]\u001B[39m\u001B[32m, line 1\u001B[39m\n\u001B[32m----> \u001B[39m\u001B[32m1\u001B[39m \u001B[43mptagger\u001B[49m\u001B[43m.\u001B[49m\u001B[43mtrain\u001B[49m\u001B[43m(\u001B[49m\u001B[43mtrain_data\u001B[49m\u001B[43m,\u001B[49m\u001B[43m \u001B[49m\u001B[43mnr_iter\u001B[49m\u001B[43m=\u001B[49m\u001B[32;43m1\u001B[39;49m\u001B[43m)\u001B[49m\n",
      "\u001B[36mFile \u001B[39m\u001B[32m~\\AppData\\Local\\Programs\\Python\\Python312\\Lib\\site-packages\\nltk\\tag\\perceptron.py:226\u001B[39m, in \u001B[36mPerceptronTagger.train\u001B[39m\u001B[34m(self, sentences, save_loc, nr_iter)\u001B[39m\n\u001B[32m    218\u001B[39m \u001B[38;5;66;03m# We'd like to allow ``sentences`` to be either a list or an iterator,\u001B[39;00m\n\u001B[32m    219\u001B[39m \u001B[38;5;66;03m# the latter being especially important for a large training dataset.\u001B[39;00m\n\u001B[32m    220\u001B[39m \u001B[38;5;66;03m# Because ``self._make_tagdict(sentences)`` runs regardless, we make\u001B[39;00m\n\u001B[32m    221\u001B[39m \u001B[38;5;66;03m# it populate ``self._sentences`` (a list) with all the sentences.\u001B[39;00m\n\u001B[32m    222\u001B[39m \u001B[38;5;66;03m# This saves the overheard of just iterating through ``sentences`` to\u001B[39;00m\n\u001B[32m    223\u001B[39m \u001B[38;5;66;03m# get the list by ``sentences = list(sentences)``.\u001B[39;00m\n\u001B[32m    225\u001B[39m \u001B[38;5;28mself\u001B[39m._sentences = \u001B[38;5;28mlist\u001B[39m()  \u001B[38;5;66;03m# to be populated by self._make_tagdict...\u001B[39;00m\n\u001B[32m--> \u001B[39m\u001B[32m226\u001B[39m \u001B[38;5;28;43mself\u001B[39;49m\u001B[43m.\u001B[49m\u001B[43m_make_tagdict\u001B[49m\u001B[43m(\u001B[49m\u001B[43msentences\u001B[49m\u001B[43m)\u001B[49m\n\u001B[32m    227\u001B[39m \u001B[38;5;28mself\u001B[39m.model.classes = \u001B[38;5;28mself\u001B[39m.classes\n\u001B[32m    228\u001B[39m \u001B[38;5;28;01mfor\u001B[39;00m iter_ \u001B[38;5;129;01min\u001B[39;00m \u001B[38;5;28mrange\u001B[39m(nr_iter):\n",
      "\u001B[36mFile \u001B[39m\u001B[32m~\\AppData\\Local\\Programs\\Python\\Python312\\Lib\\site-packages\\nltk\\tag\\perceptron.py:345\u001B[39m, in \u001B[36mPerceptronTagger._make_tagdict\u001B[39m\u001B[34m(self, sentences)\u001B[39m\n\u001B[32m    340\u001B[39m \u001B[38;5;250m\u001B[39m\u001B[33;03m\"\"\"\u001B[39;00m\n\u001B[32m    341\u001B[39m \u001B[33;03mMake a tag dictionary for single-tag words.\u001B[39;00m\n\u001B[32m    342\u001B[39m \u001B[33;03m:param sentences: A list of list of (word, tag) tuples.\u001B[39;00m\n\u001B[32m    343\u001B[39m \u001B[33;03m\"\"\"\u001B[39;00m\n\u001B[32m    344\u001B[39m counts = defaultdict(\u001B[38;5;28;01mlambda\u001B[39;00m: defaultdict(\u001B[38;5;28mint\u001B[39m))\n\u001B[32m--> \u001B[39m\u001B[32m345\u001B[39m \u001B[43m\u001B[49m\u001B[38;5;28;43;01mfor\u001B[39;49;00m\u001B[43m \u001B[49m\u001B[43msentence\u001B[49m\u001B[43m \u001B[49m\u001B[38;5;129;43;01min\u001B[39;49;00m\u001B[43m \u001B[49m\u001B[43msentences\u001B[49m\u001B[43m:\u001B[49m\n\u001B[32m    346\u001B[39m \u001B[43m    \u001B[49m\u001B[38;5;28;43mself\u001B[39;49m\u001B[43m.\u001B[49m\u001B[43m_sentences\u001B[49m\u001B[43m.\u001B[49m\u001B[43mappend\u001B[49m\u001B[43m(\u001B[49m\u001B[43msentence\u001B[49m\u001B[43m)\u001B[49m\n\u001B[32m    347\u001B[39m \u001B[43m    \u001B[49m\u001B[38;5;28;43;01mfor\u001B[39;49;00m\u001B[43m \u001B[49m\u001B[43mword\u001B[49m\u001B[43m,\u001B[49m\u001B[43m \u001B[49m\u001B[43mtag\u001B[49m\u001B[43m \u001B[49m\u001B[38;5;129;43;01min\u001B[39;49;00m\u001B[43m \u001B[49m\u001B[43msentence\u001B[49m\u001B[43m:\u001B[49m\n",
      "\u001B[31mTypeError\u001B[39m: 'ConllCorpusReader' object is not iterable"
     ]
    }
   ],
   "execution_count": 42
  },
  {
   "metadata": {},
   "cell_type": "markdown",
   "source": "> TODO : temps d'entraînement et taille du modèle"
  },
  {
   "cell_type": "markdown",
   "metadata": {},
   "source": [
    "**5c.** Veuillez évaluer le tagger sur les données de test et afficher le taux de correction."
   ]
  },
  {
   "cell_type": "code",
   "execution_count": null,
   "metadata": {},
   "outputs": [],
   "source": [
    "# Veuillez écrire votre code ici.\n"
   ]
  },
  {
   "cell_type": "markdown",
   "metadata": {},
   "source": [
    "## 6. Conclusion\n",
    "\n",
    "Veuillez remplir le tableau suivant avec les scores obtenus et discuter brièvement comment se comparent les trois POS taggers sur ces données de test.\n",
    "\n",
    "| spaCy (partie 3) | spaCy (partie 4) | NLTK (partie 5) | \n",
    "|------------------|------------------|-----------------|\n",
    "| tagger fourni    | tagger entraîné  | tagger entraîné |\n",
    "| ...              | ...              | ...             |\n"
   ]
  },
  {
   "cell_type": "markdown",
   "metadata": {},
   "source": [
    "**Fin du Labo.** Veuillez nettoyer ce notebook en gardant seulement les résultats désirés, l'enregistrer, et le soumettre comme devoir sur Cyberlearn."
   ]
  }
 ],
 "metadata": {
  "kernelspec": {
   "display_name": "Python 3 (ipykernel)",
   "language": "python",
   "name": "python3"
  },
  "language_info": {
   "codemirror_mode": {
    "name": "ipython",
    "version": 3
   },
   "file_extension": ".py",
   "mimetype": "text/x-python",
   "name": "python",
   "nbconvert_exporter": "python",
   "pygments_lexer": "ipython3",
   "version": "3.10.13"
  }
 },
 "nbformat": 4,
 "nbformat_minor": 4
}
