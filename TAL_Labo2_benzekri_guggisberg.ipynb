{
 "cells": [
  {
   "cell_type": "markdown",
   "metadata": {},
   "source": [
    "<img src=\"https://heig-vd.ch/docs/default-source/doc-global-newsletter/2020-slim.svg\" alt=\"HEIG-VD Logo\" width=\"100\" align=\"right\" /> \n",
    "\n",
    "# Cours TAL - Laboratoire 2<br/>*POS taggers* pour le français dans spaCy et NLTK\n",
    "\n",
    "**Objectif**\n",
    "\n",
    "Comparer l'étiqueteur morphosyntaxique français prêt-à-l'emploi de spaCy avec deux étiqueteurs entraînés, l'un dans spaCy et l'autre dans NLTK."
   ]
  },
  {
   "cell_type": "markdown",
   "metadata": {},
   "source": [
    "## 1. Installation et test de spaCy\n",
    "\n",
    "La boîte à outils spaCy est une librairie Python *open source* pour le TAL, dédiée à un usage en production. Les documents suivants vous seront utiles :\n",
    "* comment [installer](https://spacy.io/usage) spaCy\n",
    "* comment [télécharger un modèle](https://spacy.io/usage/models) pour une langue donnée (on appelle ces modèles des *trained pipelines* car ils enchaînent plusieurs traitements)\n",
    "* comment faire les [premiers pas](https://spacy.io/usage/spacy-101) dans l'utilisation de spaCy\n",
    "\n",
    "Veuillez installer spaCy, puis la *pipeline* pour le français appelée `fr_core_news_sm`.  Si vous utilisez *conda*, installez spaCy dans l'environnement du cours TAL."
   ]
  },
  {
   "cell_type": "code",
   "execution_count": 5,
   "metadata": {
    "ExecuteTime": {
     "end_time": "2025-03-11T00:41:06.187772Z",
     "start_time": "2025-03-11T00:41:03.748780Z"
    }
   },
   "outputs": [],
   "source": [
    "import spacy\n",
    "nlp = spacy.load(\"fr_core_news_sm\") # charge la pipeline\n",
    "import tqdm # permet l'affichage d'une barre de progression"
   ]
  },
  {
   "cell_type": "markdown",
   "metadata": {},
   "source": [
    "**1a.** Une pipeline effectue un ensemble de traitements d'un texte en lui ajoutant des annotations.  Les traitements effectués par la pipeline `fr_core_news_sm` sont [documentés ici](https://spacy.io/models/fr#fr_core_news_sm).  La liste des traitements d'une pipeline figure dans son attribut `.pipe_names`.  On peut activer ou désactiver un traitement T avec, respectivement, les méthodes `.disable_pipe(T)` et `.enable_pipe(T)` appliquées à la pipeline.\n",
    "\n",
    "* Veuillez afficher les traitements disponibles dans la pipeline `fr_core_news_sm` chargée ci-dessus sous le nom de `nlp` .\n",
    "* Veuillez désactiver tous les traitements sauf `tok2vec` et `morphologizer` (on fait cela pour accélerer le traitement).\n",
    "* Vérifiez que la désactivation a bien fonctionné en affichant les traitements activés."
   ]
  },
  {
   "cell_type": "code",
   "execution_count": 6,
   "metadata": {
    "ExecuteTime": {
     "end_time": "2025-03-11T00:41:14.333562Z",
     "start_time": "2025-03-11T00:41:14.330676Z"
    }
   },
   "outputs": [
    {
     "name": "stdout",
     "output_type": "stream",
     "text": [
      "['tok2vec', 'morphologizer', 'parser', 'attribute_ruler', 'lemmatizer', 'ner']\n",
      "['tok2vec', 'morphologizer']\n"
     ]
    }
   ],
   "source": [
    "print(nlp.pipe_names)\n",
    "nlp.disable_pipe(\"parser\")\n",
    "nlp.disable_pipe(\"attribute_ruler\")\n",
    "nlp.disable_pipe(\"lemmatizer\")\n",
    "nlp.disable_pipe(\"ner\")\n",
    "print(nlp.pipe_names)"
   ]
  },
  {
   "cell_type": "code",
   "execution_count": 7,
   "metadata": {
    "ExecuteTime": {
     "end_time": "2025-03-11T00:41:17.256720Z",
     "start_time": "2025-03-11T00:41:17.252751Z"
    }
   },
   "outputs": [],
   "source": [
    "from spacy.lang.fr.examples import sentences"
   ]
  },
  {
   "cell_type": "markdown",
   "metadata": {},
   "source": [
    "**1b.** L'objet `sentences` chargé ci-dessus contient une liste de phrases en français. \n",
    "\n",
    "* Veuillez afficher les deux premières phrases de `sentences`.\n",
    "* Veuillez analyser chacune de ces deux phrases avec la pipeline `nlp` puis afficher chaque token et son POS tag.\n",
    "    * indication : aidez-vous de la [documentation](https://spacy.io/models/fr#fr_core_news_sm) de `fr_core_news_sm`\n",
    "    * consigne d'affichage : indiquer le tag entre crochets après chaque token, comme ceci : Les \\[DET\\] robots \\[NOUN\\] ...\n",
    "    * note : la documentation détaillée du POS tagging dans spaCy est [disponible ici](https://spacy.io/usage/linguistic-features)\n",
    "* Veuillez commenter la tokenisation et les POS tags observés : vous semblent-ils corrects pour les deux phrases ?"
   ]
  },
  {
   "cell_type": "code",
   "execution_count": 8,
   "metadata": {
    "ExecuteTime": {
     "end_time": "2025-03-11T00:41:20.542098Z",
     "start_time": "2025-03-11T00:41:20.532828Z"
    }
   },
   "outputs": [
    {
     "name": "stdout",
     "output_type": "stream",
     "text": [
      "['Apple cherche à acheter une start-up anglaise pour 1 milliard de dollars', \"Les voitures autonomes déplacent la responsabilité de l'assurance vers les constructeurs\"]\n",
      "\n",
      "Apple [NOUN] cherche [NOUN] à [ADP] acheter [VERB] une [DET] start [NOUN] - [NOUN] up [ADJ] anglaise [NOUN] pour [ADP] 1 [NUM] milliard [NOUN] de [ADP] dollars [NOUN]\n",
      "Les [DET] voitures [NOUN] autonomes [ADJ] déplacent [ADV] la [DET] responsabilité [NOUN] de [ADP] l' [DET] assurance [NOUN] vers [ADP] les [DET] constructeurs [NOUN]\n"
     ]
    }
   ],
   "source": [
    "print(sentences[:2])\n",
    "print()\n",
    "\n",
    "for sentence in sentences[:2]:\n",
    "    doc = nlp(sentence)\n",
    "    tagged_sentence = \" \".join([f\"{token.text} [{token.pos_}]\" for token in doc])\n",
    "    print(tagged_sentence)"
   ]
  },
  {
   "cell_type": "markdown",
   "metadata": {},
   "source": [
    "  > Pour la première phrase :\n",
    "    > - Le verbe `cherche` n'est pas reconnu en tant que tel.\n",
    "    > - La ponctuation `-` dans `start-up` est considéré comme un nom à part entier.\n",
    "\n",
    "  > Pour la seconde phrase :\n",
    "    > - Le verbe `déplacent` n'est pas reconnu en tant que tel."
   ]
  },
  {
   "cell_type": "markdown",
   "metadata": {},
   "source": [
    "## 2. Prise en main des données\n",
    "\n",
    "Les données sont fournies dans un format tabulaire dans l'archive `UD_French-GSD.zip` sur Cyberlearn.  Elles sont basées sur les données fournies par le projet [Universal Dependencies](https://github.com/UniversalDependencies/UD_French-GSD).  Leur format, appelé CoNLL-U, est [documenté ici](https://universaldependencies.org/format.html).  Veuillez placer les trois fichiers contenus dans l'archive dans un sous-dossier de ce notebook nommé `spacy_data`.\n",
    "\n",
    "Les trois fichiers contiennent des phrases en français annotées avec les POS tags :\n",
    "* le fichier `fr-ud-train.conllu` est destiné à l'entraînement\n",
    "* le fichier `fr-ud-dev.conllu` est destiné aux tests préliminaires et aux réglages des paramètres\n",
    "* le fichier `fr-ud-test.conllu` est destiné à l'évaluation finale.\n",
    "\n",
    "**2a.** En inspectant les fichiers avec un éditeur texte, veuillez déterminer dans quelle colonne se trouvent les *tokens* des textes originaux, et dans quelle colonne se trouvent leurs étiquettes morpho-syntaxiques correctes (*POS tags*).  Que contient la troisième colonne ?"
   ]
  },
  {
   "cell_type": "markdown",
   "metadata": {},
   "source": [
    "> - Première colonne : Index du token/ligne, commençant à 1\n",
    "> - Deuxième colonne : tokens des textes originaux\n",
    "> - Troisième colonne : tokens lemmatizés\n",
    "> - Quatrième colonne : tags POS\n",
    "> - ..."
   ]
  },
  {
   "attachments": {},
   "cell_type": "markdown",
   "metadata": {},
   "source": [
    "**2b.** Veuillez convertir les trois fichiers de données en des fichiers binaires utilisables par spaCy, en utilisant la [commande 'convert' fournie par spaCy](https://spacy.io/api/cli#convert).  La commande est donnée ci-dessous, le premier dossier `./input_data` contient les 3 fichiers `.conllu` et le dossier `./spacy-data` contiendra les 3 résultats.\n",
    "\n",
    "* Veuillez exécuter la commande de conversion.\n",
    "* Combien de phrases environ (à 10 phrases près) contient chaque fichier (*train*, *dev*, *test*) ?  Observez la commande et son résultat pour répondre."
   ]
  },
  {
   "cell_type": "code",
   "execution_count": 9,
   "metadata": {
    "ExecuteTime": {
     "end_time": "2025-03-11T00:41:37.698864Z",
     "start_time": "2025-03-11T00:41:28.194953Z"
    }
   },
   "outputs": [
    {
     "name": "stdout",
     "output_type": "stream",
     "text": [
      "\u001b[38;5;4mℹ Grouping every 10 sentences into a document.\u001b[0m\n",
      "\u001b[38;5;2m✔ Generated output file (148 documents): spacy_data/fr-ud-dev.spacy\u001b[0m\n",
      "\u001b[38;5;4mℹ Grouping every 10 sentences into a document.\u001b[0m\n",
      "\u001b[38;5;2m✔ Generated output file (42 documents): spacy_data/fr-ud-test.spacy\u001b[0m\n",
      "\u001b[38;5;4mℹ Grouping every 10 sentences into a document.\u001b[0m\n",
      "\u001b[38;5;2m✔ Generated output file (1456 documents):\n",
      "spacy_data/fr-ud-train.spacy\u001b[0m\n"
     ]
    }
   ],
   "source": [
    "!python -m spacy convert ./input_data ./spacy_data --converter conllu  --n-sents 10 --lang fr"
   ]
  },
  {
   "cell_type": "markdown",
   "metadata": {},
   "source": [
    "> - Dev : ~1'480\n",
    "> - Test : ~420\n",
    "> - Train : ~14'560"
   ]
  },
  {
   "cell_type": "markdown",
   "metadata": {},
   "source": [
    "**2c**. Les données des fichiers convertis peuvent être chargées dans un objet de type `DocBin`.  Dans notre cas, un tel objet contient un ensemble de documents, chacun contenant 10 phrases.  Chaque document est un objet de type `Doc`.  Le code donné ci-dessous vous permet de charger les données de test et vous montre comment les afficher.\n",
    "\n",
    "* Veuillez stocker la première phrase des données de test dans une variable nommée `premiere_phrase_test`.\n",
    "* Veuillez afficher cette phrase, ainsi que son type dans spaCy."
   ]
  },
  {
   "cell_type": "code",
   "execution_count": 10,
   "metadata": {
    "ExecuteTime": {
     "end_time": "2025-03-11T00:41:42.387351Z",
     "start_time": "2025-03-11T00:41:42.382353Z"
    }
   },
   "outputs": [],
   "source": [
    "from spacy.tokens import DocBin\n",
    "from spacy.tokens import Doc\n",
    "test_data = DocBin().from_disk(\"./spacy_data/fr-ud-test.spacy\")\n",
    "# Exemple d'utilisation (afficher toutes les phrases)\n",
    "#for doc in test_data.get_docs(nlp.vocab):\n",
    "#    for sent in doc.sents:\n",
    "#        print(sent)"
   ]
  },
  {
   "cell_type": "code",
   "execution_count": 11,
   "metadata": {
    "ExecuteTime": {
     "end_time": "2025-03-11T00:41:45.253386Z",
     "start_time": "2025-03-11T00:41:45.197603Z"
    }
   },
   "outputs": [
    {
     "name": "stdout",
     "output_type": "stream",
     "text": [
      "Je sens qu'entre ça et les films de médecins et scientifiques fous que nous avons déjà vus, nous pourrions emprunter un autre chemin pour l'origine.\n",
      "\n",
      "<class 'spacy.tokens.span.Span'>\n"
     ]
    }
   ],
   "source": [
    "premiere_phrase_test = list(list(test_data.get_docs(nlp.vocab))[0].sents)[0]\n",
    "print(premiere_phrase_test)\n",
    "print()\n",
    "print(type(premiere_phrase_test))"
   ]
  },
  {
   "cell_type": "markdown",
   "metadata": {},
   "source": [
    "## 3. Évaluation du POS tagger français de la pipeline `fr_core_news_sm`"
   ]
  },
  {
   "cell_type": "markdown",
   "metadata": {},
   "source": [
    "**3a.** Veuillez effectuer le *POS tagging* avec spaCy de la `premiere_phrase_test` et afficher les résultats dans le format demandé au (1b).  Indication : convertissez la `premiere_phrase_test` dans un objet de type `Doc` en lui appliquant la méthode `.as_doc()`.  Cet objet peut être ensuite traité par la pipeline `nlp`."
   ]
  },
  {
   "cell_type": "code",
   "execution_count": 24,
   "metadata": {
    "ExecuteTime": {
     "end_time": "2025-03-11T00:41:48.171287Z",
     "start_time": "2025-03-11T00:41:48.167273Z"
    }
   },
   "outputs": [
    {
     "name": "stdout",
     "output_type": "stream",
     "text": [
      "Je [PRON] sens [VERB] qu' [SCONJ] entre [ADP] ça [PRON] et [CCONJ] les [DET] films [NOUN] de [ADP] médecins [NOUN] et [CCONJ] scientifiques [NOUN] fous [ADJ] que [PRON] nous [PRON] avons [AUX] déjà [ADV] vus [VERB] , [PUNCT] nous [PRON] pourrions [VERB] emprunter [VERB] un [DET] autre [ADJ] chemin [NOUN] pour [ADP] l' [DET] origine [NOUN] . [PUNCT]\n"
     ]
    }
   ],
   "source": [
    "doc = premiere_phrase_test.as_doc()\n",
    "tagged_sentence = \" \".join([f\"{token.text} [{token.pos_}]\" for token in doc])\n",
    "print(tagged_sentence)"
   ]
  },
  {
   "cell_type": "markdown",
   "metadata": {},
   "source": [
    "**3b.** Veuillez afficher les tags corrects de `premiere_phrase_test`, puis comparez-les visuellement les tags trouvés automatiquement au (3a).  Quelles différences trouvez-vous ?"
   ]
  },
  {
   "cell_type": "code",
   "execution_count": 30,
   "metadata": {},
   "outputs": [],
   "source": [
    "comparison = []\n",
    "\n",
    "for token in doc:\n",
    "    element = [token.text, token.pos_, token.tag_]\n",
    "    comparison.append(element)\n",
    "\n",
    "for elem in comparison:\n",
    "    if elem[1] != elem[2]:\n",
    "        print(f\"{elem[0]} : {elem[1]} vs. {elem[2]}\")"
   ]
  },
  {
   "cell_type": "markdown",
   "metadata": {},
   "source": [
    "> Aucune différence n'est observée entre le fichier de test initial et celui-ci"
   ]
  },
  {
   "cell_type": "code",
   "execution_count": 31,
   "metadata": {
    "ExecuteTime": {
     "end_time": "2025-03-11T00:41:50.983584Z",
     "start_time": "2025-03-11T00:41:50.980164Z"
    }
   },
   "outputs": [],
   "source": [
    "from spacy.scorer import Scorer\n",
    "from spacy.training import Example"
   ]
  },
  {
   "cell_type": "code",
   "execution_count": 32,
   "metadata": {
    "ExecuteTime": {
     "end_time": "2025-03-11T00:42:04.604570Z",
     "start_time": "2025-03-11T00:42:04.495304Z"
    }
   },
   "outputs": [],
   "source": [
    "scorer = Scorer()"
   ]
  },
  {
   "cell_type": "markdown",
   "metadata": {},
   "source": [
    "**3c.** Au lieu de compter manuellement combien de tags sont différents entre la référence et le résultat de la pipeline `nlp`, vous allez utiliser la classe `Scorer` de spaCy.  Une instance de cette classe permet de calculer les scores d'une liste d'objets de type `Exemple`, en fonction des annotations disponibles dans les objets.  Un objet de type `Exemple` contient deux objets de type `Doc`, l'un avec les annotations correctes et l'autre avec les annotations produites par une pipeline.  La [documentation de la méthode](https://spacy.io/api/scorer#score) `Scorer.score(..)` vous sera utile. \n",
    "\n",
    "* Veuillez calculer la justesse (*accuracy*) du *POS tagging* de `premiere_phrase_test`. \n",
    "* Veuillez justifier la valeur du score obtenu en utilisant votre réponse du (3b)."
   ]
  },
  {
   "cell_type": "code",
   "execution_count": 33,
   "metadata": {
    "ExecuteTime": {
     "end_time": "2025-03-11T00:51:57.762828Z",
     "start_time": "2025-03-11T00:51:57.758639Z"
    }
   },
   "outputs": [
    {
     "data": {
      "text/plain": [
       "1.0"
      ]
     },
     "execution_count": 33,
     "metadata": {},
     "output_type": "execute_result"
    }
   ],
   "source": [
    "example = Example.from_dict(premiere_phrase_test.as_doc(), {\"words\": [token.text for token in premiere_phrase_test], \"tags\": [token.tag_ for token in premiere_phrase_test]})\n",
    "scorer.score(examples=[example])[\"tag_acc\"]"
   ]
  },
  {
   "cell_type": "markdown",
   "metadata": {},
   "source": [
    "> La précision vaut 1.0 ce qui est une précision parfaite. Ceci corrobore notre observation précédente en 2b, où aucune différence n'a été observée entre les tags corrects et ceux trouvés automatiquement."
   ]
  },
  {
   "cell_type": "markdown",
   "metadata": {},
   "source": [
    "**3d.** Veuillez calculer la précision du *POS tagging* de la pipeline `nlp` sur toutes les données de test présentes dans `test_data`.  Comment se compare le score obtenu avec celui mentionné [dans la documentation](https://spacy.io/models/fr#fr_core_news_sm) du modèle `fr_core_news_sm` ?"
   ]
  },
  {
   "cell_type": "code",
   "execution_count": 34,
   "metadata": {
    "ExecuteTime": {
     "end_time": "2025-03-11T00:57:55.929827Z",
     "start_time": "2025-03-11T00:57:55.827509Z"
    }
   },
   "outputs": [
    {
     "name": "stdout",
     "output_type": "stream",
     "text": [
      "Accuracy : 0.9172654690618762\n"
     ]
    }
   ],
   "source": [
    "examples = []\n",
    "for doc in test_data.get_docs(nlp.vocab):\n",
    "    for sent in doc.sents:\n",
    "        example = Example(nlp(sent.as_doc()), sent.as_doc())\n",
    "        examples.append(example)\n",
    "print('Accuracy :', scorer.score(examples)['pos_acc'])"
   ]
  },
  {
   "cell_type": "markdown",
   "metadata": {},
   "source": [
    "> Nous observons une précision de 0.91.\n",
    "> La documentation du modèle `fr_core_news_sm` mentionne une évaluation d'accuracy à 0.97 pour POS_ACC.\n",
    ">\n",
    "> Nous observons donc une discrépance, qui peut être due à la taille du corpus d'entraînement, relativement petite."
   ]
  },
  {
   "cell_type": "markdown",
   "metadata": {},
   "source": [
    "## 4. Entraîner puis évaluer un nouveau POS tagger français dans spaCy\n",
    "\n",
    "Le but de cette partie est d'entraîner une pipeline spaCy pour le français sur les données de `fr-ud-train.conllu`, puis de comparer le modèle obtenu avec le modèle prêt-à-l'emploi testé au point précédent.  Les [instructions d'entraînement](https://spacy.io/usage/training#quickstart) de spaCy vous montrent comment entraîner une pipeline avec un POS tagger.\n",
    "\n",
    "**4a.** Paramétrage de l'entraînement :\n",
    "* générez un fichier de départ grâce à [l'interface web](https://spacy.io/usage/training#quickstart), en indiquant que vous voulez seulement un POS tagger dans la pipeline ;\n",
    "* sauvegardez le code généré par spaCy dans un fichier local `base_config.cfg` ;\n",
    "* générez un fichier `config.cfg` sur votre ordinateur en exécutant la ligne de commande suivante. "
   ]
  },
  {
   "cell_type": "code",
   "execution_count": 35,
   "metadata": {
    "ExecuteTime": {
     "end_time": "2025-03-11T00:59:44.210299Z",
     "start_time": "2025-03-11T00:59:41.578916Z"
    }
   },
   "outputs": [
    {
     "name": "stdout",
     "output_type": "stream",
     "text": [
      "\u001b[38;5;2m✔ Auto-filled config with all values\u001b[0m\n",
      "\u001b[38;5;2m✔ Saved config\u001b[0m\n",
      "config.cfg\n",
      "You can now add your data and train your pipeline:\n",
      "python -m spacy train config.cfg --paths.train ./train.spacy --paths.dev ./dev.spacy\n"
     ]
    }
   ],
   "source": [
    "!python -m spacy init fill-config base_config.cfg config.cfg"
   ]
  },
  {
   "cell_type": "markdown",
   "metadata": {},
   "source": [
    "Enfin, veuillez effectuer l'entraînement avec la ligne de commande suivante.  Faites plusieurs essais, d'abord avec un petit nombre d'époques, pour estimer le temps nécessaire et observer les messages affichés.  Puis augmentez progressivement le nombre d'époques.  Quel est le critère qui vous permet de décider que vous avez un nombre suffisant d'époques ?  Dans quel dossier se trouve le meilleur modèle ?"
   ]
  },
  {
   "cell_type": "code",
   "execution_count": 36,
   "metadata": {
    "ExecuteTime": {
     "end_time": "2025-03-11T01:18:38.190616Z",
     "start_time": "2025-03-11T01:13:56.582304Z"
    }
   },
   "outputs": [
    {
     "name": "stdout",
     "output_type": "stream",
     "text": [
      "[2025-03-14 10:48:17,703] [DEBUG] Config overrides from CLI: ['paths.train', 'paths.dev']\n",
      "\u001b[38;5;4mℹ Saving to output directory: myPOStagger1\u001b[0m\n",
      "\u001b[38;5;4mℹ Using CPU\u001b[0m\n",
      "\u001b[1m\n",
      "=========================== Initializing pipeline ===========================\u001b[0m\n",
      "[2025-03-14 10:48:18,958] [INFO] Set up nlp object from config\n",
      "[2025-03-14 10:48:18,963] [DEBUG] Loading corpus from path: spacy_data/fr-ud-dev.spacy\n",
      "[2025-03-14 10:48:18,964] [DEBUG] Loading corpus from path: spacy_data/fr-ud-train.spacy\n",
      "[2025-03-14 10:48:18,964] [INFO] Pipeline: ['tok2vec', 'tagger']\n",
      "[2025-03-14 10:48:18,965] [INFO] Created vocabulary\n",
      "[2025-03-14 10:48:18,965] [INFO] Finished initializing nlp object\n",
      "[2025-03-14 10:48:25,233] [INFO] Initialized pipeline components: ['tok2vec', 'tagger']\n",
      "\u001b[38;5;2m✔ Initialized pipeline\u001b[0m\n",
      "\u001b[1m\n",
      "============================= Training pipeline =============================\u001b[0m\n",
      "[2025-03-14 10:48:25,239] [DEBUG] Loading corpus from path: spacy_data/fr-ud-dev.spacy\n",
      "[2025-03-14 10:48:25,240] [DEBUG] Loading corpus from path: spacy_data/fr-ud-train.spacy\n",
      "[2025-03-14 10:48:25,241] [DEBUG] Removed existing output directory: myPOStagger1/model-best\n",
      "[2025-03-14 10:48:25,242] [DEBUG] Removed existing output directory: myPOStagger1/model-last\n",
      "\u001b[38;5;4mℹ Pipeline: ['tok2vec', 'tagger']\u001b[0m\n",
      "\u001b[38;5;4mℹ Initial learn rate: 0.001\u001b[0m\n",
      "E    #       LOSS TOK2VEC  LOSS TAGGER  TAG_ACC  SCORE \n",
      "---  ------  ------------  -----------  -------  ------\n",
      "  0       0          0.00       211.77    36.34    0.36\n",
      "  0     200        315.86     10401.48    90.39    0.90\n",
      "  0     400        287.69      4494.66    91.70    0.92\n",
      "  0     600        222.04      3437.14    92.14    0.92\n",
      "  0     800        217.69      3466.24    92.58    0.93\n",
      "  0    1000        191.93      3032.32    92.62    0.93\n",
      "  0    1200        185.49      2933.17    92.97    0.93\n",
      "  0    1400        172.66      2736.94    92.98    0.93\n",
      "  1    1600        148.01      2216.51    93.19    0.93\n",
      "  1    1800        140.17      2004.50    93.14    0.93\n",
      "  1    2000        158.00      2302.64    93.18    0.93\n",
      "  1    2200        147.32      2122.11    93.31    0.93\n",
      "  1    2400        148.84      2146.26    93.32    0.93\n",
      "  1    2600        150.02      2167.36    93.29    0.93\n",
      "  1    2800        150.61      2158.60    93.48    0.93\n",
      "  2    3000        133.71      1838.55    93.43    0.93\n",
      "  2    3200        120.27      1575.63    93.29    0.93\n",
      "  2    3400        135.27      1752.50    93.51    0.94\n",
      "  2    3600        129.56      1632.14    93.52    0.94\n",
      "  2    3800        125.66      1577.70    93.54    0.94\n",
      "  2    4000        132.01      1668.41    93.38    0.93\n",
      "  2    4200        138.70      1747.46    93.49    0.93\n",
      "  3    4400        137.52      1681.47    93.57    0.94\n",
      "  3    4600        102.18      1189.06    93.54    0.94\n",
      "  3    4800        111.35      1279.15    93.71    0.94\n",
      "  3    5000        122.95      1420.65    93.60    0.94\n",
      "  3    5200        121.66      1374.55    93.65    0.94\n",
      "  3    5400        126.76      1415.05    93.62    0.94\n",
      "  3    5600        123.48      1353.30    93.66    0.94\n",
      "  3    5800        129.43      1421.00    93.72    0.94\n",
      "  4    6000        110.61      1170.14    93.69    0.94\n",
      "  4    6200        104.38      1078.04    93.63    0.94\n",
      "  4    6400        109.05      1119.44    93.59    0.94\n",
      "  4    6600        116.09      1194.94    93.72    0.94\n",
      "  4    6800        122.23      1248.69    93.60    0.94\n",
      "  4    7000        121.63      1222.83    93.59    0.94\n",
      "  4    7200        113.13      1133.28    93.65    0.94\n",
      "  5    7400        102.17      1003.87    93.62    0.94\n",
      "  5    7600         99.81       954.52    93.61    0.94\n",
      "  5    7800         96.39       888.92    93.59    0.94\n",
      "  5    8000        104.46       970.61    93.54    0.94\n",
      "  5    8200        110.61      1025.34    93.59    0.94\n",
      "\u001b[38;5;2m✔ Saved pipeline to output directory\u001b[0m\n",
      "myPOStagger1/model-last\n"
     ]
    }
   ],
   "source": [
    "!python -m spacy train config.cfg \\\n",
    "  --output ./myPOStagger1 \\\n",
    "  --paths.train ./spacy_data/fr-ud-train.spacy \\\n",
    "  --paths.dev ./spacy_data/fr-ud-dev.spacy \\\n",
    "  --verbose"
   ]
  },
  {
   "cell_type": "markdown",
   "metadata": {},
   "source": [
    "> Avec 5 epochs, nous passons à une accuracy de 0.94, ce qui est le critère de la documentation. Il serait possible de l'entraîner davantage mais les progrès prennent beaucoup d'epochs supplémentaires (2 epochs pour 0.1 d'accuracy par exemple).\n",
    ">\n",
    "> Le modèle est sauvegardé dans le dossier `myPOStagger1`, et plus spécifiquement dans le dossier `model-best`."
   ]
  },
  {
   "cell_type": "markdown",
   "metadata": {},
   "source": [
    "**4b.**  Veuillez charger le meilleur modèle (pipeline) dans la variable `nlp2` et afficher la *POS tagging accuracy* sur le corpus de test.  Le composant de la pipeline étant un *POS tagger*, vous devrez évaluer la propriété *tag_acc*. "
   ]
  },
  {
   "cell_type": "code",
   "execution_count": 37,
   "metadata": {
    "ExecuteTime": {
     "end_time": "2025-03-11T01:27:06.534599Z",
     "start_time": "2025-03-11T01:27:06.261909Z"
    }
   },
   "outputs": [
    {
     "name": "stdout",
     "output_type": "stream",
     "text": [
      "Accuracy : 0.9586327345309381\n"
     ]
    }
   ],
   "source": [
    "nlp2 = spacy.load(\"./myPOStagger1/model-best\")\n",
    "for doc in test_data.get_docs(nlp2.vocab):\n",
    "    for sent in doc.sents:\n",
    "        example = Example(nlp2(sent.as_doc()), sent.as_doc())\n",
    "        examples.append(example)\n",
    "print('Accuracy :', scorer.score(examples)['pos_acc'])"
   ]
  },
  {
   "cell_type": "markdown",
   "metadata": {},
   "source": [
    "## 5. Entraîner puis évaluer un POS tagger pour le français dans NLTK\n",
    "\n",
    "Le but de cette partie est d'utiliser le POS tagger appelé *Averaged Perceptron* fourni par NLTK, en l'entraînant pour le français sur les mêmes données que ci-dessus, importées cette fois-ci avec NLTK.  Pour une introduction au POS tagging avec NLTK, voir le [Chapitre 5.1 du livre NLTK](http://www.nltk.org/book/ch05.html).\n",
    "\n",
    "Remarques :\n",
    "* pour l'anglais, des taggers pré-entraînés sont disponibles dans NLTK ;\n",
    "* pour appliquer un tagger existant, on écrit `nltk.pos_tag(sentence)` où `sentence` est une liste de tokens et on obtient des paires (token, TAG) ;\n",
    "* l'implémentation de *Averaged Perceptron* a été faite par [Mathew Honnibal de Explosion.AI](https://explosion.ai/blog/part-of-speech-pos-tagger-in-python), la société qui a créé spaCy."
   ]
  },
  {
   "cell_type": "markdown",
   "metadata": {},
   "source": [
    "**5a.** Veuillez charger les données d'entraînement et celles de test grâce à la classe `ConllCorpusReader` de NLTK.  [La documentation de cette classe](https://www.nltk.org/api/nltk.corpus.reader.conll.html#nltk.corpus.reader.conll.ConllCorpusReader) vous montrera comment indiquer les colonnes qui contiennent les tokens ('words') et les tags corrects ('pos').  Une fois les données chargées dans une variable, vous pouvez accéder aux phrases et aux tags avec la méthode `.tagged_sents()`."
   ]
  },
  {
   "cell_type": "code",
   "metadata": {
    "ExecuteTime": {
     "end_time": "2025-03-15T06:50:18.546341Z",
     "start_time": "2025-03-15T06:50:18.082048Z"
    }
   },
   "source": [
    "from nltk.corpus.reader.conll import ConllCorpusReader"
   ]
  },
  {
   "cell_type": "code",
   "execution_count": 39,
   "metadata": {
    "ExecuteTime": {
     "end_time": "2025-03-11T10:44:43.627845Z",
     "start_time": "2025-03-11T10:44:43.614864Z"
    }
   },
   "outputs": [
    {
     "name": "stdout",
     "output_type": "stream",
     "text": [
      "[[('Les', 'DET'), ('commotions', 'NOUN'), ('cérébrales', 'ADJ'), ('sont', 'AUX'), ('devenu', 'VERB'), ('si', 'ADV'), ('courantes', 'ADJ'), ('dans', 'ADP'), ('ce', 'DET'), ('sport', 'NOUN'), (\"qu'\", 'SCONJ'), ('on', 'PRON'), ('les', 'PRON'), ('considére', 'VERB'), ('presque', 'ADV'), ('comme', 'ADP'), ('la', 'DET'), ('routine', 'NOUN'), ('.', 'PUNCT')], [(\"L'\", 'DET'), ('œuvre', 'NOUN'), ('est', 'AUX'), ('située', 'VERB'), ('dans', 'ADP'), ('la', 'DET'), ('galerie', 'NOUN'), ('des', '_'), ('de', 'ADP'), ('les', 'DET'), ('batailles', 'NOUN'), (',', 'PUNCT'), ('dans', 'ADP'), ('le', 'DET'), ('château', 'NOUN'), ('de', 'ADP'), ('Versailles', 'PROPN'), ('.', 'PUNCT')], ...]\n"
     ]
    }
   ],
   "source": [
    "data_path = './input_data'\n",
    "\n",
    "train_data = ConllCorpusReader(data_path, 'fr-ud-train.conllu', columntypes=['ignore', 'words', 'ignore', 'pos'], encoding='utf-8', separator=\"\\t\")\n",
    "test_data = ConllCorpusReader(data_path, 'fr-ud-test.conllu', columntypes=['ignore', 'words', 'ignore', 'pos'], encoding='utf-8', separator=\"\\t\")   \n",
    "print(train_data.tagged_sents())"
   ]
  },
  {
   "cell_type": "markdown",
   "metadata": {},
   "source": [
    "**5b.** Pour entraîner un POS tagger du type Averaged Perceptron, vous utiliserez le sous-module `nltk.tag.perceptron` du [module NLTK contenant les taggers](http://www.nltk.org/api/nltk.tag.html).  Les fonctions d'entraînement et de test sont documentées dans ce module.  Après l'entraînement, le réseau de neurones est enregistré dans un fichier `.pickle`, qui est écrasé à chaque entraînement si vous n'en faites pas une copie.  On peut également lire un fichier `.pickle` dans un tagger.\n",
    "\n",
    "Veuillez écrire le code pour entraîner le POS tagger sur les données d'entraînement.  Comme au (4), pensez augmenter graduellement le nombre d'époques (appelées 'itérations' dans NLTK).\n",
    "\n",
    "Combien de temps prend l'entraînement ?  Quelle est la taille du fichier enregistré ?"
   ]
  },
  {
   "cell_type": "code",
   "execution_count": 40,
   "metadata": {
    "ExecuteTime": {
     "end_time": "2025-03-11T10:45:17.669265Z",
     "start_time": "2025-03-11T10:45:16.942516Z"
    }
   },
   "outputs": [
    {
     "name": "stderr",
     "output_type": "stream",
     "text": [
      "[nltk_data] Downloading package averaged_perceptron_tagger to\n",
      "[nltk_data]     /Users/mehdibenzekri/nltk_data...\n",
      "[nltk_data]   Package averaged_perceptron_tagger is already up-to-\n",
      "[nltk_data]       date!\n"
     ]
    }
   ],
   "source": [
    "import os\n",
    "import nltk\n",
    "nltk.download('averaged_perceptron_tagger') # à exécuter la première fois\n",
    "from nltk.tag.perceptron import PerceptronTagger"
   ]
  },
  {
   "cell_type": "code",
   "execution_count": 41,
   "metadata": {},
   "outputs": [],
   "source": [
    "from perceptron_patched import PerceptronTagger"
   ]
  },
  {
   "cell_type": "code",
   "execution_count": 42,
   "metadata": {
    "ExecuteTime": {
     "end_time": "2025-03-11T10:46:51.135431Z",
     "start_time": "2025-03-11T10:46:51.122671Z"
    }
   },
   "outputs": [],
   "source": [
    "ptagger = PerceptronTagger(load=False)"
   ]
  },
  {
   "cell_type": "code",
   "execution_count": 43,
   "metadata": {},
   "outputs": [],
   "source": [
    "import time\n",
    "import os"
   ]
  },
  {
   "cell_type": "code",
   "execution_count": 44,
   "metadata": {},
   "outputs": [
    {
     "name": "stdout",
     "output_type": "stream",
     "text": [
      "Training time: 15.75 seconds\n"
     ]
    }
   ],
   "source": [
    "start_time = time.time()\n",
    "ptagger.train(train_data.tagged_sents())\n",
    "elapsed_time = time.time() - start_time\n",
    "print(f\"Training time: {elapsed_time:.2f} seconds\")"
   ]
  },
  {
   "cell_type": "code",
   "execution_count": 45,
   "metadata": {},
   "outputs": [],
   "source": [
    "import pickle"
   ]
  },
  {
   "cell_type": "code",
   "execution_count": 46,
   "metadata": {},
   "outputs": [
    {
     "name": "stdout",
     "output_type": "stream",
     "text": [
      "Model size: 12.12 MB\n"
     ]
    }
   ],
   "source": [
    "# Sauvegarder le modèle dans un fichier .pickle\n",
    "model_path = './pos_tagger_model.pickle'\n",
    "with open(model_path, 'wb') as f:\n",
    "    pickle.dump(ptagger, f)\n",
    "\n",
    "# Afficher la taille du fichier enregistré\n",
    "model_size = os.path.getsize(model_path) / (1024 * 1024)  # Taille en Mo\n",
    "print(f\"Model size: {model_size:.2f} MB\")"
   ]
  },
  {
   "cell_type": "markdown",
   "metadata": {},
   "source": [
    "**5c.** Veuillez évaluer le tagger sur les données de test et afficher le taux de correction."
   ]
  },
  {
   "cell_type": "code",
   "execution_count": 47,
   "metadata": {},
   "outputs": [],
   "source": [
    "from sklearn.metrics import accuracy_score, classification_report"
   ]
  },
  {
   "cell_type": "code",
   "execution_count": 48,
   "metadata": {},
   "outputs": [
    {
     "name": "stdout",
     "output_type": "stream",
     "text": [
      "Accuracy: 0.96\n"
     ]
    },
    {
     "name": "stderr",
     "output_type": "stream",
     "text": [
      "/var/folders/28/2dlsrphn16g4ns2q8cfthd_r0000gn/T/ipykernel_40767/353095571.py:6: DeprecationWarning: \n",
      "  Function evaluate() has been deprecated.  Use accuracy(gold)\n",
      "  instead.\n",
      "  accuracy = ptagger.evaluate(test_data.tagged_sents())\n"
     ]
    }
   ],
   "source": [
    "# Charger le modèle enregistré\n",
    "with open(model_path, 'rb') as f:\n",
    "    ptagger = pickle.load(f)\n",
    "\n",
    "# Évaluer le modèle sur les données de test\n",
    "accuracy = ptagger.evaluate(test_data.tagged_sents())\n",
    "\n",
    "# Afficher le taux de correction\n",
    "print(f\"Accuracy: {accuracy:.2f}\")"
   ]
  },
  {
   "cell_type": "markdown",
   "metadata": {},
   "source": [
    "## 6. Conclusion\n",
    "\n",
    "\n",
    "| spaCy (partie 3) | spaCy (partie 4) | NLTK (partie 5) | \n",
    "|------------------|------------------|-----------------|\n",
    "| tagger fourni    | tagger entraîné  | tagger entraîné |\n",
    "| 0.91             | 0.94             | 0.96            |\n"
   ]
  },
  {
   "cell_type": "markdown",
   "metadata": {},
   "source": [
    "> 1. Le tagger fourni de spaCy est celui possédant la précision la plus basse, en deça même de ce qui est indiqué dans la documentation.\n",
    "> Cela peut être expliqué par la taille de notre corpus, tant entraînement que de test, relativement petit.\n",
    "> 2. Sans surprise, nous arrivons à des meilleurs résultats avec entraînement que sans.\n",
    "> Jusqu'à éventuellement atteindre un point d'overfitting, mais ce n'est pas notre cas ici.\n",
    "> 3. Le tagger NLTK obtient des meilleurs résultats, probablement dû à sa spécialisation dans cette tâche de POS tagging, là où spaCy est plus généraliste."
   ]
  }
 ],
 "metadata": {
  "kernelspec": {
   "display_name": "base",
   "language": "python",
   "name": "python3"
  },
  "language_info": {
   "codemirror_mode": {
    "name": "ipython",
    "version": 3
   },
   "file_extension": ".py",
   "mimetype": "text/x-python",
   "name": "python",
   "nbconvert_exporter": "python",
   "pygments_lexer": "ipython3",
   "version": "3.12.7"
  }
 },
 "nbformat": 4,
 "nbformat_minor": 4
}
